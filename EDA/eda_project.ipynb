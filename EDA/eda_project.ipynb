{
 "cells": [
  {
   "cell_type": "code",
   "execution_count": 1,
   "id": "cfbad84b-51d2-4474-9fed-d0763cc0bfff",
   "metadata": {},
   "outputs": [],
   "source": [
    "import pandas as pd\n",
    "import numpy as np\n",
    "import matplotlib.pyplot as plt\n",
    "import seaborn as sns"
   ]
  },
  {
   "cell_type": "code",
   "execution_count": 3,
   "id": "1606acd5-c2fa-41a8-a0fa-9dbfe3e58a51",
   "metadata": {},
   "outputs": [],
   "source": [
    "data=pd.read_csv('telangana_vehicle_sales_July.csv')"
   ]
  },
  {
   "cell_type": "code",
   "execution_count": 5,
   "id": "df197c6b-5fae-4b99-9346-b9a2d6435cc9",
   "metadata": {},
   "outputs": [
    {
     "data": {
      "text/html": [
       "<div>\n",
       "<style scoped>\n",
       "    .dataframe tbody tr th:only-of-type {\n",
       "        vertical-align: middle;\n",
       "    }\n",
       "\n",
       "    .dataframe tbody tr th {\n",
       "        vertical-align: top;\n",
       "    }\n",
       "\n",
       "    .dataframe thead th {\n",
       "        text-align: right;\n",
       "    }\n",
       "</style>\n",
       "<table border=\"1\" class=\"dataframe\">\n",
       "  <thead>\n",
       "    <tr style=\"text-align: right;\">\n",
       "      <th></th>\n",
       "      <th>slno</th>\n",
       "      <th>modelDesc</th>\n",
       "      <th>fuel</th>\n",
       "      <th>colour</th>\n",
       "      <th>vehicleClass</th>\n",
       "      <th>makeYear</th>\n",
       "      <th>seatCapacity</th>\n",
       "      <th>insuranceValidity</th>\n",
       "      <th>secondVehicle</th>\n",
       "      <th>tempRegistrationNumber</th>\n",
       "      <th>category</th>\n",
       "      <th>makerName</th>\n",
       "      <th>OfficeCd</th>\n",
       "      <th>fromdate</th>\n",
       "      <th>todate</th>\n",
       "    </tr>\n",
       "  </thead>\n",
       "  <tbody>\n",
       "    <tr>\n",
       "      <th>0</th>\n",
       "      <td>8244</td>\n",
       "      <td>S7 5100 SCHOOL BUS 53 SEATER BSVI</td>\n",
       "      <td>DIESEL</td>\n",
       "      <td>GOLDEN YELLOW</td>\n",
       "      <td>Ominibus</td>\n",
       "      <td>01/03/2023</td>\n",
       "      <td>53</td>\n",
       "      <td>30/06/2024</td>\n",
       "      <td>N</td>\n",
       "      <td>TS31FTR5866</td>\n",
       "      <td>Transport</td>\n",
       "      <td>M/S SML ISUZU LIMITED</td>\n",
       "      <td>RTA NAGARKURNOOL</td>\n",
       "      <td>01/07/2023</td>\n",
       "      <td>02/07/2023</td>\n",
       "    </tr>\n",
       "    <tr>\n",
       "      <th>1</th>\n",
       "      <td>9998</td>\n",
       "      <td>SUPREME 4760 ZT54E DELWB SCHOOL BUS 40 BSVI</td>\n",
       "      <td>DIESEL</td>\n",
       "      <td>GOLDEN YELLOW</td>\n",
       "      <td>Ominibus</td>\n",
       "      <td>01/10/2022</td>\n",
       "      <td>40</td>\n",
       "      <td>29/06/2024</td>\n",
       "      <td>N</td>\n",
       "      <td>TS13HTR2446</td>\n",
       "      <td>Transport</td>\n",
       "      <td>M/S SML ISUZU LIMITED</td>\n",
       "      <td>RTA MEDCHAL</td>\n",
       "      <td>01/07/2023</td>\n",
       "      <td>02/07/2023</td>\n",
       "    </tr>\n",
       "    <tr>\n",
       "      <th>2</th>\n",
       "      <td>133998</td>\n",
       "      <td>ACTIVA-DLX BSVI-PH2</td>\n",
       "      <td>PETROL</td>\n",
       "      <td>DECENT BLUE METALLIC</td>\n",
       "      <td>MOTOR CYCLE</td>\n",
       "      <td>01/03/2023</td>\n",
       "      <td>2</td>\n",
       "      <td>30/06/2028</td>\n",
       "      <td>N</td>\n",
       "      <td>TS11AHTR6148</td>\n",
       "      <td>Non Transport</td>\n",
       "      <td>HONDA MOTORCYCLE&amp;SCOOTER(I)P L</td>\n",
       "      <td>RTA MEDCHAL</td>\n",
       "      <td>01/07/2023</td>\n",
       "      <td>02/07/2023</td>\n",
       "    </tr>\n",
       "    <tr>\n",
       "      <th>3</th>\n",
       "      <td>134058</td>\n",
       "      <td>ACTIVA-DLX BSVI-PH2</td>\n",
       "      <td>PETROL</td>\n",
       "      <td>DECENT BLUE METALLIC</td>\n",
       "      <td>MOTOR CYCLE</td>\n",
       "      <td>01/04/2023</td>\n",
       "      <td>2</td>\n",
       "      <td>30/06/2028</td>\n",
       "      <td>N</td>\n",
       "      <td>TS11AHTR6130</td>\n",
       "      <td>Non Transport</td>\n",
       "      <td>HONDA MOTORCYCLE&amp;SCOOTER(I)P L</td>\n",
       "      <td>RTA MEDCHAL</td>\n",
       "      <td>01/07/2023</td>\n",
       "      <td>02/07/2023</td>\n",
       "    </tr>\n",
       "    <tr>\n",
       "      <th>4</th>\n",
       "      <td>134078</td>\n",
       "      <td>ACTIVA-DLX BSVI-PH2</td>\n",
       "      <td>PETROL</td>\n",
       "      <td>DECENT BLUE METALLIC</td>\n",
       "      <td>MOTOR CYCLE</td>\n",
       "      <td>01/05/2023</td>\n",
       "      <td>2</td>\n",
       "      <td>30/06/2028</td>\n",
       "      <td>N</td>\n",
       "      <td>TS11AHTR6183</td>\n",
       "      <td>Non Transport</td>\n",
       "      <td>HONDA MOTORCYCLE&amp;SCOOTER(I)P L</td>\n",
       "      <td>RTA-HYDERABAD-SZ</td>\n",
       "      <td>01/07/2023</td>\n",
       "      <td>02/07/2023</td>\n",
       "    </tr>\n",
       "    <tr>\n",
       "      <th>...</th>\n",
       "      <td>...</td>\n",
       "      <td>...</td>\n",
       "      <td>...</td>\n",
       "      <td>...</td>\n",
       "      <td>...</td>\n",
       "      <td>...</td>\n",
       "      <td>...</td>\n",
       "      <td>...</td>\n",
       "      <td>...</td>\n",
       "      <td>...</td>\n",
       "      <td>...</td>\n",
       "      <td>...</td>\n",
       "      <td>...</td>\n",
       "      <td>...</td>\n",
       "      <td>...</td>\n",
       "    </tr>\n",
       "    <tr>\n",
       "      <th>145805</th>\n",
       "      <td>12141272</td>\n",
       "      <td>MAHINDRA XUV400 EL 5S BOV</td>\n",
       "      <td>BATTERY</td>\n",
       "      <td>EVRSTWHT</td>\n",
       "      <td>MOTOR CAR</td>\n",
       "      <td>01/04/2023</td>\n",
       "      <td>5</td>\n",
       "      <td>30/07/2026</td>\n",
       "      <td>N</td>\n",
       "      <td>TS09GDTR2708</td>\n",
       "      <td>Non Transport</td>\n",
       "      <td>MAHINDRA &amp; MAHINDRA LTD</td>\n",
       "      <td>RTA UPPAL</td>\n",
       "      <td>30/07/2023</td>\n",
       "      <td>31/07/2023</td>\n",
       "    </tr>\n",
       "    <tr>\n",
       "      <th>145806</th>\n",
       "      <td>12197068</td>\n",
       "      <td>ACCESS 125 DISC BT(ALLOY WHEEL). BSVI-PH2</td>\n",
       "      <td>PETROL</td>\n",
       "      <td>ICE GREEN PEARL WHITE</td>\n",
       "      <td>MOTOR CYCLE</td>\n",
       "      <td>01/07/2023</td>\n",
       "      <td>2</td>\n",
       "      <td>30/07/2028</td>\n",
       "      <td>N</td>\n",
       "      <td>TS15AKTR3904</td>\n",
       "      <td>Non Transport</td>\n",
       "      <td>SUZUKI MOTORCYCLE (I) PVT LTD</td>\n",
       "      <td>UNIT OFFICE PATANCHERUVU</td>\n",
       "      <td>30/07/2023</td>\n",
       "      <td>31/07/2023</td>\n",
       "    </tr>\n",
       "    <tr>\n",
       "      <th>145807</th>\n",
       "      <td>12005891</td>\n",
       "      <td>605DI MS S+V1ARJUNNOVO 4WD(9.5X16,16.9X28) BSIIIA</td>\n",
       "      <td>DIESEL</td>\n",
       "      <td>RED</td>\n",
       "      <td>Tractor for Agricultural Purpose</td>\n",
       "      <td>01/05/2023</td>\n",
       "      <td>1</td>\n",
       "      <td>30/07/2024</td>\n",
       "      <td>N</td>\n",
       "      <td>TS25FTR6115</td>\n",
       "      <td>Non Transport</td>\n",
       "      <td>MAHINDRA &amp; MAHINDRA LTD,</td>\n",
       "      <td>RTA JAYASHANKAR</td>\n",
       "      <td>30/07/2023</td>\n",
       "      <td>31/07/2023</td>\n",
       "    </tr>\n",
       "    <tr>\n",
       "      <th>145808</th>\n",
       "      <td>12087812</td>\n",
       "      <td>MAHINDRA BOLERO B4 BS-VI BSVI-PH2</td>\n",
       "      <td>DIESEL</td>\n",
       "      <td>WHITE</td>\n",
       "      <td>Motor Cab</td>\n",
       "      <td>01/06/2023</td>\n",
       "      <td>7</td>\n",
       "      <td>30/07/2024</td>\n",
       "      <td>N</td>\n",
       "      <td>TS04ANTR0646</td>\n",
       "      <td>Transport</td>\n",
       "      <td>MAHINDRA &amp; MAHINDRA LTD</td>\n",
       "      <td>RTA BHADRADRI</td>\n",
       "      <td>30/07/2023</td>\n",
       "      <td>31/07/2023</td>\n",
       "    </tr>\n",
       "    <tr>\n",
       "      <th>145809</th>\n",
       "      <td>12109630</td>\n",
       "      <td>JOHN DEERE 5039D V2 BSIIIA</td>\n",
       "      <td>DIESEL</td>\n",
       "      <td>GREEN</td>\n",
       "      <td>Tractor for Commercial Use</td>\n",
       "      <td>01/06/2023</td>\n",
       "      <td>1</td>\n",
       "      <td>30/07/2024</td>\n",
       "      <td>N</td>\n",
       "      <td>TS04ANTR0675</td>\n",
       "      <td>Transport</td>\n",
       "      <td>JOHN DEERE INDIA PVT LIMITED</td>\n",
       "      <td>RTA BHADRADRI</td>\n",
       "      <td>30/07/2023</td>\n",
       "      <td>31/07/2023</td>\n",
       "    </tr>\n",
       "  </tbody>\n",
       "</table>\n",
       "<p>145810 rows × 15 columns</p>\n",
       "</div>"
      ],
      "text/plain": [
       "            slno                                          modelDesc     fuel  \\\n",
       "0           8244                  S7 5100 SCHOOL BUS 53 SEATER BSVI   DIESEL   \n",
       "1           9998        SUPREME 4760 ZT54E DELWB SCHOOL BUS 40 BSVI   DIESEL   \n",
       "2         133998                                ACTIVA-DLX BSVI-PH2   PETROL   \n",
       "3         134058                                ACTIVA-DLX BSVI-PH2   PETROL   \n",
       "4         134078                                ACTIVA-DLX BSVI-PH2   PETROL   \n",
       "...          ...                                                ...      ...   \n",
       "145805  12141272                          MAHINDRA XUV400 EL 5S BOV  BATTERY   \n",
       "145806  12197068          ACCESS 125 DISC BT(ALLOY WHEEL). BSVI-PH2   PETROL   \n",
       "145807  12005891  605DI MS S+V1ARJUNNOVO 4WD(9.5X16,16.9X28) BSIIIA   DIESEL   \n",
       "145808  12087812                  MAHINDRA BOLERO B4 BS-VI BSVI-PH2   DIESEL   \n",
       "145809  12109630                         JOHN DEERE 5039D V2 BSIIIA   DIESEL   \n",
       "\n",
       "                       colour                      vehicleClass    makeYear  \\\n",
       "0               GOLDEN YELLOW                          Ominibus  01/03/2023   \n",
       "1               GOLDEN YELLOW                          Ominibus  01/10/2022   \n",
       "2        DECENT BLUE METALLIC                       MOTOR CYCLE  01/03/2023   \n",
       "3        DECENT BLUE METALLIC                       MOTOR CYCLE  01/04/2023   \n",
       "4        DECENT BLUE METALLIC                       MOTOR CYCLE  01/05/2023   \n",
       "...                       ...                               ...         ...   \n",
       "145805               EVRSTWHT                         MOTOR CAR  01/04/2023   \n",
       "145806  ICE GREEN PEARL WHITE                       MOTOR CYCLE  01/07/2023   \n",
       "145807                    RED  Tractor for Agricultural Purpose  01/05/2023   \n",
       "145808                  WHITE                         Motor Cab  01/06/2023   \n",
       "145809                  GREEN        Tractor for Commercial Use  01/06/2023   \n",
       "\n",
       "        seatCapacity insuranceValidity secondVehicle tempRegistrationNumber  \\\n",
       "0                 53        30/06/2024             N            TS31FTR5866   \n",
       "1                 40        29/06/2024             N            TS13HTR2446   \n",
       "2                  2        30/06/2028             N           TS11AHTR6148   \n",
       "3                  2        30/06/2028             N           TS11AHTR6130   \n",
       "4                  2        30/06/2028             N           TS11AHTR6183   \n",
       "...              ...               ...           ...                    ...   \n",
       "145805             5        30/07/2026             N           TS09GDTR2708   \n",
       "145806             2        30/07/2028             N           TS15AKTR3904   \n",
       "145807             1        30/07/2024             N            TS25FTR6115   \n",
       "145808             7        30/07/2024             N           TS04ANTR0646   \n",
       "145809             1        30/07/2024             N           TS04ANTR0675   \n",
       "\n",
       "             category                       makerName  \\\n",
       "0           Transport           M/S SML ISUZU LIMITED   \n",
       "1           Transport           M/S SML ISUZU LIMITED   \n",
       "2       Non Transport  HONDA MOTORCYCLE&SCOOTER(I)P L   \n",
       "3       Non Transport  HONDA MOTORCYCLE&SCOOTER(I)P L   \n",
       "4       Non Transport  HONDA MOTORCYCLE&SCOOTER(I)P L   \n",
       "...               ...                             ...   \n",
       "145805  Non Transport         MAHINDRA & MAHINDRA LTD   \n",
       "145806  Non Transport   SUZUKI MOTORCYCLE (I) PVT LTD   \n",
       "145807  Non Transport        MAHINDRA & MAHINDRA LTD,   \n",
       "145808      Transport         MAHINDRA & MAHINDRA LTD   \n",
       "145809      Transport    JOHN DEERE INDIA PVT LIMITED   \n",
       "\n",
       "                        OfficeCd    fromdate      todate  \n",
       "0               RTA NAGARKURNOOL  01/07/2023  02/07/2023  \n",
       "1                    RTA MEDCHAL  01/07/2023  02/07/2023  \n",
       "2                    RTA MEDCHAL  01/07/2023  02/07/2023  \n",
       "3                    RTA MEDCHAL  01/07/2023  02/07/2023  \n",
       "4               RTA-HYDERABAD-SZ  01/07/2023  02/07/2023  \n",
       "...                          ...         ...         ...  \n",
       "145805                 RTA UPPAL  30/07/2023  31/07/2023  \n",
       "145806  UNIT OFFICE PATANCHERUVU  30/07/2023  31/07/2023  \n",
       "145807           RTA JAYASHANKAR  30/07/2023  31/07/2023  \n",
       "145808             RTA BHADRADRI  30/07/2023  31/07/2023  \n",
       "145809             RTA BHADRADRI  30/07/2023  31/07/2023  \n",
       "\n",
       "[145810 rows x 15 columns]"
      ]
     },
     "execution_count": 5,
     "metadata": {},
     "output_type": "execute_result"
    }
   ],
   "source": [
    "data"
   ]
  },
  {
   "cell_type": "code",
   "execution_count": 7,
   "id": "77e47cb8-328f-4c59-9274-e122a126b61b",
   "metadata": {},
   "outputs": [
    {
     "data": {
      "text/plain": [
       "(145810, 15)"
      ]
     },
     "execution_count": 7,
     "metadata": {},
     "output_type": "execute_result"
    }
   ],
   "source": [
    "data.shape"
   ]
  },
  {
   "cell_type": "code",
   "execution_count": 9,
   "id": "81a040e1-d18b-4f5f-84ad-0f040c1fefab",
   "metadata": {},
   "outputs": [
    {
     "data": {
      "text/html": [
       "<div>\n",
       "<style scoped>\n",
       "    .dataframe tbody tr th:only-of-type {\n",
       "        vertical-align: middle;\n",
       "    }\n",
       "\n",
       "    .dataframe tbody tr th {\n",
       "        vertical-align: top;\n",
       "    }\n",
       "\n",
       "    .dataframe thead th {\n",
       "        text-align: right;\n",
       "    }\n",
       "</style>\n",
       "<table border=\"1\" class=\"dataframe\">\n",
       "  <thead>\n",
       "    <tr style=\"text-align: right;\">\n",
       "      <th></th>\n",
       "      <th>slno</th>\n",
       "      <th>modelDesc</th>\n",
       "      <th>fuel</th>\n",
       "      <th>colour</th>\n",
       "      <th>vehicleClass</th>\n",
       "      <th>makeYear</th>\n",
       "      <th>seatCapacity</th>\n",
       "      <th>insuranceValidity</th>\n",
       "      <th>secondVehicle</th>\n",
       "      <th>tempRegistrationNumber</th>\n",
       "      <th>category</th>\n",
       "      <th>makerName</th>\n",
       "      <th>OfficeCd</th>\n",
       "      <th>fromdate</th>\n",
       "      <th>todate</th>\n",
       "    </tr>\n",
       "  </thead>\n",
       "  <tbody>\n",
       "    <tr>\n",
       "      <th>0</th>\n",
       "      <td>8244</td>\n",
       "      <td>S7 5100 SCHOOL BUS 53 SEATER BSVI</td>\n",
       "      <td>DIESEL</td>\n",
       "      <td>GOLDEN YELLOW</td>\n",
       "      <td>Ominibus</td>\n",
       "      <td>01/03/2023</td>\n",
       "      <td>53</td>\n",
       "      <td>30/06/2024</td>\n",
       "      <td>N</td>\n",
       "      <td>TS31FTR5866</td>\n",
       "      <td>Transport</td>\n",
       "      <td>M/S SML ISUZU LIMITED</td>\n",
       "      <td>RTA NAGARKURNOOL</td>\n",
       "      <td>01/07/2023</td>\n",
       "      <td>02/07/2023</td>\n",
       "    </tr>\n",
       "    <tr>\n",
       "      <th>1</th>\n",
       "      <td>9998</td>\n",
       "      <td>SUPREME 4760 ZT54E DELWB SCHOOL BUS 40 BSVI</td>\n",
       "      <td>DIESEL</td>\n",
       "      <td>GOLDEN YELLOW</td>\n",
       "      <td>Ominibus</td>\n",
       "      <td>01/10/2022</td>\n",
       "      <td>40</td>\n",
       "      <td>29/06/2024</td>\n",
       "      <td>N</td>\n",
       "      <td>TS13HTR2446</td>\n",
       "      <td>Transport</td>\n",
       "      <td>M/S SML ISUZU LIMITED</td>\n",
       "      <td>RTA MEDCHAL</td>\n",
       "      <td>01/07/2023</td>\n",
       "      <td>02/07/2023</td>\n",
       "    </tr>\n",
       "    <tr>\n",
       "      <th>2</th>\n",
       "      <td>133998</td>\n",
       "      <td>ACTIVA-DLX BSVI-PH2</td>\n",
       "      <td>PETROL</td>\n",
       "      <td>DECENT BLUE METALLIC</td>\n",
       "      <td>MOTOR CYCLE</td>\n",
       "      <td>01/03/2023</td>\n",
       "      <td>2</td>\n",
       "      <td>30/06/2028</td>\n",
       "      <td>N</td>\n",
       "      <td>TS11AHTR6148</td>\n",
       "      <td>Non Transport</td>\n",
       "      <td>HONDA MOTORCYCLE&amp;SCOOTER(I)P L</td>\n",
       "      <td>RTA MEDCHAL</td>\n",
       "      <td>01/07/2023</td>\n",
       "      <td>02/07/2023</td>\n",
       "    </tr>\n",
       "    <tr>\n",
       "      <th>3</th>\n",
       "      <td>134058</td>\n",
       "      <td>ACTIVA-DLX BSVI-PH2</td>\n",
       "      <td>PETROL</td>\n",
       "      <td>DECENT BLUE METALLIC</td>\n",
       "      <td>MOTOR CYCLE</td>\n",
       "      <td>01/04/2023</td>\n",
       "      <td>2</td>\n",
       "      <td>30/06/2028</td>\n",
       "      <td>N</td>\n",
       "      <td>TS11AHTR6130</td>\n",
       "      <td>Non Transport</td>\n",
       "      <td>HONDA MOTORCYCLE&amp;SCOOTER(I)P L</td>\n",
       "      <td>RTA MEDCHAL</td>\n",
       "      <td>01/07/2023</td>\n",
       "      <td>02/07/2023</td>\n",
       "    </tr>\n",
       "    <tr>\n",
       "      <th>4</th>\n",
       "      <td>134078</td>\n",
       "      <td>ACTIVA-DLX BSVI-PH2</td>\n",
       "      <td>PETROL</td>\n",
       "      <td>DECENT BLUE METALLIC</td>\n",
       "      <td>MOTOR CYCLE</td>\n",
       "      <td>01/05/2023</td>\n",
       "      <td>2</td>\n",
       "      <td>30/06/2028</td>\n",
       "      <td>N</td>\n",
       "      <td>TS11AHTR6183</td>\n",
       "      <td>Non Transport</td>\n",
       "      <td>HONDA MOTORCYCLE&amp;SCOOTER(I)P L</td>\n",
       "      <td>RTA-HYDERABAD-SZ</td>\n",
       "      <td>01/07/2023</td>\n",
       "      <td>02/07/2023</td>\n",
       "    </tr>\n",
       "  </tbody>\n",
       "</table>\n",
       "</div>"
      ],
      "text/plain": [
       "     slno                                    modelDesc    fuel  \\\n",
       "0    8244            S7 5100 SCHOOL BUS 53 SEATER BSVI  DIESEL   \n",
       "1    9998  SUPREME 4760 ZT54E DELWB SCHOOL BUS 40 BSVI  DIESEL   \n",
       "2  133998                          ACTIVA-DLX BSVI-PH2  PETROL   \n",
       "3  134058                          ACTIVA-DLX BSVI-PH2  PETROL   \n",
       "4  134078                          ACTIVA-DLX BSVI-PH2  PETROL   \n",
       "\n",
       "                 colour vehicleClass    makeYear  seatCapacity  \\\n",
       "0         GOLDEN YELLOW     Ominibus  01/03/2023            53   \n",
       "1         GOLDEN YELLOW     Ominibus  01/10/2022            40   \n",
       "2  DECENT BLUE METALLIC  MOTOR CYCLE  01/03/2023             2   \n",
       "3  DECENT BLUE METALLIC  MOTOR CYCLE  01/04/2023             2   \n",
       "4  DECENT BLUE METALLIC  MOTOR CYCLE  01/05/2023             2   \n",
       "\n",
       "  insuranceValidity secondVehicle tempRegistrationNumber       category  \\\n",
       "0        30/06/2024             N            TS31FTR5866      Transport   \n",
       "1        29/06/2024             N            TS13HTR2446      Transport   \n",
       "2        30/06/2028             N           TS11AHTR6148  Non Transport   \n",
       "3        30/06/2028             N           TS11AHTR6130  Non Transport   \n",
       "4        30/06/2028             N           TS11AHTR6183  Non Transport   \n",
       "\n",
       "                        makerName          OfficeCd    fromdate      todate  \n",
       "0           M/S SML ISUZU LIMITED  RTA NAGARKURNOOL  01/07/2023  02/07/2023  \n",
       "1           M/S SML ISUZU LIMITED       RTA MEDCHAL  01/07/2023  02/07/2023  \n",
       "2  HONDA MOTORCYCLE&SCOOTER(I)P L       RTA MEDCHAL  01/07/2023  02/07/2023  \n",
       "3  HONDA MOTORCYCLE&SCOOTER(I)P L       RTA MEDCHAL  01/07/2023  02/07/2023  \n",
       "4  HONDA MOTORCYCLE&SCOOTER(I)P L  RTA-HYDERABAD-SZ  01/07/2023  02/07/2023  "
      ]
     },
     "execution_count": 9,
     "metadata": {},
     "output_type": "execute_result"
    }
   ],
   "source": [
    "data.head()"
   ]
  },
  {
   "cell_type": "code",
   "execution_count": 11,
   "id": "7b09049a-62e8-40f3-8451-796ef9b80423",
   "metadata": {},
   "outputs": [
    {
     "data": {
      "text/html": [
       "<div>\n",
       "<style scoped>\n",
       "    .dataframe tbody tr th:only-of-type {\n",
       "        vertical-align: middle;\n",
       "    }\n",
       "\n",
       "    .dataframe tbody tr th {\n",
       "        vertical-align: top;\n",
       "    }\n",
       "\n",
       "    .dataframe thead th {\n",
       "        text-align: right;\n",
       "    }\n",
       "</style>\n",
       "<table border=\"1\" class=\"dataframe\">\n",
       "  <thead>\n",
       "    <tr style=\"text-align: right;\">\n",
       "      <th></th>\n",
       "      <th>slno</th>\n",
       "      <th>modelDesc</th>\n",
       "      <th>fuel</th>\n",
       "      <th>colour</th>\n",
       "      <th>vehicleClass</th>\n",
       "      <th>makeYear</th>\n",
       "      <th>seatCapacity</th>\n",
       "      <th>insuranceValidity</th>\n",
       "      <th>secondVehicle</th>\n",
       "      <th>tempRegistrationNumber</th>\n",
       "      <th>category</th>\n",
       "      <th>makerName</th>\n",
       "      <th>OfficeCd</th>\n",
       "      <th>fromdate</th>\n",
       "      <th>todate</th>\n",
       "    </tr>\n",
       "  </thead>\n",
       "  <tbody>\n",
       "    <tr>\n",
       "      <th>145805</th>\n",
       "      <td>12141272</td>\n",
       "      <td>MAHINDRA XUV400 EL 5S BOV</td>\n",
       "      <td>BATTERY</td>\n",
       "      <td>EVRSTWHT</td>\n",
       "      <td>MOTOR CAR</td>\n",
       "      <td>01/04/2023</td>\n",
       "      <td>5</td>\n",
       "      <td>30/07/2026</td>\n",
       "      <td>N</td>\n",
       "      <td>TS09GDTR2708</td>\n",
       "      <td>Non Transport</td>\n",
       "      <td>MAHINDRA &amp; MAHINDRA LTD</td>\n",
       "      <td>RTA UPPAL</td>\n",
       "      <td>30/07/2023</td>\n",
       "      <td>31/07/2023</td>\n",
       "    </tr>\n",
       "    <tr>\n",
       "      <th>145806</th>\n",
       "      <td>12197068</td>\n",
       "      <td>ACCESS 125 DISC BT(ALLOY WHEEL). BSVI-PH2</td>\n",
       "      <td>PETROL</td>\n",
       "      <td>ICE GREEN PEARL WHITE</td>\n",
       "      <td>MOTOR CYCLE</td>\n",
       "      <td>01/07/2023</td>\n",
       "      <td>2</td>\n",
       "      <td>30/07/2028</td>\n",
       "      <td>N</td>\n",
       "      <td>TS15AKTR3904</td>\n",
       "      <td>Non Transport</td>\n",
       "      <td>SUZUKI MOTORCYCLE (I) PVT LTD</td>\n",
       "      <td>UNIT OFFICE PATANCHERUVU</td>\n",
       "      <td>30/07/2023</td>\n",
       "      <td>31/07/2023</td>\n",
       "    </tr>\n",
       "    <tr>\n",
       "      <th>145807</th>\n",
       "      <td>12005891</td>\n",
       "      <td>605DI MS S+V1ARJUNNOVO 4WD(9.5X16,16.9X28) BSIIIA</td>\n",
       "      <td>DIESEL</td>\n",
       "      <td>RED</td>\n",
       "      <td>Tractor for Agricultural Purpose</td>\n",
       "      <td>01/05/2023</td>\n",
       "      <td>1</td>\n",
       "      <td>30/07/2024</td>\n",
       "      <td>N</td>\n",
       "      <td>TS25FTR6115</td>\n",
       "      <td>Non Transport</td>\n",
       "      <td>MAHINDRA &amp; MAHINDRA LTD,</td>\n",
       "      <td>RTA JAYASHANKAR</td>\n",
       "      <td>30/07/2023</td>\n",
       "      <td>31/07/2023</td>\n",
       "    </tr>\n",
       "    <tr>\n",
       "      <th>145808</th>\n",
       "      <td>12087812</td>\n",
       "      <td>MAHINDRA BOLERO B4 BS-VI BSVI-PH2</td>\n",
       "      <td>DIESEL</td>\n",
       "      <td>WHITE</td>\n",
       "      <td>Motor Cab</td>\n",
       "      <td>01/06/2023</td>\n",
       "      <td>7</td>\n",
       "      <td>30/07/2024</td>\n",
       "      <td>N</td>\n",
       "      <td>TS04ANTR0646</td>\n",
       "      <td>Transport</td>\n",
       "      <td>MAHINDRA &amp; MAHINDRA LTD</td>\n",
       "      <td>RTA BHADRADRI</td>\n",
       "      <td>30/07/2023</td>\n",
       "      <td>31/07/2023</td>\n",
       "    </tr>\n",
       "    <tr>\n",
       "      <th>145809</th>\n",
       "      <td>12109630</td>\n",
       "      <td>JOHN DEERE 5039D V2 BSIIIA</td>\n",
       "      <td>DIESEL</td>\n",
       "      <td>GREEN</td>\n",
       "      <td>Tractor for Commercial Use</td>\n",
       "      <td>01/06/2023</td>\n",
       "      <td>1</td>\n",
       "      <td>30/07/2024</td>\n",
       "      <td>N</td>\n",
       "      <td>TS04ANTR0675</td>\n",
       "      <td>Transport</td>\n",
       "      <td>JOHN DEERE INDIA PVT LIMITED</td>\n",
       "      <td>RTA BHADRADRI</td>\n",
       "      <td>30/07/2023</td>\n",
       "      <td>31/07/2023</td>\n",
       "    </tr>\n",
       "  </tbody>\n",
       "</table>\n",
       "</div>"
      ],
      "text/plain": [
       "            slno                                          modelDesc     fuel  \\\n",
       "145805  12141272                          MAHINDRA XUV400 EL 5S BOV  BATTERY   \n",
       "145806  12197068          ACCESS 125 DISC BT(ALLOY WHEEL). BSVI-PH2   PETROL   \n",
       "145807  12005891  605DI MS S+V1ARJUNNOVO 4WD(9.5X16,16.9X28) BSIIIA   DIESEL   \n",
       "145808  12087812                  MAHINDRA BOLERO B4 BS-VI BSVI-PH2   DIESEL   \n",
       "145809  12109630                         JOHN DEERE 5039D V2 BSIIIA   DIESEL   \n",
       "\n",
       "                       colour                      vehicleClass    makeYear  \\\n",
       "145805               EVRSTWHT                         MOTOR CAR  01/04/2023   \n",
       "145806  ICE GREEN PEARL WHITE                       MOTOR CYCLE  01/07/2023   \n",
       "145807                    RED  Tractor for Agricultural Purpose  01/05/2023   \n",
       "145808                  WHITE                         Motor Cab  01/06/2023   \n",
       "145809                  GREEN        Tractor for Commercial Use  01/06/2023   \n",
       "\n",
       "        seatCapacity insuranceValidity secondVehicle tempRegistrationNumber  \\\n",
       "145805             5        30/07/2026             N           TS09GDTR2708   \n",
       "145806             2        30/07/2028             N           TS15AKTR3904   \n",
       "145807             1        30/07/2024             N            TS25FTR6115   \n",
       "145808             7        30/07/2024             N           TS04ANTR0646   \n",
       "145809             1        30/07/2024             N           TS04ANTR0675   \n",
       "\n",
       "             category                      makerName  \\\n",
       "145805  Non Transport        MAHINDRA & MAHINDRA LTD   \n",
       "145806  Non Transport  SUZUKI MOTORCYCLE (I) PVT LTD   \n",
       "145807  Non Transport       MAHINDRA & MAHINDRA LTD,   \n",
       "145808      Transport        MAHINDRA & MAHINDRA LTD   \n",
       "145809      Transport   JOHN DEERE INDIA PVT LIMITED   \n",
       "\n",
       "                        OfficeCd    fromdate      todate  \n",
       "145805                 RTA UPPAL  30/07/2023  31/07/2023  \n",
       "145806  UNIT OFFICE PATANCHERUVU  30/07/2023  31/07/2023  \n",
       "145807           RTA JAYASHANKAR  30/07/2023  31/07/2023  \n",
       "145808             RTA BHADRADRI  30/07/2023  31/07/2023  \n",
       "145809             RTA BHADRADRI  30/07/2023  31/07/2023  "
      ]
     },
     "execution_count": 11,
     "metadata": {},
     "output_type": "execute_result"
    }
   ],
   "source": [
    "data.tail()"
   ]
  },
  {
   "cell_type": "code",
   "execution_count": 13,
   "id": "4c8bb627-eaa3-4f86-bf2f-42c69e1699af",
   "metadata": {},
   "outputs": [
    {
     "data": {
      "text/plain": [
       "Index(['slno', 'modelDesc', 'fuel', 'colour', 'vehicleClass', 'makeYear',\n",
       "       'seatCapacity', 'insuranceValidity', 'secondVehicle',\n",
       "       'tempRegistrationNumber', 'category', 'makerName', 'OfficeCd',\n",
       "       'fromdate', 'todate'],\n",
       "      dtype='object')"
      ]
     },
     "execution_count": 13,
     "metadata": {},
     "output_type": "execute_result"
    }
   ],
   "source": [
    "data.columns"
   ]
  },
  {
   "cell_type": "code",
   "execution_count": 15,
   "id": "d5d67e63-0d25-406a-b004-d06cf17ccff4",
   "metadata": {},
   "outputs": [
    {
     "data": {
      "text/plain": [
       "slno                       int64\n",
       "modelDesc                 object\n",
       "fuel                      object\n",
       "colour                    object\n",
       "vehicleClass              object\n",
       "makeYear                  object\n",
       "seatCapacity               int64\n",
       "insuranceValidity         object\n",
       "secondVehicle             object\n",
       "tempRegistrationNumber    object\n",
       "category                  object\n",
       "makerName                 object\n",
       "OfficeCd                  object\n",
       "fromdate                  object\n",
       "todate                    object\n",
       "dtype: object"
      ]
     },
     "execution_count": 15,
     "metadata": {},
     "output_type": "execute_result"
    }
   ],
   "source": [
    "data.dtypes"
   ]
  },
  {
   "cell_type": "code",
   "execution_count": 17,
   "id": "d11b004c-7072-4757-835d-ce07f02824c6",
   "metadata": {},
   "outputs": [
    {
     "name": "stdout",
     "output_type": "stream",
     "text": [
      "<class 'pandas.core.frame.DataFrame'>\n",
      "RangeIndex: 145810 entries, 0 to 145809\n",
      "Data columns (total 15 columns):\n",
      " #   Column                  Non-Null Count   Dtype \n",
      "---  ------                  --------------   ----- \n",
      " 0   slno                    145810 non-null  int64 \n",
      " 1   modelDesc               145810 non-null  object\n",
      " 2   fuel                    143972 non-null  object\n",
      " 3   colour                  145801 non-null  object\n",
      " 4   vehicleClass            145810 non-null  object\n",
      " 5   makeYear                145810 non-null  object\n",
      " 6   seatCapacity            145810 non-null  int64 \n",
      " 7   insuranceValidity       145763 non-null  object\n",
      " 8   secondVehicle           145810 non-null  object\n",
      " 9   tempRegistrationNumber  145810 non-null  object\n",
      " 10  category                145810 non-null  object\n",
      " 11  makerName               145810 non-null  object\n",
      " 12  OfficeCd                145810 non-null  object\n",
      " 13  fromdate                145810 non-null  object\n",
      " 14  todate                  145810 non-null  object\n",
      "dtypes: int64(2), object(13)\n",
      "memory usage: 16.7+ MB\n"
     ]
    }
   ],
   "source": [
    "data.info()"
   ]
  },
  {
   "cell_type": "code",
   "execution_count": 19,
   "id": "8bddd675-2830-4ad2-9b9b-284259acde97",
   "metadata": {},
   "outputs": [
    {
     "data": {
      "text/plain": [
       "slno                         0\n",
       "modelDesc                    0\n",
       "fuel                      1838\n",
       "colour                       9\n",
       "vehicleClass                 0\n",
       "makeYear                     0\n",
       "seatCapacity                 0\n",
       "insuranceValidity           47\n",
       "secondVehicle                0\n",
       "tempRegistrationNumber       0\n",
       "category                     0\n",
       "makerName                    0\n",
       "OfficeCd                     0\n",
       "fromdate                     0\n",
       "todate                       0\n",
       "dtype: int64"
      ]
     },
     "execution_count": 19,
     "metadata": {},
     "output_type": "execute_result"
    }
   ],
   "source": [
    "data.isnull().sum()"
   ]
  },
  {
   "cell_type": "code",
   "execution_count": 21,
   "id": "c9571181-8c7b-4405-aa37-b1da73f1b1f0",
   "metadata": {},
   "outputs": [
    {
     "data": {
      "text/html": [
       "<div>\n",
       "<style scoped>\n",
       "    .dataframe tbody tr th:only-of-type {\n",
       "        vertical-align: middle;\n",
       "    }\n",
       "\n",
       "    .dataframe tbody tr th {\n",
       "        vertical-align: top;\n",
       "    }\n",
       "\n",
       "    .dataframe thead th {\n",
       "        text-align: right;\n",
       "    }\n",
       "</style>\n",
       "<table border=\"1\" class=\"dataframe\">\n",
       "  <thead>\n",
       "    <tr style=\"text-align: right;\">\n",
       "      <th></th>\n",
       "      <th>slno</th>\n",
       "      <th>seatCapacity</th>\n",
       "    </tr>\n",
       "  </thead>\n",
       "  <tbody>\n",
       "    <tr>\n",
       "      <th>count</th>\n",
       "      <td>1.458100e+05</td>\n",
       "      <td>145810.000000</td>\n",
       "    </tr>\n",
       "    <tr>\n",
       "      <th>mean</th>\n",
       "      <td>6.056854e+06</td>\n",
       "      <td>2.951121</td>\n",
       "    </tr>\n",
       "    <tr>\n",
       "      <th>std</th>\n",
       "      <td>3.513209e+06</td>\n",
       "      <td>3.489234</td>\n",
       "    </tr>\n",
       "    <tr>\n",
       "      <th>min</th>\n",
       "      <td>3.000000e+01</td>\n",
       "      <td>0.000000</td>\n",
       "    </tr>\n",
       "    <tr>\n",
       "      <th>25%</th>\n",
       "      <td>3.015471e+06</td>\n",
       "      <td>2.000000</td>\n",
       "    </tr>\n",
       "    <tr>\n",
       "      <th>50%</th>\n",
       "      <td>6.101663e+06</td>\n",
       "      <td>2.000000</td>\n",
       "    </tr>\n",
       "    <tr>\n",
       "      <th>75%</th>\n",
       "      <td>9.066689e+06</td>\n",
       "      <td>3.000000</td>\n",
       "    </tr>\n",
       "    <tr>\n",
       "      <th>max</th>\n",
       "      <td>1.220458e+07</td>\n",
       "      <td>63.000000</td>\n",
       "    </tr>\n",
       "  </tbody>\n",
       "</table>\n",
       "</div>"
      ],
      "text/plain": [
       "               slno   seatCapacity\n",
       "count  1.458100e+05  145810.000000\n",
       "mean   6.056854e+06       2.951121\n",
       "std    3.513209e+06       3.489234\n",
       "min    3.000000e+01       0.000000\n",
       "25%    3.015471e+06       2.000000\n",
       "50%    6.101663e+06       2.000000\n",
       "75%    9.066689e+06       3.000000\n",
       "max    1.220458e+07      63.000000"
      ]
     },
     "execution_count": 21,
     "metadata": {},
     "output_type": "execute_result"
    }
   ],
   "source": [
    "data.describe()"
   ]
  },
  {
   "cell_type": "code",
   "execution_count": 23,
   "id": "f124e205-7449-4e49-a7fe-6e347b79fd50",
   "metadata": {},
   "outputs": [
    {
     "data": {
      "text/plain": [
       "0"
      ]
     },
     "execution_count": 23,
     "metadata": {},
     "output_type": "execute_result"
    }
   ],
   "source": [
    "data.duplicated().sum()"
   ]
  },
  {
   "cell_type": "code",
   "execution_count": 25,
   "id": "b56c1c51-eadf-4a21-b2df-e993eff97de1",
   "metadata": {},
   "outputs": [
    {
     "data": {
      "text/plain": [
       "69575"
      ]
     },
     "execution_count": 25,
     "metadata": {},
     "output_type": "execute_result"
    }
   ],
   "source": [
    "data['slno'].duplicated().sum()"
   ]
  },
  {
   "cell_type": "code",
   "execution_count": 27,
   "id": "48306863-ceed-4996-9cff-4565af08c3df",
   "metadata": {
    "scrolled": true
   },
   "outputs": [],
   "source": [
    "data.drop_duplicates(['slno'], keep='first', inplace=True)"
   ]
  },
  {
   "cell_type": "code",
   "execution_count": 29,
   "id": "087fda2f-a097-4026-9b62-2ed24a9e4141",
   "metadata": {},
   "outputs": [
    {
     "data": {
      "text/plain": [
       "(76235, 15)"
      ]
     },
     "execution_count": 29,
     "metadata": {},
     "output_type": "execute_result"
    }
   ],
   "source": [
    "data.shape"
   ]
  },
  {
   "cell_type": "code",
   "execution_count": 31,
   "id": "57babcf1-e169-4f39-a1da-12f6bbde48de",
   "metadata": {},
   "outputs": [
    {
     "data": {
      "text/html": [
       "<div>\n",
       "<style scoped>\n",
       "    .dataframe tbody tr th:only-of-type {\n",
       "        vertical-align: middle;\n",
       "    }\n",
       "\n",
       "    .dataframe tbody tr th {\n",
       "        vertical-align: top;\n",
       "    }\n",
       "\n",
       "    .dataframe thead th {\n",
       "        text-align: right;\n",
       "    }\n",
       "</style>\n",
       "<table border=\"1\" class=\"dataframe\">\n",
       "  <thead>\n",
       "    <tr style=\"text-align: right;\">\n",
       "      <th></th>\n",
       "      <th>slno</th>\n",
       "      <th>modelDesc</th>\n",
       "      <th>fuel</th>\n",
       "      <th>colour</th>\n",
       "      <th>vehicleClass</th>\n",
       "      <th>makeYear</th>\n",
       "      <th>seatCapacity</th>\n",
       "      <th>insuranceValidity</th>\n",
       "      <th>secondVehicle</th>\n",
       "      <th>tempRegistrationNumber</th>\n",
       "      <th>category</th>\n",
       "      <th>makerName</th>\n",
       "      <th>OfficeCd</th>\n",
       "      <th>fromdate</th>\n",
       "      <th>todate</th>\n",
       "    </tr>\n",
       "  </thead>\n",
       "  <tbody>\n",
       "    <tr>\n",
       "      <th>0</th>\n",
       "      <td>8244</td>\n",
       "      <td>S7 5100 SCHOOL BUS 53 SEATER BSVI</td>\n",
       "      <td>DIESEL</td>\n",
       "      <td>GOLDEN YELLOW</td>\n",
       "      <td>Ominibus</td>\n",
       "      <td>01/03/2023</td>\n",
       "      <td>53</td>\n",
       "      <td>30/06/2024</td>\n",
       "      <td>N</td>\n",
       "      <td>TS31FTR5866</td>\n",
       "      <td>Transport</td>\n",
       "      <td>M/S SML ISUZU LIMITED</td>\n",
       "      <td>RTA NAGARKURNOOL</td>\n",
       "      <td>01/07/2023</td>\n",
       "      <td>02/07/2023</td>\n",
       "    </tr>\n",
       "    <tr>\n",
       "      <th>1</th>\n",
       "      <td>9998</td>\n",
       "      <td>SUPREME 4760 ZT54E DELWB SCHOOL BUS 40 BSVI</td>\n",
       "      <td>DIESEL</td>\n",
       "      <td>GOLDEN YELLOW</td>\n",
       "      <td>Ominibus</td>\n",
       "      <td>01/10/2022</td>\n",
       "      <td>40</td>\n",
       "      <td>29/06/2024</td>\n",
       "      <td>N</td>\n",
       "      <td>TS13HTR2446</td>\n",
       "      <td>Transport</td>\n",
       "      <td>M/S SML ISUZU LIMITED</td>\n",
       "      <td>RTA MEDCHAL</td>\n",
       "      <td>01/07/2023</td>\n",
       "      <td>02/07/2023</td>\n",
       "    </tr>\n",
       "    <tr>\n",
       "      <th>2</th>\n",
       "      <td>133998</td>\n",
       "      <td>ACTIVA-DLX BSVI-PH2</td>\n",
       "      <td>PETROL</td>\n",
       "      <td>DECENT BLUE METALLIC</td>\n",
       "      <td>MOTOR CYCLE</td>\n",
       "      <td>01/03/2023</td>\n",
       "      <td>2</td>\n",
       "      <td>30/06/2028</td>\n",
       "      <td>N</td>\n",
       "      <td>TS11AHTR6148</td>\n",
       "      <td>Non Transport</td>\n",
       "      <td>HONDA MOTORCYCLE&amp;SCOOTER(I)P L</td>\n",
       "      <td>RTA MEDCHAL</td>\n",
       "      <td>01/07/2023</td>\n",
       "      <td>02/07/2023</td>\n",
       "    </tr>\n",
       "    <tr>\n",
       "      <th>3</th>\n",
       "      <td>134058</td>\n",
       "      <td>ACTIVA-DLX BSVI-PH2</td>\n",
       "      <td>PETROL</td>\n",
       "      <td>DECENT BLUE METALLIC</td>\n",
       "      <td>MOTOR CYCLE</td>\n",
       "      <td>01/04/2023</td>\n",
       "      <td>2</td>\n",
       "      <td>30/06/2028</td>\n",
       "      <td>N</td>\n",
       "      <td>TS11AHTR6130</td>\n",
       "      <td>Non Transport</td>\n",
       "      <td>HONDA MOTORCYCLE&amp;SCOOTER(I)P L</td>\n",
       "      <td>RTA MEDCHAL</td>\n",
       "      <td>01/07/2023</td>\n",
       "      <td>02/07/2023</td>\n",
       "    </tr>\n",
       "    <tr>\n",
       "      <th>4</th>\n",
       "      <td>134078</td>\n",
       "      <td>ACTIVA-DLX BSVI-PH2</td>\n",
       "      <td>PETROL</td>\n",
       "      <td>DECENT BLUE METALLIC</td>\n",
       "      <td>MOTOR CYCLE</td>\n",
       "      <td>01/05/2023</td>\n",
       "      <td>2</td>\n",
       "      <td>30/06/2028</td>\n",
       "      <td>N</td>\n",
       "      <td>TS11AHTR6183</td>\n",
       "      <td>Non Transport</td>\n",
       "      <td>HONDA MOTORCYCLE&amp;SCOOTER(I)P L</td>\n",
       "      <td>RTA-HYDERABAD-SZ</td>\n",
       "      <td>01/07/2023</td>\n",
       "      <td>02/07/2023</td>\n",
       "    </tr>\n",
       "  </tbody>\n",
       "</table>\n",
       "</div>"
      ],
      "text/plain": [
       "     slno                                    modelDesc    fuel  \\\n",
       "0    8244            S7 5100 SCHOOL BUS 53 SEATER BSVI  DIESEL   \n",
       "1    9998  SUPREME 4760 ZT54E DELWB SCHOOL BUS 40 BSVI  DIESEL   \n",
       "2  133998                          ACTIVA-DLX BSVI-PH2  PETROL   \n",
       "3  134058                          ACTIVA-DLX BSVI-PH2  PETROL   \n",
       "4  134078                          ACTIVA-DLX BSVI-PH2  PETROL   \n",
       "\n",
       "                 colour vehicleClass    makeYear  seatCapacity  \\\n",
       "0         GOLDEN YELLOW     Ominibus  01/03/2023            53   \n",
       "1         GOLDEN YELLOW     Ominibus  01/10/2022            40   \n",
       "2  DECENT BLUE METALLIC  MOTOR CYCLE  01/03/2023             2   \n",
       "3  DECENT BLUE METALLIC  MOTOR CYCLE  01/04/2023             2   \n",
       "4  DECENT BLUE METALLIC  MOTOR CYCLE  01/05/2023             2   \n",
       "\n",
       "  insuranceValidity secondVehicle tempRegistrationNumber       category  \\\n",
       "0        30/06/2024             N            TS31FTR5866      Transport   \n",
       "1        29/06/2024             N            TS13HTR2446      Transport   \n",
       "2        30/06/2028             N           TS11AHTR6148  Non Transport   \n",
       "3        30/06/2028             N           TS11AHTR6130  Non Transport   \n",
       "4        30/06/2028             N           TS11AHTR6183  Non Transport   \n",
       "\n",
       "                        makerName          OfficeCd    fromdate      todate  \n",
       "0           M/S SML ISUZU LIMITED  RTA NAGARKURNOOL  01/07/2023  02/07/2023  \n",
       "1           M/S SML ISUZU LIMITED       RTA MEDCHAL  01/07/2023  02/07/2023  \n",
       "2  HONDA MOTORCYCLE&SCOOTER(I)P L       RTA MEDCHAL  01/07/2023  02/07/2023  \n",
       "3  HONDA MOTORCYCLE&SCOOTER(I)P L       RTA MEDCHAL  01/07/2023  02/07/2023  \n",
       "4  HONDA MOTORCYCLE&SCOOTER(I)P L  RTA-HYDERABAD-SZ  01/07/2023  02/07/2023  "
      ]
     },
     "execution_count": 31,
     "metadata": {},
     "output_type": "execute_result"
    }
   ],
   "source": [
    "data.head()"
   ]
  },
  {
   "cell_type": "code",
   "execution_count": 33,
   "id": "039b7292-ee4a-4e07-86a0-2c1ca627aa49",
   "metadata": {},
   "outputs": [
    {
     "data": {
      "text/plain": [
       "slno                      76235\n",
       "modelDesc                  2331\n",
       "fuel                          9\n",
       "colour                     2834\n",
       "vehicleClass                 30\n",
       "makeYear                     40\n",
       "seatCapacity                 46\n",
       "insuranceValidity           591\n",
       "secondVehicle                 2\n",
       "tempRegistrationNumber    76235\n",
       "category                      2\n",
       "makerName                   372\n",
       "OfficeCd                     55\n",
       "fromdate                     30\n",
       "todate                       30\n",
       "dtype: int64"
      ]
     },
     "execution_count": 33,
     "metadata": {},
     "output_type": "execute_result"
    }
   ],
   "source": [
    "data.nunique()"
   ]
  },
  {
   "cell_type": "code",
   "execution_count": 35,
   "id": "028d045e-076c-4f23-a223-4f8797726e2e",
   "metadata": {},
   "outputs": [
    {
     "data": {
      "text/html": [
       "<div>\n",
       "<style scoped>\n",
       "    .dataframe tbody tr th:only-of-type {\n",
       "        vertical-align: middle;\n",
       "    }\n",
       "\n",
       "    .dataframe tbody tr th {\n",
       "        vertical-align: top;\n",
       "    }\n",
       "\n",
       "    .dataframe thead th {\n",
       "        text-align: right;\n",
       "    }\n",
       "</style>\n",
       "<table border=\"1\" class=\"dataframe\">\n",
       "  <thead>\n",
       "    <tr style=\"text-align: right;\">\n",
       "      <th></th>\n",
       "      <th>slno</th>\n",
       "      <th>modelDesc</th>\n",
       "      <th>fuel</th>\n",
       "      <th>colour</th>\n",
       "      <th>vehicleClass</th>\n",
       "      <th>makeYear</th>\n",
       "      <th>seatCapacity</th>\n",
       "      <th>insuranceValidity</th>\n",
       "      <th>secondVehicle</th>\n",
       "      <th>tempRegistrationNumber</th>\n",
       "      <th>category</th>\n",
       "      <th>makerName</th>\n",
       "      <th>OfficeCd</th>\n",
       "      <th>fromdate</th>\n",
       "      <th>todate</th>\n",
       "    </tr>\n",
       "  </thead>\n",
       "  <tbody>\n",
       "    <tr>\n",
       "      <th>0</th>\n",
       "      <td>False</td>\n",
       "      <td>False</td>\n",
       "      <td>False</td>\n",
       "      <td>False</td>\n",
       "      <td>False</td>\n",
       "      <td>False</td>\n",
       "      <td>False</td>\n",
       "      <td>False</td>\n",
       "      <td>False</td>\n",
       "      <td>False</td>\n",
       "      <td>False</td>\n",
       "      <td>False</td>\n",
       "      <td>False</td>\n",
       "      <td>False</td>\n",
       "      <td>False</td>\n",
       "    </tr>\n",
       "    <tr>\n",
       "      <th>1</th>\n",
       "      <td>False</td>\n",
       "      <td>False</td>\n",
       "      <td>False</td>\n",
       "      <td>False</td>\n",
       "      <td>False</td>\n",
       "      <td>False</td>\n",
       "      <td>False</td>\n",
       "      <td>False</td>\n",
       "      <td>False</td>\n",
       "      <td>False</td>\n",
       "      <td>False</td>\n",
       "      <td>False</td>\n",
       "      <td>False</td>\n",
       "      <td>False</td>\n",
       "      <td>False</td>\n",
       "    </tr>\n",
       "    <tr>\n",
       "      <th>2</th>\n",
       "      <td>False</td>\n",
       "      <td>False</td>\n",
       "      <td>False</td>\n",
       "      <td>False</td>\n",
       "      <td>False</td>\n",
       "      <td>False</td>\n",
       "      <td>False</td>\n",
       "      <td>False</td>\n",
       "      <td>False</td>\n",
       "      <td>False</td>\n",
       "      <td>False</td>\n",
       "      <td>False</td>\n",
       "      <td>False</td>\n",
       "      <td>False</td>\n",
       "      <td>False</td>\n",
       "    </tr>\n",
       "    <tr>\n",
       "      <th>3</th>\n",
       "      <td>False</td>\n",
       "      <td>False</td>\n",
       "      <td>False</td>\n",
       "      <td>False</td>\n",
       "      <td>False</td>\n",
       "      <td>False</td>\n",
       "      <td>False</td>\n",
       "      <td>False</td>\n",
       "      <td>False</td>\n",
       "      <td>False</td>\n",
       "      <td>False</td>\n",
       "      <td>False</td>\n",
       "      <td>False</td>\n",
       "      <td>False</td>\n",
       "      <td>False</td>\n",
       "    </tr>\n",
       "    <tr>\n",
       "      <th>4</th>\n",
       "      <td>False</td>\n",
       "      <td>False</td>\n",
       "      <td>False</td>\n",
       "      <td>False</td>\n",
       "      <td>False</td>\n",
       "      <td>False</td>\n",
       "      <td>False</td>\n",
       "      <td>False</td>\n",
       "      <td>False</td>\n",
       "      <td>False</td>\n",
       "      <td>False</td>\n",
       "      <td>False</td>\n",
       "      <td>False</td>\n",
       "      <td>False</td>\n",
       "      <td>False</td>\n",
       "    </tr>\n",
       "    <tr>\n",
       "      <th>...</th>\n",
       "      <td>...</td>\n",
       "      <td>...</td>\n",
       "      <td>...</td>\n",
       "      <td>...</td>\n",
       "      <td>...</td>\n",
       "      <td>...</td>\n",
       "      <td>...</td>\n",
       "      <td>...</td>\n",
       "      <td>...</td>\n",
       "      <td>...</td>\n",
       "      <td>...</td>\n",
       "      <td>...</td>\n",
       "      <td>...</td>\n",
       "      <td>...</td>\n",
       "      <td>...</td>\n",
       "    </tr>\n",
       "    <tr>\n",
       "      <th>145805</th>\n",
       "      <td>False</td>\n",
       "      <td>False</td>\n",
       "      <td>False</td>\n",
       "      <td>False</td>\n",
       "      <td>False</td>\n",
       "      <td>False</td>\n",
       "      <td>False</td>\n",
       "      <td>False</td>\n",
       "      <td>False</td>\n",
       "      <td>False</td>\n",
       "      <td>False</td>\n",
       "      <td>False</td>\n",
       "      <td>False</td>\n",
       "      <td>False</td>\n",
       "      <td>False</td>\n",
       "    </tr>\n",
       "    <tr>\n",
       "      <th>145806</th>\n",
       "      <td>False</td>\n",
       "      <td>False</td>\n",
       "      <td>False</td>\n",
       "      <td>False</td>\n",
       "      <td>False</td>\n",
       "      <td>False</td>\n",
       "      <td>False</td>\n",
       "      <td>False</td>\n",
       "      <td>False</td>\n",
       "      <td>False</td>\n",
       "      <td>False</td>\n",
       "      <td>False</td>\n",
       "      <td>False</td>\n",
       "      <td>False</td>\n",
       "      <td>False</td>\n",
       "    </tr>\n",
       "    <tr>\n",
       "      <th>145807</th>\n",
       "      <td>False</td>\n",
       "      <td>False</td>\n",
       "      <td>False</td>\n",
       "      <td>False</td>\n",
       "      <td>False</td>\n",
       "      <td>False</td>\n",
       "      <td>False</td>\n",
       "      <td>False</td>\n",
       "      <td>False</td>\n",
       "      <td>False</td>\n",
       "      <td>False</td>\n",
       "      <td>False</td>\n",
       "      <td>False</td>\n",
       "      <td>False</td>\n",
       "      <td>False</td>\n",
       "    </tr>\n",
       "    <tr>\n",
       "      <th>145808</th>\n",
       "      <td>False</td>\n",
       "      <td>False</td>\n",
       "      <td>False</td>\n",
       "      <td>False</td>\n",
       "      <td>False</td>\n",
       "      <td>False</td>\n",
       "      <td>False</td>\n",
       "      <td>False</td>\n",
       "      <td>False</td>\n",
       "      <td>False</td>\n",
       "      <td>False</td>\n",
       "      <td>False</td>\n",
       "      <td>False</td>\n",
       "      <td>False</td>\n",
       "      <td>False</td>\n",
       "    </tr>\n",
       "    <tr>\n",
       "      <th>145809</th>\n",
       "      <td>False</td>\n",
       "      <td>False</td>\n",
       "      <td>False</td>\n",
       "      <td>False</td>\n",
       "      <td>False</td>\n",
       "      <td>False</td>\n",
       "      <td>False</td>\n",
       "      <td>False</td>\n",
       "      <td>False</td>\n",
       "      <td>False</td>\n",
       "      <td>False</td>\n",
       "      <td>False</td>\n",
       "      <td>False</td>\n",
       "      <td>False</td>\n",
       "      <td>False</td>\n",
       "    </tr>\n",
       "  </tbody>\n",
       "</table>\n",
       "<p>76235 rows × 15 columns</p>\n",
       "</div>"
      ],
      "text/plain": [
       "         slno  modelDesc   fuel  colour  vehicleClass  makeYear  seatCapacity  \\\n",
       "0       False      False  False   False         False     False         False   \n",
       "1       False      False  False   False         False     False         False   \n",
       "2       False      False  False   False         False     False         False   \n",
       "3       False      False  False   False         False     False         False   \n",
       "4       False      False  False   False         False     False         False   \n",
       "...       ...        ...    ...     ...           ...       ...           ...   \n",
       "145805  False      False  False   False         False     False         False   \n",
       "145806  False      False  False   False         False     False         False   \n",
       "145807  False      False  False   False         False     False         False   \n",
       "145808  False      False  False   False         False     False         False   \n",
       "145809  False      False  False   False         False     False         False   \n",
       "\n",
       "        insuranceValidity  secondVehicle  tempRegistrationNumber  category  \\\n",
       "0                   False          False                   False     False   \n",
       "1                   False          False                   False     False   \n",
       "2                   False          False                   False     False   \n",
       "3                   False          False                   False     False   \n",
       "4                   False          False                   False     False   \n",
       "...                   ...            ...                     ...       ...   \n",
       "145805              False          False                   False     False   \n",
       "145806              False          False                   False     False   \n",
       "145807              False          False                   False     False   \n",
       "145808              False          False                   False     False   \n",
       "145809              False          False                   False     False   \n",
       "\n",
       "        makerName  OfficeCd  fromdate  todate  \n",
       "0           False     False     False   False  \n",
       "1           False     False     False   False  \n",
       "2           False     False     False   False  \n",
       "3           False     False     False   False  \n",
       "4           False     False     False   False  \n",
       "...           ...       ...       ...     ...  \n",
       "145805      False     False     False   False  \n",
       "145806      False     False     False   False  \n",
       "145807      False     False     False   False  \n",
       "145808      False     False     False   False  \n",
       "145809      False     False     False   False  \n",
       "\n",
       "[76235 rows x 15 columns]"
      ]
     },
     "execution_count": 35,
     "metadata": {},
     "output_type": "execute_result"
    }
   ],
   "source": [
    "data.isnull()"
   ]
  },
  {
   "cell_type": "code",
   "execution_count": 37,
   "id": "b83f1bf3-25d0-4262-9707-fc3d9b4d635c",
   "metadata": {},
   "outputs": [
    {
     "data": {
      "text/plain": [
       "slno                        0\n",
       "modelDesc                   0\n",
       "fuel                      960\n",
       "colour                      5\n",
       "vehicleClass                0\n",
       "makeYear                    0\n",
       "seatCapacity                0\n",
       "insuranceValidity          24\n",
       "secondVehicle               0\n",
       "tempRegistrationNumber      0\n",
       "category                    0\n",
       "makerName                   0\n",
       "OfficeCd                    0\n",
       "fromdate                    0\n",
       "todate                      0\n",
       "dtype: int64"
      ]
     },
     "execution_count": 37,
     "metadata": {},
     "output_type": "execute_result"
    }
   ],
   "source": [
    "data.isnull().sum()"
   ]
  },
  {
   "cell_type": "markdown",
   "id": "d4af9aea-0b22-448b-8b71-3f4676bcccef",
   "metadata": {},
   "source": [
    "**omit unnecessary features from your dataset.**"
   ]
  },
  {
   "cell_type": "code",
   "execution_count": 40,
   "id": "b7a74f5a-89f3-48e5-b2d6-95f85a18b2be",
   "metadata": {},
   "outputs": [],
   "source": [
    "# slno - not use\n",
    "# modelDesc - used for common models\n",
    "# fuel - For fuel type analysis\n"
   ]
  },
  {
   "cell_type": "code",
   "execution_count": 42,
   "id": "82e469af-3370-49a8-92cc-fe4bdb348c8c",
   "metadata": {},
   "outputs": [
    {
     "data": {
      "text/plain": [
       "76235"
      ]
     },
     "execution_count": 42,
     "metadata": {},
     "output_type": "execute_result"
    }
   ],
   "source": [
    "data['slno'].nunique()\n",
    "# not use this is same as the index"
   ]
  },
  {
   "cell_type": "code",
   "execution_count": 44,
   "id": "fb9fbb25-95eb-4a7f-9a98-1d89bd341e56",
   "metadata": {},
   "outputs": [],
   "source": [
    "data=data.drop('slno',axis=1)"
   ]
  },
  {
   "cell_type": "code",
   "execution_count": 46,
   "id": "ac2cdbb2-98f9-45b7-9d24-b0c220e0e8af",
   "metadata": {},
   "outputs": [
    {
     "data": {
      "text/plain": [
       "2331"
      ]
     },
     "execution_count": 46,
     "metadata": {},
     "output_type": "execute_result"
    }
   ],
   "source": [
    "data['modelDesc'].nunique()"
   ]
  },
  {
   "cell_type": "code",
   "execution_count": 47,
   "id": "222294f5-908a-4571-983b-b44b7b734a4a",
   "metadata": {},
   "outputs": [
    {
     "data": {
      "text/plain": [
       "0"
      ]
     },
     "execution_count": 47,
     "metadata": {},
     "output_type": "execute_result"
    }
   ],
   "source": [
    "data['modelDesc'].isnull().sum()"
   ]
  },
  {
   "cell_type": "code",
   "execution_count": 50,
   "id": "32bc735b-26ec-41a5-8a77-da79e9751b5b",
   "metadata": {},
   "outputs": [
    {
     "data": {
      "text/plain": [
       "array(['S7 5100 SCHOOL BUS 53 SEATER BSVI',\n",
       "       'SUPREME 4760 ZT54E DELWB SCHOOL BUS 40 BSVI',\n",
       "       'ACTIVA-DLX BSVI-PH2', ...,\n",
       "       'DSMH 912DLX CH P TRACTOR JD 5405 4WD GP LP BSIV',\n",
       "       'EICHER PRO 2095 G CAB & HSD BSVI-PH2',\n",
       "       'EICHER PRO 2110 L CAB & CHASSIS BSVI-PH2'], dtype=object)"
      ]
     },
     "execution_count": 50,
     "metadata": {},
     "output_type": "execute_result"
    }
   ],
   "source": [
    "data['modelDesc'].unique()"
   ]
  },
  {
   "cell_type": "code",
   "execution_count": 52,
   "id": "9c0e4bcb-271f-4caf-87ea-b625cf593afe",
   "metadata": {},
   "outputs": [
    {
     "data": {
      "text/plain": [
       "9"
      ]
     },
     "execution_count": 52,
     "metadata": {},
     "output_type": "execute_result"
    }
   ],
   "source": [
    "data['fuel'].nunique()"
   ]
  },
  {
   "cell_type": "code",
   "execution_count": 54,
   "id": "ba79fc5e-f3f4-4aae-ac81-ec63ff5543f4",
   "metadata": {},
   "outputs": [
    {
     "data": {
      "text/plain": [
       "array(['DIESEL', 'PETROL', 'PETROL LPG', 'BATTERY', 'CNG PETROL', nan,\n",
       "       'CNG', 'PETROL ELECTRIC', '-1', 'LPG'], dtype=object)"
      ]
     },
     "execution_count": 54,
     "metadata": {},
     "output_type": "execute_result"
    }
   ],
   "source": [
    "data['fuel'].unique()"
   ]
  },
  {
   "cell_type": "code",
   "execution_count": 56,
   "id": "c664e613-70ac-47c3-a811-11f33d889c15",
   "metadata": {},
   "outputs": [
    {
     "data": {
      "text/plain": [
       "960"
      ]
     },
     "execution_count": 56,
     "metadata": {},
     "output_type": "execute_result"
    }
   ],
   "source": [
    "data['fuel'].isnull().sum()"
   ]
  },
  {
   "cell_type": "code",
   "execution_count": 58,
   "id": "bdef86b8-37bb-405d-be71-f598f11ed30d",
   "metadata": {},
   "outputs": [],
   "source": [
    "# In above there are 960 null values in dataset so we want to fill that and \n",
    "# there is the '-1' which it is not the fuel type so it is considered as a null"
   ]
  },
  {
   "cell_type": "code",
   "execution_count": 60,
   "id": "fd8e029f-4071-4443-844f-4b188682d1f9",
   "metadata": {},
   "outputs": [
    {
     "data": {
      "text/plain": [
       "17"
      ]
     },
     "execution_count": 60,
     "metadata": {},
     "output_type": "execute_result"
    }
   ],
   "source": [
    "# counting of the '-1' \n",
    "(data['fuel']=='-1').sum()"
   ]
  },
  {
   "cell_type": "markdown",
   "id": "86012627-d0d9-41e8-a5f9-8cc94da5d51a",
   "metadata": {},
   "source": [
    "Here there is 17  '-1' and 960 nan values\n",
    "\n",
    "the total nan values are 977"
   ]
  },
  {
   "cell_type": "code",
   "execution_count": 63,
   "id": "578f48da-5c9c-482b-8adc-bbd3f91ac91a",
   "metadata": {},
   "outputs": [],
   "source": [
    "#converting the '-1' to nan\n",
    "data['fuel'] = data['fuel'].replace('-1', np.nan)"
   ]
  },
  {
   "cell_type": "code",
   "execution_count": 65,
   "id": "f00a8e5e-1374-4aa5-84c6-9354f703b117",
   "metadata": {},
   "outputs": [
    {
     "data": {
      "text/plain": [
       "977"
      ]
     },
     "execution_count": 65,
     "metadata": {},
     "output_type": "execute_result"
    }
   ],
   "source": [
    "#total null values after replace\n",
    "data.fuel.isnull().sum()"
   ]
  },
  {
   "cell_type": "code",
   "execution_count": 67,
   "id": "bf83c866-add8-45a9-b526-a162d899824f",
   "metadata": {},
   "outputs": [
    {
     "data": {
      "text/plain": [
       "0"
      ]
     },
     "execution_count": 67,
     "metadata": {},
     "output_type": "execute_result"
    }
   ],
   "source": [
    "(data['fuel']=='-1').sum()"
   ]
  },
  {
   "cell_type": "code",
   "execution_count": 69,
   "id": "2f8b2b74-3786-40fc-929d-fcc0b9b9cb96",
   "metadata": {},
   "outputs": [],
   "source": [
    "data['fuel']=data['fuel'].fillna('Unknown')"
   ]
  },
  {
   "cell_type": "code",
   "execution_count": 71,
   "id": "1da1aeba-2b31-48c8-b628-ff5fce524c8d",
   "metadata": {},
   "outputs": [
    {
     "data": {
      "text/plain": [
       "0"
      ]
     },
     "execution_count": 71,
     "metadata": {},
     "output_type": "execute_result"
    }
   ],
   "source": [
    "data.fuel.isnull().sum()"
   ]
  },
  {
   "cell_type": "code",
   "execution_count": 73,
   "id": "3fee3838-fa5c-44de-93e6-2ae3b83621f9",
   "metadata": {},
   "outputs": [
    {
     "data": {
      "text/plain": [
       "array(['DIESEL', 'PETROL', 'PETROL LPG', 'BATTERY', 'CNG PETROL',\n",
       "       'Unknown', 'CNG', 'PETROL ELECTRIC', 'LPG'], dtype=object)"
      ]
     },
     "execution_count": 73,
     "metadata": {},
     "output_type": "execute_result"
    }
   ],
   "source": [
    "data.fuel.unique()"
   ]
  },
  {
   "cell_type": "code",
   "execution_count": 75,
   "id": "910ba7cd-12a2-47ca-a0c7-d2139e361e95",
   "metadata": {},
   "outputs": [
    {
     "data": {
      "text/plain": [
       "9"
      ]
     },
     "execution_count": 75,
     "metadata": {},
     "output_type": "execute_result"
    }
   ],
   "source": [
    "data.fuel.nunique()"
   ]
  },
  {
   "cell_type": "code",
   "execution_count": null,
   "id": "50b79adc-7b3f-4832-a535-9814640cbde7",
   "metadata": {},
   "outputs": [],
   "source": []
  },
  {
   "cell_type": "markdown",
   "id": "93b8f71d-9565-467a-9109-00fd13754ed2",
   "metadata": {},
   "source": [
    "#colour"
   ]
  },
  {
   "cell_type": "code",
   "execution_count": 79,
   "id": "780952bb-59fe-41ba-97cc-b58109a5d514",
   "metadata": {},
   "outputs": [
    {
     "data": {
      "text/plain": [
       "5"
      ]
     },
     "execution_count": 79,
     "metadata": {},
     "output_type": "execute_result"
    }
   ],
   "source": [
    "data.colour.isnull().sum()"
   ]
  },
  {
   "cell_type": "code",
   "execution_count": 81,
   "id": "3c03a70c-eb35-44e6-b19a-4c09d1e08922",
   "metadata": {},
   "outputs": [],
   "source": [
    "data['colour'] = data['colour'].str.strip().str.upper()"
   ]
  },
  {
   "cell_type": "code",
   "execution_count": 82,
   "id": "cada7aa5-81ce-4383-a15a-986111e543a5",
   "metadata": {},
   "outputs": [
    {
     "data": {
      "text/plain": [
       "2834"
      ]
     },
     "execution_count": 82,
     "metadata": {},
     "output_type": "execute_result"
    }
   ],
   "source": [
    "data.colour.nunique()"
   ]
  },
  {
   "cell_type": "code",
   "execution_count": 83,
   "id": "85f6a199-4809-488b-a5ca-a80f12d7de66",
   "metadata": {},
   "outputs": [
    {
     "data": {
      "text/plain": [
       "array(['GOLDEN YELLOW', 'DECENT BLUE METALLIC', 'MAT AXIS GRAY METALLC',\n",
       "       'MAT AXIS GRAY METALLIC', 'PEARL PRECIOUS WHITE',\n",
       "       'PEARL SIREN BLUE-A'], dtype=object)"
      ]
     },
     "execution_count": 83,
     "metadata": {},
     "output_type": "execute_result"
    }
   ],
   "source": [
    "data.colour.unique()[:6]"
   ]
  },
  {
   "cell_type": "code",
   "execution_count": 84,
   "id": "9d7da11e-b2ba-478d-aa55-5eacba92f4da",
   "metadata": {},
   "outputs": [],
   "source": [
    "data['colour'] = data['colour'].bfill()"
   ]
  },
  {
   "cell_type": "code",
   "execution_count": 85,
   "id": "c256a184-b674-44b6-9518-666465413e01",
   "metadata": {},
   "outputs": [
    {
     "data": {
      "text/plain": [
       "0"
      ]
     },
     "execution_count": 85,
     "metadata": {},
     "output_type": "execute_result"
    }
   ],
   "source": [
    "data.colour.isnull().sum()"
   ]
  },
  {
   "cell_type": "code",
   "execution_count": 86,
   "id": "47a2ad3c-20fb-494e-81d9-f0268d8d7593",
   "metadata": {},
   "outputs": [],
   "source": [
    "#vehicleClass"
   ]
  },
  {
   "cell_type": "code",
   "execution_count": 87,
   "id": "8355e472-eb48-4cc2-8f34-912655025b61",
   "metadata": {},
   "outputs": [
    {
     "data": {
      "text/plain": [
       "30"
      ]
     },
     "execution_count": 87,
     "metadata": {},
     "output_type": "execute_result"
    }
   ],
   "source": [
    "data.vehicleClass.nunique()"
   ]
  },
  {
   "cell_type": "code",
   "execution_count": 88,
   "id": "04536e44-5956-4d62-a7d0-459607932250",
   "metadata": {},
   "outputs": [
    {
     "data": {
      "text/plain": [
       "array(['Ominibus', 'MOTOR CYCLE', 'Auto Rickshaw', 'Goods Carriage',\n",
       "       'MOTOR CAR', 'Motor Cab', 'Trailer for Agriculture Purpose',\n",
       "       'Chassis Transport', 'Motor Cycle for Hire',\n",
       "       'Three Wheeled Goods Vehicle', 'Omnibus for Private Use',\n",
       "       'Tractor for Agricultural Purpose', 'Maxi Cab',\n",
       "       'Trailer For Commercial Use', 'Tractor for Commercial Use',\n",
       "       'Vehicle Fitted with Construction Equipment',\n",
       "       'Self Loading Concrete Mixer', 'Loader', 'Ambulance',\n",
       "       'Auto Rikckshaw Private', 'Quadracycle Transport', 'Road Roller',\n",
       "       'MOTOR GRADER', 'Fork Lift', 'SELF PROPELLED HARVESTER',\n",
       "       'Articulated Vehicles', 'eCart', 'Crane For Private Use',\n",
       "       'Quadracycle NonTransport', 'Tractor Driven Combined Harvester'],\n",
       "      dtype=object)"
      ]
     },
     "execution_count": 88,
     "metadata": {},
     "output_type": "execute_result"
    }
   ],
   "source": [
    "data.vehicleClass.unique()"
   ]
  },
  {
   "cell_type": "code",
   "execution_count": 89,
   "id": "65b8af3a-b813-44b9-ad73-a3e97829d045",
   "metadata": {},
   "outputs": [
    {
     "data": {
      "text/plain": [
       "Index(['modelDesc', 'fuel', 'colour', 'vehicleClass', 'makeYear',\n",
       "       'seatCapacity', 'insuranceValidity', 'secondVehicle',\n",
       "       'tempRegistrationNumber', 'category', 'makerName', 'OfficeCd',\n",
       "       'fromdate', 'todate'],\n",
       "      dtype='object')"
      ]
     },
     "execution_count": 89,
     "metadata": {},
     "output_type": "execute_result"
    }
   ],
   "source": [
    "data.columns"
   ]
  },
  {
   "cell_type": "code",
   "execution_count": 90,
   "id": "c1ab3013-4057-422c-acb9-832ae2cd5586",
   "metadata": {},
   "outputs": [
    {
     "data": {
      "text/plain": [
       "0    01/03/2023\n",
       "1    01/10/2022\n",
       "2    01/03/2023\n",
       "3    01/04/2023\n",
       "4    01/05/2023\n",
       "5    01/03/2023\n",
       "6    01/04/2023\n",
       "7    01/03/2023\n",
       "8    01/03/2023\n",
       "9    01/05/2023\n",
       "Name: makeYear, dtype: object"
      ]
     },
     "execution_count": 90,
     "metadata": {},
     "output_type": "execute_result"
    }
   ],
   "source": [
    "data.makeYear.head(10)"
   ]
  },
  {
   "cell_type": "code",
   "execution_count": 91,
   "id": "0c014280-f7f0-418f-8ac5-0bf663ce763d",
   "metadata": {},
   "outputs": [
    {
     "data": {
      "text/plain": [
       "40"
      ]
     },
     "execution_count": 91,
     "metadata": {},
     "output_type": "execute_result"
    }
   ],
   "source": [
    "data.makeYear.nunique()"
   ]
  },
  {
   "cell_type": "code",
   "execution_count": 92,
   "id": "cd06d11f-be2d-405f-b52a-d5c094965164",
   "metadata": {},
   "outputs": [
    {
     "data": {
      "text/plain": [
       "0"
      ]
     },
     "execution_count": 92,
     "metadata": {},
     "output_type": "execute_result"
    }
   ],
   "source": [
    "data.makeYear.isnull().sum()"
   ]
  },
  {
   "cell_type": "code",
   "execution_count": 93,
   "id": "86d956ea-bc5a-4daf-bb16-a649df963ef0",
   "metadata": {},
   "outputs": [
    {
     "data": {
      "text/plain": [
       "array(['01/03/2023', '01/10/2022', '01/04/2023', '01/05/2023',\n",
       "       '01/06/2023', '01/02/2023', '01/07/2022', '01/01/2023',\n",
       "       '01/09/2022', '01/08/2022', '01/01/2022', '01/12/2022',\n",
       "       '01/11/2022', '01/04/2022', '01/07/2023', '01/06/2022',\n",
       "       '01/05/2022', '01/02/2022', '01/12/2020', '01/07/2021',\n",
       "       '01/04/2021', '01/02/2021', '01/03/2021', '01/11/2020',\n",
       "       '01/03/2022', '01/06/2021', '01/08/2021', '01/09/2021',\n",
       "       '01/01/2021', '01/11/2021', '01/02/2020', '01/12/2021',\n",
       "       '01/10/2021', '01/10/2020', '01/06/2020', '01/01/2020',\n",
       "       '01/09/2020', '01/08/2020', '01/03/2020', '01/05/2021'],\n",
       "      dtype=object)"
      ]
     },
     "execution_count": 93,
     "metadata": {},
     "output_type": "execute_result"
    }
   ],
   "source": [
    "data.makeYear.unique()"
   ]
  },
  {
   "cell_type": "code",
   "execution_count": 94,
   "id": "b8ce8b41-731a-41a8-9a52-fbf6b5e61f9c",
   "metadata": {},
   "outputs": [],
   "source": [
    "#we have to convert object datatype to datetype\n",
    "data['makeYear'] = pd.to_datetime(data['makeYear'], format='%d/%m/%Y').dt.date"
   ]
  },
  {
   "cell_type": "code",
   "execution_count": 95,
   "id": "06460571-2fc5-4256-b05f-82395354d0b0",
   "metadata": {},
   "outputs": [
    {
     "data": {
      "text/plain": [
       "dtype('O')"
      ]
     },
     "execution_count": 95,
     "metadata": {},
     "output_type": "execute_result"
    }
   ],
   "source": [
    "data.makeYear.dtype"
   ]
  },
  {
   "cell_type": "code",
   "execution_count": 96,
   "id": "902e5d93-8a00-4747-add9-c7342e97c411",
   "metadata": {},
   "outputs": [
    {
     "data": {
      "text/plain": [
       "array([datetime.date(2023, 3, 1), datetime.date(2022, 10, 1),\n",
       "       datetime.date(2023, 4, 1), datetime.date(2023, 5, 1),\n",
       "       datetime.date(2023, 6, 1), datetime.date(2023, 2, 1),\n",
       "       datetime.date(2022, 7, 1), datetime.date(2023, 1, 1),\n",
       "       datetime.date(2022, 9, 1), datetime.date(2022, 8, 1),\n",
       "       datetime.date(2022, 1, 1), datetime.date(2022, 12, 1),\n",
       "       datetime.date(2022, 11, 1), datetime.date(2022, 4, 1),\n",
       "       datetime.date(2023, 7, 1), datetime.date(2022, 6, 1),\n",
       "       datetime.date(2022, 5, 1), datetime.date(2022, 2, 1),\n",
       "       datetime.date(2020, 12, 1), datetime.date(2021, 7, 1),\n",
       "       datetime.date(2021, 4, 1), datetime.date(2021, 2, 1),\n",
       "       datetime.date(2021, 3, 1), datetime.date(2020, 11, 1),\n",
       "       datetime.date(2022, 3, 1), datetime.date(2021, 6, 1),\n",
       "       datetime.date(2021, 8, 1), datetime.date(2021, 9, 1),\n",
       "       datetime.date(2021, 1, 1), datetime.date(2021, 11, 1),\n",
       "       datetime.date(2020, 2, 1), datetime.date(2021, 12, 1),\n",
       "       datetime.date(2021, 10, 1), datetime.date(2020, 10, 1),\n",
       "       datetime.date(2020, 6, 1), datetime.date(2020, 1, 1),\n",
       "       datetime.date(2020, 9, 1), datetime.date(2020, 8, 1),\n",
       "       datetime.date(2020, 3, 1), datetime.date(2021, 5, 1)], dtype=object)"
      ]
     },
     "execution_count": 96,
     "metadata": {},
     "output_type": "execute_result"
    }
   ],
   "source": [
    "data.makeYear.unique()"
   ]
  },
  {
   "cell_type": "code",
   "execution_count": 97,
   "id": "d9a4c090-701c-462f-a667-2f9269aa5017",
   "metadata": {},
   "outputs": [
    {
     "data": {
      "text/plain": [
       "0"
      ]
     },
     "execution_count": 97,
     "metadata": {},
     "output_type": "execute_result"
    }
   ],
   "source": [
    "data.seatCapacity.isnull().sum()"
   ]
  },
  {
   "cell_type": "code",
   "execution_count": 115,
   "id": "7cda6523-a453-422b-b4ea-b67bd1abbee4",
   "metadata": {},
   "outputs": [
    {
     "data": {
      "text/plain": [
       "46"
      ]
     },
     "execution_count": 115,
     "metadata": {},
     "output_type": "execute_result"
    }
   ],
   "source": [
    "data.seatCapacity.nunique()"
   ]
  },
  {
   "cell_type": "code",
   "execution_count": 116,
   "id": "fb3af78d-4f9b-4d69-aadf-e97af056167d",
   "metadata": {},
   "outputs": [
    {
     "data": {
      "text/plain": [
       "array([53, 40,  2, 33, 31,  4, 27, 24,  3,  5,  7,  6, 55, 54,  1,  0,  8,\n",
       "       20, 32, 42, 35, 19, 56, 43, 47, 22, 38, 50, 51, 41, 45, 52, 13, 18,\n",
       "       21, 25, 37, 36, 10, 11,  9, 63, 28, 39, 29, 59], dtype=int64)"
      ]
     },
     "execution_count": 116,
     "metadata": {},
     "output_type": "execute_result"
    }
   ],
   "source": [
    "data.seatCapacity.unique()"
   ]
  },
  {
   "cell_type": "code",
   "execution_count": null,
   "id": "722f8e8e-af8f-4eb9-8b18-17dc397beedc",
   "metadata": {},
   "outputs": [],
   "source": []
  },
  {
   "cell_type": "code",
   "execution_count": 120,
   "id": "d74c21a1-ac6e-493f-aa2d-45ec98dd0761",
   "metadata": {},
   "outputs": [
    {
     "data": {
      "text/plain": [
       "0    30/06/2024\n",
       "1    29/06/2024\n",
       "2    30/06/2028\n",
       "3    30/06/2028\n",
       "4    30/06/2028\n",
       "Name: insuranceValidity, dtype: object"
      ]
     },
     "execution_count": 120,
     "metadata": {},
     "output_type": "execute_result"
    }
   ],
   "source": [
    "data.insuranceValidity.head()"
   ]
  },
  {
   "cell_type": "code",
   "execution_count": 122,
   "id": "ce59d6ab-e2e8-4850-9b68-b09af92af39a",
   "metadata": {},
   "outputs": [
    {
     "data": {
      "text/plain": [
       "591"
      ]
     },
     "execution_count": 122,
     "metadata": {},
     "output_type": "execute_result"
    }
   ],
   "source": [
    "data.insuranceValidity.nunique()"
   ]
  },
  {
   "cell_type": "code",
   "execution_count": 124,
   "id": "21fb4312-f69a-4047-b770-7d3df9a03cfb",
   "metadata": {},
   "outputs": [
    {
     "data": {
      "text/plain": [
       "array(['30/06/2024', '29/06/2024', '30/06/2028', '27/06/2028',\n",
       "       '28/06/2028', '26/06/2028'], dtype=object)"
      ]
     },
     "execution_count": 124,
     "metadata": {},
     "output_type": "execute_result"
    }
   ],
   "source": [
    "data.insuranceValidity.unique()[:6]"
   ]
  },
  {
   "cell_type": "code",
   "execution_count": 126,
   "id": "b1a432c0-4bb8-46fd-816d-753c0863d83f",
   "metadata": {},
   "outputs": [
    {
     "data": {
      "text/plain": [
       "24"
      ]
     },
     "execution_count": 126,
     "metadata": {},
     "output_type": "execute_result"
    }
   ],
   "source": [
    "data.insuranceValidity.isnull().sum()"
   ]
  },
  {
   "cell_type": "code",
   "execution_count": 128,
   "id": "9123b862-7878-487b-bd62-87f8056c4df5",
   "metadata": {},
   "outputs": [
    {
     "data": {
      "text/plain": [
       "145805    30/07/2026\n",
       "145806    30/07/2028\n",
       "145807    30/07/2024\n",
       "145808    30/07/2024\n",
       "145809    30/07/2024\n",
       "Name: insuranceValidity, dtype: object"
      ]
     },
     "execution_count": 128,
     "metadata": {},
     "output_type": "execute_result"
    }
   ],
   "source": [
    "data.insuranceValidity.tail()"
   ]
  },
  {
   "cell_type": "code",
   "execution_count": 130,
   "id": "5c907f9d-4f14-4156-bfd0-7c3df26e003d",
   "metadata": {},
   "outputs": [],
   "source": [
    "data['insuranceValidity'] = data['insuranceValidity'].bfill()"
   ]
  },
  {
   "cell_type": "code",
   "execution_count": 132,
   "id": "f96cefbd-8a4f-413b-9aff-cf652f033225",
   "metadata": {},
   "outputs": [
    {
     "data": {
      "text/plain": [
       "modelDesc                 0\n",
       "fuel                      0\n",
       "colour                    0\n",
       "vehicleClass              0\n",
       "makeYear                  0\n",
       "seatCapacity              0\n",
       "insuranceValidity         0\n",
       "secondVehicle             0\n",
       "tempRegistrationNumber    0\n",
       "category                  0\n",
       "makerName                 0\n",
       "OfficeCd                  0\n",
       "fromdate                  0\n",
       "todate                    0\n",
       "dtype: int64"
      ]
     },
     "execution_count": 132,
     "metadata": {},
     "output_type": "execute_result"
    }
   ],
   "source": [
    "data.isnull().sum()"
   ]
  },
  {
   "cell_type": "code",
   "execution_count": 134,
   "id": "36c758ed-7402-44e4-b8fc-89a3f40138e1",
   "metadata": {},
   "outputs": [
    {
     "data": {
      "text/plain": [
       "0"
      ]
     },
     "execution_count": 134,
     "metadata": {},
     "output_type": "execute_result"
    }
   ],
   "source": [
    "data.insuranceValidity.isnull().sum()"
   ]
  },
  {
   "cell_type": "code",
   "execution_count": null,
   "id": "34f193ab-e154-4807-805a-f56fb41b4df4",
   "metadata": {},
   "outputs": [],
   "source": []
  },
  {
   "cell_type": "code",
   "execution_count": 137,
   "id": "ebeb8625-0ceb-4ab7-a6d0-7a9d4442db60",
   "metadata": {},
   "outputs": [
    {
     "data": {
      "text/plain": [
       "0    N\n",
       "1    N\n",
       "2    N\n",
       "3    N\n",
       "4    N\n",
       "Name: secondVehicle, dtype: object"
      ]
     },
     "execution_count": 137,
     "metadata": {},
     "output_type": "execute_result"
    }
   ],
   "source": [
    "data.secondVehicle.head()"
   ]
  },
  {
   "cell_type": "code",
   "execution_count": 138,
   "id": "9ca6b3a7-c17e-4a4b-a331-bc11456b44c7",
   "metadata": {},
   "outputs": [
    {
     "data": {
      "text/plain": [
       "2"
      ]
     },
     "execution_count": 138,
     "metadata": {},
     "output_type": "execute_result"
    }
   ],
   "source": [
    "data.secondVehicle.nunique()"
   ]
  },
  {
   "cell_type": "code",
   "execution_count": 139,
   "id": "bbac7390-993b-4064-be89-d4db435d7995",
   "metadata": {},
   "outputs": [
    {
     "data": {
      "text/plain": [
       "array(['N', 'Y'], dtype=object)"
      ]
     },
     "execution_count": 139,
     "metadata": {},
     "output_type": "execute_result"
    }
   ],
   "source": [
    "data.secondVehicle.unique()"
   ]
  },
  {
   "cell_type": "code",
   "execution_count": 140,
   "id": "5752690b-af48-4764-8cd5-f04e37fb0870",
   "metadata": {
    "scrolled": true
   },
   "outputs": [],
   "source": [
    "data=data.drop('secondVehicle',axis=1)"
   ]
  },
  {
   "cell_type": "code",
   "execution_count": null,
   "id": "8ce03267-2ee7-4139-8892-d340d0900207",
   "metadata": {},
   "outputs": [],
   "source": []
  },
  {
   "cell_type": "code",
   "execution_count": 142,
   "id": "0f903c76-c55f-445f-bf44-76b51c9e6a9d",
   "metadata": {},
   "outputs": [
    {
     "data": {
      "text/plain": [
       "76235"
      ]
     },
     "execution_count": 142,
     "metadata": {},
     "output_type": "execute_result"
    }
   ],
   "source": [
    "data.tempRegistrationNumber.nunique()"
   ]
  },
  {
   "cell_type": "code",
   "execution_count": 143,
   "id": "58ddb3d8-fffd-4c4f-a516-1d5054975444",
   "metadata": {
    "scrolled": true
   },
   "outputs": [],
   "source": [
    "data=data.drop('tempRegistrationNumber',axis=1)"
   ]
  },
  {
   "cell_type": "code",
   "execution_count": 144,
   "id": "58ed0b34-970a-48ad-9d50-6f0eb5be0e0e",
   "metadata": {},
   "outputs": [
    {
     "data": {
      "text/plain": [
       "Index(['modelDesc', 'fuel', 'colour', 'vehicleClass', 'makeYear',\n",
       "       'seatCapacity', 'insuranceValidity', 'category', 'makerName',\n",
       "       'OfficeCd', 'fromdate', 'todate'],\n",
       "      dtype='object')"
      ]
     },
     "execution_count": 144,
     "metadata": {},
     "output_type": "execute_result"
    }
   ],
   "source": [
    "data.columns"
   ]
  },
  {
   "cell_type": "code",
   "execution_count": null,
   "id": "68fb9aaf-e345-4448-af16-01a1515a7bdf",
   "metadata": {},
   "outputs": [],
   "source": []
  },
  {
   "cell_type": "code",
   "execution_count": 146,
   "id": "1e513406-a477-4eb0-8a03-be7322c09e56",
   "metadata": {},
   "outputs": [
    {
     "data": {
      "text/plain": [
       "2"
      ]
     },
     "execution_count": 146,
     "metadata": {},
     "output_type": "execute_result"
    }
   ],
   "source": [
    "data.category.nunique()"
   ]
  },
  {
   "cell_type": "code",
   "execution_count": 147,
   "id": "8ca1ce30-435e-465a-8489-268a53fe8db0",
   "metadata": {},
   "outputs": [
    {
     "data": {
      "text/plain": [
       "array(['Transport', 'Non Transport'], dtype=object)"
      ]
     },
     "execution_count": 147,
     "metadata": {},
     "output_type": "execute_result"
    }
   ],
   "source": [
    "data.category.unique()"
   ]
  },
  {
   "cell_type": "code",
   "execution_count": null,
   "id": "d31c8d8a-14ca-44be-a82b-cb59733f61a6",
   "metadata": {},
   "outputs": [],
   "source": []
  },
  {
   "cell_type": "code",
   "execution_count": 149,
   "id": "f6dc7b17-fb5d-4d69-8f94-0f0c24d67c3a",
   "metadata": {},
   "outputs": [
    {
     "data": {
      "text/plain": [
       "372"
      ]
     },
     "execution_count": 149,
     "metadata": {},
     "output_type": "execute_result"
    }
   ],
   "source": [
    "data.makerName.nunique()"
   ]
  },
  {
   "cell_type": "code",
   "execution_count": 150,
   "id": "c16bdc93-2530-47d7-9585-46a1d66ac3d7",
   "metadata": {},
   "outputs": [
    {
     "data": {
      "text/plain": [
       "array(['M/S SML ISUZU LIMITED', 'HONDA MOTORCYCLE&SCOOTER(I)P L',\n",
       "       'SUZUKI MOTORCYCLE (I) PVT LTD', 'BAJAJ AUTO LTD',\n",
       "       'TVS MOTOR COMPANY LTD', 'MAHINDRA & MAHINDRA LTD'], dtype=object)"
      ]
     },
     "execution_count": 150,
     "metadata": {},
     "output_type": "execute_result"
    }
   ],
   "source": [
    "data.makerName.unique()[:6]"
   ]
  },
  {
   "cell_type": "code",
   "execution_count": 151,
   "id": "d1e94c4d-a4c1-47e8-8478-559c74525972",
   "metadata": {},
   "outputs": [
    {
     "data": {
      "text/plain": [
       "0    RTA NAGARKURNOOL\n",
       "1         RTA MEDCHAL\n",
       "2         RTA MEDCHAL\n",
       "3         RTA MEDCHAL\n",
       "4    RTA-HYDERABAD-SZ\n",
       "Name: OfficeCd, dtype: object"
      ]
     },
     "execution_count": 151,
     "metadata": {},
     "output_type": "execute_result"
    }
   ],
   "source": [
    "data.OfficeCd.head()"
   ]
  },
  {
   "cell_type": "code",
   "execution_count": 152,
   "id": "b81c1ed6-95b8-4174-90b1-851d6e37cd19",
   "metadata": {},
   "outputs": [
    {
     "data": {
      "text/plain": [
       "55"
      ]
     },
     "execution_count": 152,
     "metadata": {},
     "output_type": "execute_result"
    }
   ],
   "source": [
    "data.OfficeCd.nunique()"
   ]
  },
  {
   "cell_type": "code",
   "execution_count": 166,
   "id": "2ebf0a8f-b35b-43f3-90a8-76f76a17769d",
   "metadata": {},
   "outputs": [
    {
     "data": {
      "text/plain": [
       "array(['RTA NAGARKURNOOL', 'RTA MEDCHAL', 'RTA-HYDERABAD-SZ',\n",
       "       'RTA-HYDERABAD-EZ', 'RTA IBRAHIMPATNAM', 'RTA YADADRI',\n",
       "       'RTA WANAPARTHY', 'RTA MAHABOOBNAGAR', 'RTA MEDAK',\n",
       "       'RTA KOMRAMBHEEM', 'RTA NIZAMABAD', 'RTA RANGAREDDY',\n",
       "       'RTA KAMAREDDY', 'RTA-HYDERABAD-CZ', 'UNIT OFFICE WYRA',\n",
       "       'RTA MULUGU', 'RTA-HYDERABAD-NZ', 'RTA MAHABUBABAD',\n",
       "       'RTA VIKARABAD', 'RTA KHAMMAM', 'UNIT OFFICE ARMOOR',\n",
       "       'RTA WARANGAL', 'RTA HANUMAKONDA', 'RTA SIDDIPET', 'RTA JANGOAN',\n",
       "       'RTA NALGONDA', 'RTA NARAYANPET', 'UNIT OFFICE KORUTLA',\n",
       "       'UNIT OFFICE MIRYALAGUDA', 'RTA RAJANNA', 'UNIT OFFICE KUKATPALLY',\n",
       "       'RTA SURYAPET', 'UNIT OFFICE BHODAN', 'UNIT OFFICE ZAHIRABAD',\n",
       "       'UNIT OFFICE KODAD', 'RTA-HYDERABAD-WZ', 'RTA UPPAL',\n",
       "       'UNIT OFFICE PATANCHERUVU', 'UNIT OFFICE PEBBAIR', 'RTA ADILABAD',\n",
       "       'UNIT OFFICE KALWAKURTHY', 'RTA JOGULAMBA',\n",
       "       'UNIT OFFICE RAMAGUNDAM', 'RTA PEDDAPALLI', 'RTA NIRMAL',\n",
       "       'RTA MANCHERIAL', 'RTA KARIMNAGAR', 'RTA JAYASHANKAR',\n",
       "       'UNIT OFFICE PARGI', 'RTA SANGAREDDY', 'RTA BHADRADRI',\n",
       "       'RTA JAGITYAL', 'UNIT OFFICE HUZURABAD',\n",
       "       'UNIT OFFICE BHADRACHALAM', 'UNIT OFFICE SATTUPALLI'], dtype=object)"
      ]
     },
     "execution_count": 166,
     "metadata": {},
     "output_type": "execute_result"
    }
   ],
   "source": [
    "data.OfficeCd.unique()"
   ]
  },
  {
   "cell_type": "code",
   "execution_count": 167,
   "id": "a9b4ed3b-3ee5-4bf3-a010-05ce6e080a3b",
   "metadata": {},
   "outputs": [
    {
     "data": {
      "text/html": [
       "<div>\n",
       "<style scoped>\n",
       "    .dataframe tbody tr th:only-of-type {\n",
       "        vertical-align: middle;\n",
       "    }\n",
       "\n",
       "    .dataframe tbody tr th {\n",
       "        vertical-align: top;\n",
       "    }\n",
       "\n",
       "    .dataframe thead th {\n",
       "        text-align: right;\n",
       "    }\n",
       "</style>\n",
       "<table border=\"1\" class=\"dataframe\">\n",
       "  <thead>\n",
       "    <tr style=\"text-align: right;\">\n",
       "      <th></th>\n",
       "      <th>fromdate</th>\n",
       "      <th>todate</th>\n",
       "    </tr>\n",
       "  </thead>\n",
       "  <tbody>\n",
       "    <tr>\n",
       "      <th>0</th>\n",
       "      <td>01/07/2023</td>\n",
       "      <td>02/07/2023</td>\n",
       "    </tr>\n",
       "    <tr>\n",
       "      <th>1</th>\n",
       "      <td>01/07/2023</td>\n",
       "      <td>02/07/2023</td>\n",
       "    </tr>\n",
       "    <tr>\n",
       "      <th>2</th>\n",
       "      <td>01/07/2023</td>\n",
       "      <td>02/07/2023</td>\n",
       "    </tr>\n",
       "    <tr>\n",
       "      <th>3</th>\n",
       "      <td>01/07/2023</td>\n",
       "      <td>02/07/2023</td>\n",
       "    </tr>\n",
       "    <tr>\n",
       "      <th>4</th>\n",
       "      <td>01/07/2023</td>\n",
       "      <td>02/07/2023</td>\n",
       "    </tr>\n",
       "  </tbody>\n",
       "</table>\n",
       "</div>"
      ],
      "text/plain": [
       "     fromdate      todate\n",
       "0  01/07/2023  02/07/2023\n",
       "1  01/07/2023  02/07/2023\n",
       "2  01/07/2023  02/07/2023\n",
       "3  01/07/2023  02/07/2023\n",
       "4  01/07/2023  02/07/2023"
      ]
     },
     "execution_count": 167,
     "metadata": {},
     "output_type": "execute_result"
    }
   ],
   "source": [
    "data[['fromdate','todate']].head()"
   ]
  },
  {
   "cell_type": "code",
   "execution_count": 168,
   "id": "955ca83c-ffc4-48ae-9940-1a6066fb559b",
   "metadata": {},
   "outputs": [],
   "source": [
    "data=data.drop(['fromdate','todate'] , axis=1)"
   ]
  },
  {
   "cell_type": "code",
   "execution_count": null,
   "id": "0993e41e-1e24-404d-a733-ba65c211a10d",
   "metadata": {},
   "outputs": [],
   "source": []
  },
  {
   "cell_type": "markdown",
   "id": "5290988f-b05c-4007-80de-d9ba0420a38a",
   "metadata": {},
   "source": [
    "Now check the all requirements"
   ]
  },
  {
   "cell_type": "code",
   "execution_count": 171,
   "id": "2b4f096f-c39f-4260-b1a2-eb590f3f48cb",
   "metadata": {},
   "outputs": [
    {
     "data": {
      "text/html": [
       "<div>\n",
       "<style scoped>\n",
       "    .dataframe tbody tr th:only-of-type {\n",
       "        vertical-align: middle;\n",
       "    }\n",
       "\n",
       "    .dataframe tbody tr th {\n",
       "        vertical-align: top;\n",
       "    }\n",
       "\n",
       "    .dataframe thead th {\n",
       "        text-align: right;\n",
       "    }\n",
       "</style>\n",
       "<table border=\"1\" class=\"dataframe\">\n",
       "  <thead>\n",
       "    <tr style=\"text-align: right;\">\n",
       "      <th></th>\n",
       "      <th>modelDesc</th>\n",
       "      <th>fuel</th>\n",
       "      <th>colour</th>\n",
       "      <th>vehicleClass</th>\n",
       "      <th>makeYear</th>\n",
       "      <th>seatCapacity</th>\n",
       "      <th>insuranceValidity</th>\n",
       "      <th>category</th>\n",
       "      <th>makerName</th>\n",
       "      <th>OfficeCd</th>\n",
       "    </tr>\n",
       "  </thead>\n",
       "  <tbody>\n",
       "    <tr>\n",
       "      <th>0</th>\n",
       "      <td>S7 5100 SCHOOL BUS 53 SEATER BSVI</td>\n",
       "      <td>DIESEL</td>\n",
       "      <td>GOLDEN YELLOW</td>\n",
       "      <td>Ominibus</td>\n",
       "      <td>2023-03-01</td>\n",
       "      <td>53</td>\n",
       "      <td>30/06/2024</td>\n",
       "      <td>Transport</td>\n",
       "      <td>M/S SML ISUZU LIMITED</td>\n",
       "      <td>RTA NAGARKURNOOL</td>\n",
       "    </tr>\n",
       "    <tr>\n",
       "      <th>1</th>\n",
       "      <td>SUPREME 4760 ZT54E DELWB SCHOOL BUS 40 BSVI</td>\n",
       "      <td>DIESEL</td>\n",
       "      <td>GOLDEN YELLOW</td>\n",
       "      <td>Ominibus</td>\n",
       "      <td>2022-10-01</td>\n",
       "      <td>40</td>\n",
       "      <td>29/06/2024</td>\n",
       "      <td>Transport</td>\n",
       "      <td>M/S SML ISUZU LIMITED</td>\n",
       "      <td>RTA MEDCHAL</td>\n",
       "    </tr>\n",
       "    <tr>\n",
       "      <th>2</th>\n",
       "      <td>ACTIVA-DLX BSVI-PH2</td>\n",
       "      <td>PETROL</td>\n",
       "      <td>DECENT BLUE METALLIC</td>\n",
       "      <td>MOTOR CYCLE</td>\n",
       "      <td>2023-03-01</td>\n",
       "      <td>2</td>\n",
       "      <td>30/06/2028</td>\n",
       "      <td>Non Transport</td>\n",
       "      <td>HONDA MOTORCYCLE&amp;SCOOTER(I)P L</td>\n",
       "      <td>RTA MEDCHAL</td>\n",
       "    </tr>\n",
       "    <tr>\n",
       "      <th>3</th>\n",
       "      <td>ACTIVA-DLX BSVI-PH2</td>\n",
       "      <td>PETROL</td>\n",
       "      <td>DECENT BLUE METALLIC</td>\n",
       "      <td>MOTOR CYCLE</td>\n",
       "      <td>2023-04-01</td>\n",
       "      <td>2</td>\n",
       "      <td>30/06/2028</td>\n",
       "      <td>Non Transport</td>\n",
       "      <td>HONDA MOTORCYCLE&amp;SCOOTER(I)P L</td>\n",
       "      <td>RTA MEDCHAL</td>\n",
       "    </tr>\n",
       "    <tr>\n",
       "      <th>4</th>\n",
       "      <td>ACTIVA-DLX BSVI-PH2</td>\n",
       "      <td>PETROL</td>\n",
       "      <td>DECENT BLUE METALLIC</td>\n",
       "      <td>MOTOR CYCLE</td>\n",
       "      <td>2023-05-01</td>\n",
       "      <td>2</td>\n",
       "      <td>30/06/2028</td>\n",
       "      <td>Non Transport</td>\n",
       "      <td>HONDA MOTORCYCLE&amp;SCOOTER(I)P L</td>\n",
       "      <td>RTA-HYDERABAD-SZ</td>\n",
       "    </tr>\n",
       "  </tbody>\n",
       "</table>\n",
       "</div>"
      ],
      "text/plain": [
       "                                     modelDesc    fuel                colour  \\\n",
       "0            S7 5100 SCHOOL BUS 53 SEATER BSVI  DIESEL         GOLDEN YELLOW   \n",
       "1  SUPREME 4760 ZT54E DELWB SCHOOL BUS 40 BSVI  DIESEL         GOLDEN YELLOW   \n",
       "2                          ACTIVA-DLX BSVI-PH2  PETROL  DECENT BLUE METALLIC   \n",
       "3                          ACTIVA-DLX BSVI-PH2  PETROL  DECENT BLUE METALLIC   \n",
       "4                          ACTIVA-DLX BSVI-PH2  PETROL  DECENT BLUE METALLIC   \n",
       "\n",
       "  vehicleClass    makeYear  seatCapacity insuranceValidity       category  \\\n",
       "0     Ominibus  2023-03-01            53        30/06/2024      Transport   \n",
       "1     Ominibus  2022-10-01            40        29/06/2024      Transport   \n",
       "2  MOTOR CYCLE  2023-03-01             2        30/06/2028  Non Transport   \n",
       "3  MOTOR CYCLE  2023-04-01             2        30/06/2028  Non Transport   \n",
       "4  MOTOR CYCLE  2023-05-01             2        30/06/2028  Non Transport   \n",
       "\n",
       "                        makerName          OfficeCd  \n",
       "0           M/S SML ISUZU LIMITED  RTA NAGARKURNOOL  \n",
       "1           M/S SML ISUZU LIMITED       RTA MEDCHAL  \n",
       "2  HONDA MOTORCYCLE&SCOOTER(I)P L       RTA MEDCHAL  \n",
       "3  HONDA MOTORCYCLE&SCOOTER(I)P L       RTA MEDCHAL  \n",
       "4  HONDA MOTORCYCLE&SCOOTER(I)P L  RTA-HYDERABAD-SZ  "
      ]
     },
     "execution_count": 171,
     "metadata": {},
     "output_type": "execute_result"
    }
   ],
   "source": [
    "data.head(5)"
   ]
  },
  {
   "cell_type": "code",
   "execution_count": 176,
   "id": "16806663-2495-4bf0-9a35-14613f7d61c2",
   "metadata": {},
   "outputs": [
    {
     "data": {
      "text/plain": [
       "modelDesc            0\n",
       "fuel                 0\n",
       "colour               0\n",
       "vehicleClass         0\n",
       "makeYear             0\n",
       "seatCapacity         0\n",
       "insuranceValidity    0\n",
       "category             0\n",
       "makerName            0\n",
       "OfficeCd             0\n",
       "dtype: int64"
      ]
     },
     "execution_count": 176,
     "metadata": {},
     "output_type": "execute_result"
    }
   ],
   "source": [
    "data.isnull().sum()"
   ]
  },
  {
   "cell_type": "code",
   "execution_count": 178,
   "id": "a4dbf8fc-1370-45e5-aff9-a7b8610cafc8",
   "metadata": {},
   "outputs": [
    {
     "data": {
      "text/plain": [
       "Index(['modelDesc', 'fuel', 'colour', 'vehicleClass', 'makeYear',\n",
       "       'seatCapacity', 'insuranceValidity', 'category', 'makerName',\n",
       "       'OfficeCd'],\n",
       "      dtype='object')"
      ]
     },
     "execution_count": 178,
     "metadata": {},
     "output_type": "execute_result"
    }
   ],
   "source": [
    "data.columns"
   ]
  },
  {
   "cell_type": "code",
   "execution_count": 180,
   "id": "e7899954-099e-4716-afc2-b76d99c39952",
   "metadata": {},
   "outputs": [
    {
     "name": "stdout",
     "output_type": "stream",
     "text": [
      "<class 'pandas.core.frame.DataFrame'>\n",
      "Index: 76235 entries, 0 to 145809\n",
      "Data columns (total 10 columns):\n",
      " #   Column             Non-Null Count  Dtype \n",
      "---  ------             --------------  ----- \n",
      " 0   modelDesc          76235 non-null  object\n",
      " 1   fuel               76235 non-null  object\n",
      " 2   colour             76235 non-null  object\n",
      " 3   vehicleClass       76235 non-null  object\n",
      " 4   makeYear           76235 non-null  object\n",
      " 5   seatCapacity       76235 non-null  int64 \n",
      " 6   insuranceValidity  76235 non-null  object\n",
      " 7   category           76235 non-null  object\n",
      " 8   makerName          76235 non-null  object\n",
      " 9   OfficeCd           76235 non-null  object\n",
      "dtypes: int64(1), object(9)\n",
      "memory usage: 6.4+ MB\n"
     ]
    }
   ],
   "source": [
    "data.info()"
   ]
  },
  {
   "cell_type": "code",
   "execution_count": 182,
   "id": "b35eea3c-d02b-43b6-89a6-a30633db75d1",
   "metadata": {},
   "outputs": [
    {
     "data": {
      "text/html": [
       "<div>\n",
       "<style scoped>\n",
       "    .dataframe tbody tr th:only-of-type {\n",
       "        vertical-align: middle;\n",
       "    }\n",
       "\n",
       "    .dataframe tbody tr th {\n",
       "        vertical-align: top;\n",
       "    }\n",
       "\n",
       "    .dataframe thead th {\n",
       "        text-align: right;\n",
       "    }\n",
       "</style>\n",
       "<table border=\"1\" class=\"dataframe\">\n",
       "  <thead>\n",
       "    <tr style=\"text-align: right;\">\n",
       "      <th></th>\n",
       "      <th>seatCapacity</th>\n",
       "    </tr>\n",
       "  </thead>\n",
       "  <tbody>\n",
       "    <tr>\n",
       "      <th>count</th>\n",
       "      <td>76235.000000</td>\n",
       "    </tr>\n",
       "    <tr>\n",
       "      <th>mean</th>\n",
       "      <td>2.964898</td>\n",
       "    </tr>\n",
       "    <tr>\n",
       "      <th>std</th>\n",
       "      <td>3.523174</td>\n",
       "    </tr>\n",
       "    <tr>\n",
       "      <th>min</th>\n",
       "      <td>0.000000</td>\n",
       "    </tr>\n",
       "    <tr>\n",
       "      <th>25%</th>\n",
       "      <td>2.000000</td>\n",
       "    </tr>\n",
       "    <tr>\n",
       "      <th>50%</th>\n",
       "      <td>2.000000</td>\n",
       "    </tr>\n",
       "    <tr>\n",
       "      <th>75%</th>\n",
       "      <td>4.000000</td>\n",
       "    </tr>\n",
       "    <tr>\n",
       "      <th>max</th>\n",
       "      <td>63.000000</td>\n",
       "    </tr>\n",
       "  </tbody>\n",
       "</table>\n",
       "</div>"
      ],
      "text/plain": [
       "       seatCapacity\n",
       "count  76235.000000\n",
       "mean       2.964898\n",
       "std        3.523174\n",
       "min        0.000000\n",
       "25%        2.000000\n",
       "50%        2.000000\n",
       "75%        4.000000\n",
       "max       63.000000"
      ]
     },
     "execution_count": 182,
     "metadata": {},
     "output_type": "execute_result"
    }
   ],
   "source": [
    "data.describe()"
   ]
  },
  {
   "cell_type": "code",
   "execution_count": null,
   "id": "72b852b0-0f98-4dfe-bc8a-1085c1112b7b",
   "metadata": {},
   "outputs": [],
   "source": []
  },
  {
   "cell_type": "markdown",
   "id": "c7d28316-1886-4338-8ae3-146c78b96241",
   "metadata": {},
   "source": [
    "**top 10 most sold vehicle models in Telangana (July)?**"
   ]
  },
  {
   "cell_type": "code",
   "execution_count": 186,
   "id": "2d9316d9-9d82-427f-afb7-467b2982b94a",
   "metadata": {},
   "outputs": [
    {
     "data": {
      "text/plain": [
       "modelDesc\n",
       "ACTIVA-DLX BSVI-PH2                                  5761\n",
       "SHINE 125 DRUM BSVI-PH2                              3065\n",
       "PASSION + I 3S DRS BSVI-PH2                          2455\n",
       "UNICORN BSVI-PH2                                     2290\n",
       "ACTIVA 125 DISC BSVI-PH2                             2285\n",
       "                                                     ... \n",
       "DEFENDER3.0LD300DLWB4WD130A5DHSE8S BSVI-PH2             1\n",
       "DI-47RXHEAVYDUTY(6-16/14.9-28)(DC) BSIIIA               1\n",
       "TATA NEXON XZ+ 1.5 RTQ BS6 BSVI                         1\n",
       "URBANIAFM2.6CR4400(17+D)RFS BSVI-PH2                    1\n",
       "BADA DOST I2TNDD-CC-NON AC-215/75-R15-LT BSVI-PH2       1\n",
       "Name: count, Length: 2331, dtype: int64"
      ]
     },
     "execution_count": 186,
     "metadata": {},
     "output_type": "execute_result"
    }
   ],
   "source": [
    "data['modelDesc'].value_counts()"
   ]
  },
  {
   "cell_type": "code",
   "execution_count": 226,
   "id": "a0653205-02a0-4097-8c8a-31e6a48f7729",
   "metadata": {},
   "outputs": [
    {
     "name": "stdout",
     "output_type": "stream",
     "text": [
      "modelDesc\n",
      "TVS JUPITER 125 BSVI-PH2                              1220\n",
      "ACTIVA-SMART BSVI-PH2                                 1239\n",
      "SPLENDOR+I3S-(DRS) BSVI-PH2                           1245\n",
      "TVS XL100 HEAVY DUTY I-TOUCH START BSVI-PH2           1422\n",
      "BAJAJ RE CNG 4S FI(WITH LH GASOLINE TANK) BSVI-PH2    1503\n",
      "ACTIVA 125 DISC BSVI-PH2                              2285\n",
      "UNICORN BSVI-PH2                                      2290\n",
      "PASSION + I 3S DRS BSVI-PH2                           2455\n",
      "SHINE 125 DRUM BSVI-PH2                               3065\n",
      "ACTIVA-DLX BSVI-PH2                                   5761\n",
      "Name: count, dtype: int64\n"
     ]
    }
   ],
   "source": [
    "top10_models = data['modelDesc'].value_counts().head(10).sort_values(ascending = True)\n",
    "print(top10_models)"
   ]
  },
  {
   "cell_type": "code",
   "execution_count": 228,
   "id": "4d2786d9-b5ff-4303-8ff0-959c2c411400",
   "metadata": {},
   "outputs": [
    {
     "data": {
      "image/png": "[encoded data removed]",
      "text/plain": [
       "<Figure size 1100x800 with 1 Axes>"
      ]
     },
     "metadata": {},
     "output_type": "display_data"
    }
   ],
   "source": [
    "height = top10_models.values\n",
    "bars = top10_models.index\n",
    "y_pos = np.arange(len(bars))\n",
    "\n",
    "fig = plt.figure(figsize=[11, 8])\n",
    "ax = fig.gca()\n",
    "ax.spines['top'].set_visible(False)\n",
    "ax.spines['right'].set_visible(False)\n",
    "ax.spines['left'].set_color(\"dimgray\")\n",
    "ax.spines['bottom'].set_color(\"dimgray\")\n",
    "\n",
    "colors = ['peachpuff', 'salmon', 'lightcoral', 'indianred', 'crimson', \n",
    "          'mediumvioletred', 'purple', 'darkviolet', 'indigo', 'navy']\n",
    "\n",
    "plt.barh(y_pos, height, color=colors)\n",
    "plt.xticks(color=\"gray\")\n",
    "plt.yticks(y_pos, bars, color=\"dimgray\")\n",
    "plt.xlabel(\"Number of Vehicles Sold\", fontsize=12)\n",
    "plt.ylabel(\"Vehicle Model\",fontsize=12)\n",
    "\n",
    "plt.title(\"Top 10 Most Sold Vehicle Models in Telangana (July)\", fontsize=14)\n",
    "plt.tight_layout()\n",
    "plt.show()\n"
   ]
  },
  {
   "cell_type": "code",
   "execution_count": null,
   "id": "10994b4b-8759-4bb3-aa60-7f7a0995850f",
   "metadata": {},
   "outputs": [],
   "source": []
  },
  {
   "cell_type": "markdown",
   "id": "016d0fca-8d30-4840-9247-bf7b65e01ea1",
   "metadata": {},
   "source": [
    "**top most sold colors with respect to vehicle class?**"
   ]
  },
  {
   "cell_type": "code",
   "execution_count": 192,
   "id": "6a6fbf28-abf5-4472-9608-13e8b433ed52",
   "metadata": {},
   "outputs": [
    {
     "data": {
      "text/html": [
       "<div>\n",
       "<style scoped>\n",
       "    .dataframe tbody tr th:only-of-type {\n",
       "        vertical-align: middle;\n",
       "    }\n",
       "\n",
       "    .dataframe tbody tr th {\n",
       "        vertical-align: top;\n",
       "    }\n",
       "\n",
       "    .dataframe thead th {\n",
       "        text-align: right;\n",
       "    }\n",
       "</style>\n",
       "<table border=\"1\" class=\"dataframe\">\n",
       "  <thead>\n",
       "    <tr style=\"text-align: right;\">\n",
       "      <th></th>\n",
       "      <th>vehicleClass</th>\n",
       "      <th>colour</th>\n",
       "      <th>count</th>\n",
       "    </tr>\n",
       "  </thead>\n",
       "  <tbody>\n",
       "    <tr>\n",
       "      <th>0</th>\n",
       "      <td>Ambulance</td>\n",
       "      <td>PORCLN_WHITE</td>\n",
       "      <td>238</td>\n",
       "    </tr>\n",
       "    <tr>\n",
       "      <th>1</th>\n",
       "      <td>Ambulance</td>\n",
       "      <td>SNOW WHITE</td>\n",
       "      <td>106</td>\n",
       "    </tr>\n",
       "    <tr>\n",
       "      <th>2</th>\n",
       "      <td>Ambulance</td>\n",
       "      <td>S WHITE</td>\n",
       "      <td>71</td>\n",
       "    </tr>\n",
       "    <tr>\n",
       "      <th>3</th>\n",
       "      <td>Ambulance</td>\n",
       "      <td>SUPERIOR WHITE</td>\n",
       "      <td>14</td>\n",
       "    </tr>\n",
       "    <tr>\n",
       "      <th>4</th>\n",
       "      <td>Ambulance</td>\n",
       "      <td>SWHITE</td>\n",
       "      <td>13</td>\n",
       "    </tr>\n",
       "    <tr>\n",
       "      <th>...</th>\n",
       "      <td>...</td>\n",
       "      <td>...</td>\n",
       "      <td>...</td>\n",
       "    </tr>\n",
       "    <tr>\n",
       "      <th>3149</th>\n",
       "      <td>Trailer for Agriculture Purpose</td>\n",
       "      <td>YELLOW</td>\n",
       "      <td>1</td>\n",
       "    </tr>\n",
       "    <tr>\n",
       "      <th>3150</th>\n",
       "      <td>Trailer for Agriculture Purpose</td>\n",
       "      <td>YELLOW ORANGE</td>\n",
       "      <td>1</td>\n",
       "    </tr>\n",
       "    <tr>\n",
       "      <th>3151</th>\n",
       "      <td>Vehicle Fitted with Construction Equipment</td>\n",
       "      <td>YELLOW</td>\n",
       "      <td>55</td>\n",
       "    </tr>\n",
       "    <tr>\n",
       "      <th>3152</th>\n",
       "      <td>Vehicle Fitted with Construction Equipment</td>\n",
       "      <td>GOLDEN YELLOW GP BON</td>\n",
       "      <td>9</td>\n",
       "    </tr>\n",
       "    <tr>\n",
       "      <th>3153</th>\n",
       "      <td>eCart</td>\n",
       "      <td>BLUE AND WHITE</td>\n",
       "      <td>3</td>\n",
       "    </tr>\n",
       "  </tbody>\n",
       "</table>\n",
       "<p>3154 rows × 3 columns</p>\n",
       "</div>"
      ],
      "text/plain": [
       "                                    vehicleClass                colour  count\n",
       "0                                      Ambulance          PORCLN_WHITE    238\n",
       "1                                      Ambulance            SNOW WHITE    106\n",
       "2                                      Ambulance               S WHITE     71\n",
       "3                                      Ambulance        SUPERIOR WHITE     14\n",
       "4                                      Ambulance                SWHITE     13\n",
       "...                                          ...                   ...    ...\n",
       "3149             Trailer for Agriculture Purpose                YELLOW      1\n",
       "3150             Trailer for Agriculture Purpose         YELLOW ORANGE      1\n",
       "3151  Vehicle Fitted with Construction Equipment                YELLOW     55\n",
       "3152  Vehicle Fitted with Construction Equipment  GOLDEN YELLOW GP BON      9\n",
       "3153                                       eCart        BLUE AND WHITE      3\n",
       "\n",
       "[3154 rows x 3 columns]"
      ]
     },
     "execution_count": 192,
     "metadata": {},
     "output_type": "execute_result"
    }
   ],
   "source": [
    "# Group by 'vehicleClass' and count 'colour' values\n",
    "color_distribution = data.groupby('vehicleClass')['colour'].value_counts().reset_index(name='count')\n",
    "color_distribution"
   ]
  },
  {
   "cell_type": "code",
   "execution_count": 194,
   "id": "61037082-e853-444e-aefb-c50c080a0abb",
   "metadata": {},
   "outputs": [
    {
     "data": {
      "text/plain": [
       "pandas.core.frame.DataFrame"
      ]
     },
     "execution_count": 194,
     "metadata": {},
     "output_type": "execute_result"
    }
   ],
   "source": [
    "type(color_distribution)"
   ]
  },
  {
   "cell_type": "code",
   "execution_count": 196,
   "id": "64b48dbf-e15e-4673-a0bd-d199351cddb0",
   "metadata": {},
   "outputs": [],
   "source": [
    "color_distribution.sort_values('count', ascending=False,inplace=True)"
   ]
  },
  {
   "cell_type": "code",
   "execution_count": 198,
   "id": "f0be6219-e3dd-432f-b35c-541c1a9987e4",
   "metadata": {},
   "outputs": [
    {
     "data": {
      "text/html": [
       "<div>\n",
       "<style scoped>\n",
       "    .dataframe tbody tr th:only-of-type {\n",
       "        vertical-align: middle;\n",
       "    }\n",
       "\n",
       "    .dataframe tbody tr th {\n",
       "        vertical-align: top;\n",
       "    }\n",
       "\n",
       "    .dataframe thead th {\n",
       "        text-align: right;\n",
       "    }\n",
       "</style>\n",
       "<table border=\"1\" class=\"dataframe\">\n",
       "  <thead>\n",
       "    <tr style=\"text-align: right;\">\n",
       "      <th></th>\n",
       "      <th>vehicleClass</th>\n",
       "      <th>colour</th>\n",
       "      <th>count</th>\n",
       "    </tr>\n",
       "  </thead>\n",
       "  <tbody>\n",
       "    <tr>\n",
       "      <th>955</th>\n",
       "      <td>MOTOR CYCLE</td>\n",
       "      <td>BLACK</td>\n",
       "      <td>3897</td>\n",
       "    </tr>\n",
       "    <tr>\n",
       "      <th>9</th>\n",
       "      <td>Auto Rickshaw</td>\n",
       "      <td>GOLDEN YELLOW</td>\n",
       "      <td>2022</td>\n",
       "    </tr>\n",
       "    <tr>\n",
       "      <th>956</th>\n",
       "      <td>MOTOR CYCLE</td>\n",
       "      <td>PEARL PRECIOUS WHITE</td>\n",
       "      <td>1658</td>\n",
       "    </tr>\n",
       "    <tr>\n",
       "      <th>957</th>\n",
       "      <td>MOTOR CYCLE</td>\n",
       "      <td>SPARKLING METALLIC BLACK RED</td>\n",
       "      <td>1610</td>\n",
       "    </tr>\n",
       "    <tr>\n",
       "      <th>958</th>\n",
       "      <td>MOTOR CYCLE</td>\n",
       "      <td>P S BLUE</td>\n",
       "      <td>1492</td>\n",
       "    </tr>\n",
       "    <tr>\n",
       "      <th>959</th>\n",
       "      <td>MOTOR CYCLE</td>\n",
       "      <td>DECENT BLUE METALLIC</td>\n",
       "      <td>1484</td>\n",
       "    </tr>\n",
       "    <tr>\n",
       "      <th>960</th>\n",
       "      <td>MOTOR CYCLE</td>\n",
       "      <td>REBEL RED METALLIC 2</td>\n",
       "      <td>1476</td>\n",
       "    </tr>\n",
       "    <tr>\n",
       "      <th>10</th>\n",
       "      <td>Auto Rickshaw</td>\n",
       "      <td>ECO GREEN</td>\n",
       "      <td>1320</td>\n",
       "    </tr>\n",
       "    <tr>\n",
       "      <th>961</th>\n",
       "      <td>MOTOR CYCLE</td>\n",
       "      <td>MAT AXIS GRAY METALL</td>\n",
       "      <td>1244</td>\n",
       "    </tr>\n",
       "    <tr>\n",
       "      <th>962</th>\n",
       "      <td>MOTOR CYCLE</td>\n",
       "      <td>BLACK NEXUS BLUE</td>\n",
       "      <td>1197</td>\n",
       "    </tr>\n",
       "  </tbody>\n",
       "</table>\n",
       "</div>"
      ],
      "text/plain": [
       "      vehicleClass                        colour  count\n",
       "955    MOTOR CYCLE                         BLACK   3897\n",
       "9    Auto Rickshaw                 GOLDEN YELLOW   2022\n",
       "956    MOTOR CYCLE          PEARL PRECIOUS WHITE   1658\n",
       "957    MOTOR CYCLE  SPARKLING METALLIC BLACK RED   1610\n",
       "958    MOTOR CYCLE                      P S BLUE   1492\n",
       "959    MOTOR CYCLE          DECENT BLUE METALLIC   1484\n",
       "960    MOTOR CYCLE          REBEL RED METALLIC 2   1476\n",
       "10   Auto Rickshaw                     ECO GREEN   1320\n",
       "961    MOTOR CYCLE          MAT AXIS GRAY METALL   1244\n",
       "962    MOTOR CYCLE              BLACK NEXUS BLUE   1197"
      ]
     },
     "execution_count": 198,
     "metadata": {},
     "output_type": "execute_result"
    }
   ],
   "source": [
    "color_distribution.head(10)"
   ]
  },
  {
   "cell_type": "code",
   "execution_count": 200,
   "id": "35e9e98e-0b34-4eb1-9410-1234d515de65",
   "metadata": {},
   "outputs": [
    {
     "data": {
      "text/plain": [
       "0"
      ]
     },
     "execution_count": 200,
     "metadata": {},
     "output_type": "execute_result"
    }
   ],
   "source": [
    "color_distribution.duplicated().sum()"
   ]
  },
  {
   "cell_type": "code",
   "execution_count": 202,
   "id": "d9587a7d-3b68-47d6-ae91-0a865497990b",
   "metadata": {},
   "outputs": [
    {
     "data": {
      "text/html": [
       "<div>\n",
       "<style scoped>\n",
       "    .dataframe tbody tr th:only-of-type {\n",
       "        vertical-align: middle;\n",
       "    }\n",
       "\n",
       "    .dataframe tbody tr th {\n",
       "        vertical-align: top;\n",
       "    }\n",
       "\n",
       "    .dataframe thead th {\n",
       "        text-align: right;\n",
       "    }\n",
       "</style>\n",
       "<table border=\"1\" class=\"dataframe\">\n",
       "  <thead>\n",
       "    <tr style=\"text-align: right;\">\n",
       "      <th></th>\n",
       "      <th>vehicleClass</th>\n",
       "      <th>colour</th>\n",
       "      <th>count</th>\n",
       "    </tr>\n",
       "  </thead>\n",
       "  <tbody>\n",
       "    <tr>\n",
       "      <th>955</th>\n",
       "      <td>MOTOR CYCLE</td>\n",
       "      <td>BLACK</td>\n",
       "      <td>3897</td>\n",
       "    </tr>\n",
       "    <tr>\n",
       "      <th>9</th>\n",
       "      <td>Auto Rickshaw</td>\n",
       "      <td>GOLDEN YELLOW</td>\n",
       "      <td>2022</td>\n",
       "    </tr>\n",
       "    <tr>\n",
       "      <th>956</th>\n",
       "      <td>MOTOR CYCLE</td>\n",
       "      <td>PEARL PRECIOUS WHITE</td>\n",
       "      <td>1658</td>\n",
       "    </tr>\n",
       "    <tr>\n",
       "      <th>957</th>\n",
       "      <td>MOTOR CYCLE</td>\n",
       "      <td>SPARKLING METALLIC BLACK RED</td>\n",
       "      <td>1610</td>\n",
       "    </tr>\n",
       "    <tr>\n",
       "      <th>958</th>\n",
       "      <td>MOTOR CYCLE</td>\n",
       "      <td>P S BLUE</td>\n",
       "      <td>1492</td>\n",
       "    </tr>\n",
       "    <tr>\n",
       "      <th>959</th>\n",
       "      <td>MOTOR CYCLE</td>\n",
       "      <td>DECENT BLUE METALLIC</td>\n",
       "      <td>1484</td>\n",
       "    </tr>\n",
       "    <tr>\n",
       "      <th>960</th>\n",
       "      <td>MOTOR CYCLE</td>\n",
       "      <td>REBEL RED METALLIC 2</td>\n",
       "      <td>1476</td>\n",
       "    </tr>\n",
       "    <tr>\n",
       "      <th>10</th>\n",
       "      <td>Auto Rickshaw</td>\n",
       "      <td>ECO GREEN</td>\n",
       "      <td>1320</td>\n",
       "    </tr>\n",
       "    <tr>\n",
       "      <th>961</th>\n",
       "      <td>MOTOR CYCLE</td>\n",
       "      <td>MAT AXIS GRAY METALL</td>\n",
       "      <td>1244</td>\n",
       "    </tr>\n",
       "    <tr>\n",
       "      <th>962</th>\n",
       "      <td>MOTOR CYCLE</td>\n",
       "      <td>BLACK NEXUS BLUE</td>\n",
       "      <td>1197</td>\n",
       "    </tr>\n",
       "  </tbody>\n",
       "</table>\n",
       "</div>"
      ],
      "text/plain": [
       "      vehicleClass                        colour  count\n",
       "955    MOTOR CYCLE                         BLACK   3897\n",
       "9    Auto Rickshaw                 GOLDEN YELLOW   2022\n",
       "956    MOTOR CYCLE          PEARL PRECIOUS WHITE   1658\n",
       "957    MOTOR CYCLE  SPARKLING METALLIC BLACK RED   1610\n",
       "958    MOTOR CYCLE                      P S BLUE   1492\n",
       "959    MOTOR CYCLE          DECENT BLUE METALLIC   1484\n",
       "960    MOTOR CYCLE          REBEL RED METALLIC 2   1476\n",
       "10   Auto Rickshaw                     ECO GREEN   1320\n",
       "961    MOTOR CYCLE          MAT AXIS GRAY METALL   1244\n",
       "962    MOTOR CYCLE              BLACK NEXUS BLUE   1197"
      ]
     },
     "execution_count": 202,
     "metadata": {},
     "output_type": "execute_result"
    }
   ],
   "source": [
    "top10_colors = color_distribution.sort_values('count', ascending=False).head(10)\n",
    "top10_colors"
   ]
  },
  {
   "cell_type": "code",
   "execution_count": 204,
   "id": "10ba3309-9fc4-45ea-a03a-482353875f6a",
   "metadata": {},
   "outputs": [
    {
     "data": {
      "image/png": "[encoded data removed]",
      "text/plain": [
       "<Figure size 1200x700 with 1 Axes>"
      ]
     },
     "metadata": {},
     "output_type": "display_data"
    }
   ],
   "source": [
    "labels = top10_colors['vehicleClass'] + ' - ' + top10_colors['colour']\n",
    "counts = top10_colors['count']\n",
    "\n",
    "colors = [\n",
    "    'black','gold','gray','red','blue','blue','red','green','gray','blue'            \n",
    "]\n",
    "plt.figure(figsize=(12, 7))\n",
    "bars = plt.barh(labels, counts, color=colors)\n",
    "\n",
    "plt.title('Top 10 Most Sold Color & Vehicle Class Combinations', fontsize=16)\n",
    "plt.xlabel('Number of Vehicles Sold')\n",
    "plt.ylabel('Vehicle Class - Color')\n",
    "plt.gca().invert_yaxis() \n",
    "plt.tight_layout()\n",
    "plt.show()\n"
   ]
  },
  {
   "cell_type": "code",
   "execution_count": 206,
   "id": "25397528-18fc-4e2c-92fc-55a2c7bdb4a8",
   "metadata": {},
   "outputs": [
    {
     "data": {
      "text/html": [
       "<div>\n",
       "<style scoped>\n",
       "    .dataframe tbody tr th:only-of-type {\n",
       "        vertical-align: middle;\n",
       "    }\n",
       "\n",
       "    .dataframe tbody tr th {\n",
       "        vertical-align: top;\n",
       "    }\n",
       "\n",
       "    .dataframe thead th {\n",
       "        text-align: right;\n",
       "    }\n",
       "</style>\n",
       "<table border=\"1\" class=\"dataframe\">\n",
       "  <thead>\n",
       "    <tr style=\"text-align: right;\">\n",
       "      <th></th>\n",
       "      <th>modelDesc</th>\n",
       "      <th>fuel</th>\n",
       "      <th>colour</th>\n",
       "      <th>vehicleClass</th>\n",
       "      <th>makeYear</th>\n",
       "      <th>seatCapacity</th>\n",
       "      <th>insuranceValidity</th>\n",
       "      <th>category</th>\n",
       "      <th>makerName</th>\n",
       "      <th>OfficeCd</th>\n",
       "    </tr>\n",
       "  </thead>\n",
       "  <tbody>\n",
       "    <tr>\n",
       "      <th>0</th>\n",
       "      <td>S7 5100 SCHOOL BUS 53 SEATER BSVI</td>\n",
       "      <td>DIESEL</td>\n",
       "      <td>GOLDEN YELLOW</td>\n",
       "      <td>Ominibus</td>\n",
       "      <td>2023-03-01</td>\n",
       "      <td>53</td>\n",
       "      <td>30/06/2024</td>\n",
       "      <td>Transport</td>\n",
       "      <td>M/S SML ISUZU LIMITED</td>\n",
       "      <td>RTA NAGARKURNOOL</td>\n",
       "    </tr>\n",
       "    <tr>\n",
       "      <th>1</th>\n",
       "      <td>SUPREME 4760 ZT54E DELWB SCHOOL BUS 40 BSVI</td>\n",
       "      <td>DIESEL</td>\n",
       "      <td>GOLDEN YELLOW</td>\n",
       "      <td>Ominibus</td>\n",
       "      <td>2022-10-01</td>\n",
       "      <td>40</td>\n",
       "      <td>29/06/2024</td>\n",
       "      <td>Transport</td>\n",
       "      <td>M/S SML ISUZU LIMITED</td>\n",
       "      <td>RTA MEDCHAL</td>\n",
       "    </tr>\n",
       "    <tr>\n",
       "      <th>2</th>\n",
       "      <td>ACTIVA-DLX BSVI-PH2</td>\n",
       "      <td>PETROL</td>\n",
       "      <td>DECENT BLUE METALLIC</td>\n",
       "      <td>MOTOR CYCLE</td>\n",
       "      <td>2023-03-01</td>\n",
       "      <td>2</td>\n",
       "      <td>30/06/2028</td>\n",
       "      <td>Non Transport</td>\n",
       "      <td>HONDA MOTORCYCLE&amp;SCOOTER(I)P L</td>\n",
       "      <td>RTA MEDCHAL</td>\n",
       "    </tr>\n",
       "    <tr>\n",
       "      <th>3</th>\n",
       "      <td>ACTIVA-DLX BSVI-PH2</td>\n",
       "      <td>PETROL</td>\n",
       "      <td>DECENT BLUE METALLIC</td>\n",
       "      <td>MOTOR CYCLE</td>\n",
       "      <td>2023-04-01</td>\n",
       "      <td>2</td>\n",
       "      <td>30/06/2028</td>\n",
       "      <td>Non Transport</td>\n",
       "      <td>HONDA MOTORCYCLE&amp;SCOOTER(I)P L</td>\n",
       "      <td>RTA MEDCHAL</td>\n",
       "    </tr>\n",
       "    <tr>\n",
       "      <th>4</th>\n",
       "      <td>ACTIVA-DLX BSVI-PH2</td>\n",
       "      <td>PETROL</td>\n",
       "      <td>DECENT BLUE METALLIC</td>\n",
       "      <td>MOTOR CYCLE</td>\n",
       "      <td>2023-05-01</td>\n",
       "      <td>2</td>\n",
       "      <td>30/06/2028</td>\n",
       "      <td>Non Transport</td>\n",
       "      <td>HONDA MOTORCYCLE&amp;SCOOTER(I)P L</td>\n",
       "      <td>RTA-HYDERABAD-SZ</td>\n",
       "    </tr>\n",
       "    <tr>\n",
       "      <th>...</th>\n",
       "      <td>...</td>\n",
       "      <td>...</td>\n",
       "      <td>...</td>\n",
       "      <td>...</td>\n",
       "      <td>...</td>\n",
       "      <td>...</td>\n",
       "      <td>...</td>\n",
       "      <td>...</td>\n",
       "      <td>...</td>\n",
       "      <td>...</td>\n",
       "    </tr>\n",
       "    <tr>\n",
       "      <th>145805</th>\n",
       "      <td>MAHINDRA XUV400 EL 5S BOV</td>\n",
       "      <td>BATTERY</td>\n",
       "      <td>EVRSTWHT</td>\n",
       "      <td>MOTOR CAR</td>\n",
       "      <td>2023-04-01</td>\n",
       "      <td>5</td>\n",
       "      <td>30/07/2026</td>\n",
       "      <td>Non Transport</td>\n",
       "      <td>MAHINDRA &amp; MAHINDRA LTD</td>\n",
       "      <td>RTA UPPAL</td>\n",
       "    </tr>\n",
       "    <tr>\n",
       "      <th>145806</th>\n",
       "      <td>ACCESS 125 DISC BT(ALLOY WHEEL). BSVI-PH2</td>\n",
       "      <td>PETROL</td>\n",
       "      <td>ICE GREEN PEARL WHITE</td>\n",
       "      <td>MOTOR CYCLE</td>\n",
       "      <td>2023-07-01</td>\n",
       "      <td>2</td>\n",
       "      <td>30/07/2028</td>\n",
       "      <td>Non Transport</td>\n",
       "      <td>SUZUKI MOTORCYCLE (I) PVT LTD</td>\n",
       "      <td>UNIT OFFICE PATANCHERUVU</td>\n",
       "    </tr>\n",
       "    <tr>\n",
       "      <th>145807</th>\n",
       "      <td>605DI MS S+V1ARJUNNOVO 4WD(9.5X16,16.9X28) BSIIIA</td>\n",
       "      <td>DIESEL</td>\n",
       "      <td>RED</td>\n",
       "      <td>Tractor for Agricultural Purpose</td>\n",
       "      <td>2023-05-01</td>\n",
       "      <td>1</td>\n",
       "      <td>30/07/2024</td>\n",
       "      <td>Non Transport</td>\n",
       "      <td>MAHINDRA &amp; MAHINDRA LTD,</td>\n",
       "      <td>RTA JAYASHANKAR</td>\n",
       "    </tr>\n",
       "    <tr>\n",
       "      <th>145808</th>\n",
       "      <td>MAHINDRA BOLERO B4 BS-VI BSVI-PH2</td>\n",
       "      <td>DIESEL</td>\n",
       "      <td>WHITE</td>\n",
       "      <td>Motor Cab</td>\n",
       "      <td>2023-06-01</td>\n",
       "      <td>7</td>\n",
       "      <td>30/07/2024</td>\n",
       "      <td>Transport</td>\n",
       "      <td>MAHINDRA &amp; MAHINDRA LTD</td>\n",
       "      <td>RTA BHADRADRI</td>\n",
       "    </tr>\n",
       "    <tr>\n",
       "      <th>145809</th>\n",
       "      <td>JOHN DEERE 5039D V2 BSIIIA</td>\n",
       "      <td>DIESEL</td>\n",
       "      <td>GREEN</td>\n",
       "      <td>Tractor for Commercial Use</td>\n",
       "      <td>2023-06-01</td>\n",
       "      <td>1</td>\n",
       "      <td>30/07/2024</td>\n",
       "      <td>Transport</td>\n",
       "      <td>JOHN DEERE INDIA PVT LIMITED</td>\n",
       "      <td>RTA BHADRADRI</td>\n",
       "    </tr>\n",
       "  </tbody>\n",
       "</table>\n",
       "<p>76235 rows × 10 columns</p>\n",
       "</div>"
      ],
      "text/plain": [
       "                                                modelDesc     fuel  \\\n",
       "0                       S7 5100 SCHOOL BUS 53 SEATER BSVI   DIESEL   \n",
       "1             SUPREME 4760 ZT54E DELWB SCHOOL BUS 40 BSVI   DIESEL   \n",
       "2                                     ACTIVA-DLX BSVI-PH2   PETROL   \n",
       "3                                     ACTIVA-DLX BSVI-PH2   PETROL   \n",
       "4                                     ACTIVA-DLX BSVI-PH2   PETROL   \n",
       "...                                                   ...      ...   \n",
       "145805                          MAHINDRA XUV400 EL 5S BOV  BATTERY   \n",
       "145806          ACCESS 125 DISC BT(ALLOY WHEEL). BSVI-PH2   PETROL   \n",
       "145807  605DI MS S+V1ARJUNNOVO 4WD(9.5X16,16.9X28) BSIIIA   DIESEL   \n",
       "145808                  MAHINDRA BOLERO B4 BS-VI BSVI-PH2   DIESEL   \n",
       "145809                         JOHN DEERE 5039D V2 BSIIIA   DIESEL   \n",
       "\n",
       "                       colour                      vehicleClass    makeYear  \\\n",
       "0               GOLDEN YELLOW                          Ominibus  2023-03-01   \n",
       "1               GOLDEN YELLOW                          Ominibus  2022-10-01   \n",
       "2        DECENT BLUE METALLIC                       MOTOR CYCLE  2023-03-01   \n",
       "3        DECENT BLUE METALLIC                       MOTOR CYCLE  2023-04-01   \n",
       "4        DECENT BLUE METALLIC                       MOTOR CYCLE  2023-05-01   \n",
       "...                       ...                               ...         ...   \n",
       "145805               EVRSTWHT                         MOTOR CAR  2023-04-01   \n",
       "145806  ICE GREEN PEARL WHITE                       MOTOR CYCLE  2023-07-01   \n",
       "145807                    RED  Tractor for Agricultural Purpose  2023-05-01   \n",
       "145808                  WHITE                         Motor Cab  2023-06-01   \n",
       "145809                  GREEN        Tractor for Commercial Use  2023-06-01   \n",
       "\n",
       "        seatCapacity insuranceValidity       category  \\\n",
       "0                 53        30/06/2024      Transport   \n",
       "1                 40        29/06/2024      Transport   \n",
       "2                  2        30/06/2028  Non Transport   \n",
       "3                  2        30/06/2028  Non Transport   \n",
       "4                  2        30/06/2028  Non Transport   \n",
       "...              ...               ...            ...   \n",
       "145805             5        30/07/2026  Non Transport   \n",
       "145806             2        30/07/2028  Non Transport   \n",
       "145807             1        30/07/2024  Non Transport   \n",
       "145808             7        30/07/2024      Transport   \n",
       "145809             1        30/07/2024      Transport   \n",
       "\n",
       "                             makerName                  OfficeCd  \n",
       "0                M/S SML ISUZU LIMITED          RTA NAGARKURNOOL  \n",
       "1                M/S SML ISUZU LIMITED               RTA MEDCHAL  \n",
       "2       HONDA MOTORCYCLE&SCOOTER(I)P L               RTA MEDCHAL  \n",
       "3       HONDA MOTORCYCLE&SCOOTER(I)P L               RTA MEDCHAL  \n",
       "4       HONDA MOTORCYCLE&SCOOTER(I)P L          RTA-HYDERABAD-SZ  \n",
       "...                                ...                       ...  \n",
       "145805         MAHINDRA & MAHINDRA LTD                 RTA UPPAL  \n",
       "145806   SUZUKI MOTORCYCLE (I) PVT LTD  UNIT OFFICE PATANCHERUVU  \n",
       "145807        MAHINDRA & MAHINDRA LTD,           RTA JAYASHANKAR  \n",
       "145808         MAHINDRA & MAHINDRA LTD             RTA BHADRADRI  \n",
       "145809    JOHN DEERE INDIA PVT LIMITED             RTA BHADRADRI  \n",
       "\n",
       "[76235 rows x 10 columns]"
      ]
     },
     "execution_count": 206,
     "metadata": {},
     "output_type": "execute_result"
    }
   ],
   "source": [
    "data"
   ]
  },
  {
   "cell_type": "code",
   "execution_count": null,
   "id": "1b6b755b-f5c7-471e-8216-f525792390a6",
   "metadata": {},
   "outputs": [],
   "source": []
  },
  {
   "cell_type": "markdown",
   "id": "0942987d-03d1-4383-9068-8dc89ed72757",
   "metadata": {},
   "source": [
    "**Top 10 Most Common Seat Capacities**"
   ]
  },
  {
   "cell_type": "code",
   "execution_count": 210,
   "id": "ea27e4b6-3fba-4f03-95f4-db5196017e6e",
   "metadata": {},
   "outputs": [
    {
     "name": "stdout",
     "output_type": "stream",
     "text": [
      "   seatCapacity  count\n",
      "2             2  51512\n"
     ]
    }
   ],
   "source": [
    "seat_capacity_counts = data.groupby('seatCapacity').size().reset_index(name='count')\n",
    "seat_capacity_counts = seat_capacity_counts.sort_values('count', ascending=False)\n",
    "\n",
    "print(seat_capacity_counts.head(1))\n"
   ]
  },
  {
   "cell_type": "code",
   "execution_count": 212,
   "id": "51248028-29fc-4b49-a8eb-dd4a2e8c9e3a",
   "metadata": {},
   "outputs": [
    {
     "data": {
      "image/png": "[encoded data removed]",
      "text/plain": [
       "<Figure size 640x480 with 1 Axes>"
      ]
     },
     "metadata": {},
     "output_type": "display_data"
    }
   ],
   "source": [
    "import matplotlib.pyplot as plt\n",
    "import seaborn as sns\n",
    "\n",
    "top_10 = seat_capacity_counts.head(10)\n",
    "sns.barplot(data=top_10, x='seatCapacity', y='count', color='skyblue')\n",
    "\n",
    "plt.title(\"Top 10 Most Common Seat Capacities\")\n",
    "plt.xlabel(\"Seat Capacity\")\n",
    "plt.ylabel(\"Number of Registrations\")\n",
    "plt.xticks(rotation=45)\n",
    "plt.tight_layout()\n",
    "plt.show()\n"
   ]
  },
  {
   "cell_type": "code",
   "execution_count": null,
   "id": "6e2576c2-8095-4db5-a776-60be8a699d25",
   "metadata": {},
   "outputs": [],
   "source": []
  },
  {
   "cell_type": "markdown",
   "id": "0f61e27c-4be9-4cc4-8df6-275bfcd7d1ab",
   "metadata": {},
   "source": [
    "**top vehicle class has the highest average seat capacity**"
   ]
  },
  {
   "cell_type": "code",
   "execution_count": 216,
   "id": "7823ea5e-ab93-4140-9386-1c029e70b3f9",
   "metadata": {},
   "outputs": [
    {
     "data": {
      "text/plain": [
       "vehicleClass\n",
       "Ominibus                                      40.659274\n",
       "Maxi Cab                                       9.459770\n",
       "Ambulance                                      9.083333\n",
       "Omnibus for Private Use                        8.171717\n",
       "Motor Cab                                      5.376091\n",
       "MOTOR CAR                                      5.316127\n",
       "Quadracycle Transport                          4.000000\n",
       "Quadracycle NonTransport                       4.000000\n",
       "Auto Rickshaw                                  4.000000\n",
       "Auto Rikckshaw Private                         4.000000\n",
       "Goods Carriage                                 2.470424\n",
       "Motor Cycle for Hire                           2.000000\n",
       "Articulated Vehicles                           2.000000\n",
       "Crane For Private Use                          2.000000\n",
       "MOTOR CYCLE                                    1.998926\n",
       "Chassis Transport                              1.953079\n",
       "Loader                                         1.032258\n",
       "Tractor for Agricultural Purpose               1.011911\n",
       "Tractor for Commercial Use                     1.001059\n",
       "Three Wheeled Goods Vehicle                    1.000000\n",
       "Vehicle Fitted with Construction Equipment     1.000000\n",
       "Tractor Driven Combined Harvester              1.000000\n",
       "SELF PROPELLED HARVESTER                       1.000000\n",
       "Self Loading Concrete Mixer                    1.000000\n",
       "MOTOR GRADER                                   1.000000\n",
       "Road Roller                                    1.000000\n",
       "Fork Lift                                      1.000000\n",
       "eCart                                          1.000000\n",
       "Trailer For Commercial Use                     0.000000\n",
       "Trailer for Agriculture Purpose                0.000000\n",
       "Name: seatCapacity, dtype: float64"
      ]
     },
     "execution_count": 216,
     "metadata": {},
     "output_type": "execute_result"
    }
   ],
   "source": [
    "vehicle_seat_avg = data.groupby('vehicleClass')['seatCapacity'].mean().sort_values(ascending=False)\n",
    "vehicle_seat_avg"
   ]
  },
  {
   "cell_type": "code",
   "execution_count": 218,
   "id": "6a9767ad-0f94-4a85-b8f6-db37e2ecbc3c",
   "metadata": {},
   "outputs": [
    {
     "data": {
      "text/plain": [
       "Text(0.5, 1.0, 'Top 10 Vehicle Classes by Average Seat Capacity')"
      ]
     },
     "execution_count": 218,
     "metadata": {},
     "output_type": "execute_result"
    },
    {
     "data": {
      "image/png": "[encoded data removed]",
      "text/plain": [
       "<Figure size 1000x600 with 1 Axes>"
      ]
     },
     "metadata": {},
     "output_type": "display_data"
    }
   ],
   "source": [
    "top10_vehicle_seat_avg = vehicle_seat_avg.head(10)\n",
    "plt.figure(figsize=(10, 6))\n",
    "bars = plt.barh(top10_vehicle_seat_avg.index, top10_vehicle_seat_avg.values, color='skyblue')\n",
    "plt.xlabel('Average Seat Capacity')\n",
    "plt.ylabel('VehicalClass')\n",
    "plt.title('Top 10 Vehicle Classes by Average Seat Capacity')"
   ]
  },
  {
   "cell_type": "code",
   "execution_count": null,
   "id": "43195f76-aa61-4794-a7f1-6600a435cd4b",
   "metadata": {},
   "outputs": [],
   "source": []
  },
  {
   "cell_type": "markdown",
   "id": "1503d115-ac0e-4d8d-9bbf-fbf675a0267d",
   "metadata": {},
   "source": [
    "**What is the trend of vehicle registrations by make year?**"
   ]
  },
  {
   "cell_type": "code",
   "execution_count": 220,
   "id": "9c954499-ac77-4b1f-a24c-fd256408c7a3",
   "metadata": {},
   "outputs": [
    {
     "data": {
      "text/plain": [
       "makeYear\n",
       "2020-01-01        1\n",
       "2020-02-01        3\n",
       "2020-03-01        2\n",
       "2020-06-01        3\n",
       "2020-08-01        3\n",
       "2020-09-01        7\n",
       "2020-10-01        3\n",
       "2020-11-01        1\n",
       "2020-12-01        2\n",
       "2021-01-01        9\n",
       "2021-02-01        4\n",
       "2021-03-01        5\n",
       "2021-04-01       12\n",
       "2021-05-01        1\n",
       "2021-06-01        5\n",
       "2021-07-01       10\n",
       "2021-08-01       25\n",
       "2021-09-01        9\n",
       "2021-10-01        9\n",
       "2021-11-01       11\n",
       "2021-12-01        9\n",
       "2022-01-01       38\n",
       "2022-02-01       72\n",
       "2022-03-01       42\n",
       "2022-04-01       51\n",
       "2022-05-01       66\n",
       "2022-06-01       65\n",
       "2022-07-01      105\n",
       "2022-08-01      223\n",
       "2022-09-01      290\n",
       "2022-10-01      285\n",
       "2022-11-01      241\n",
       "2022-12-01      337\n",
       "2023-01-01     1296\n",
       "2023-02-01     1687\n",
       "2023-03-01     3417\n",
       "2023-04-01     5618\n",
       "2023-05-01    11533\n",
       "2023-06-01    31035\n",
       "2023-07-01    19700\n",
       "Name: count, dtype: int64"
      ]
     },
     "execution_count": 220,
     "metadata": {},
     "output_type": "execute_result"
    }
   ],
   "source": [
    "data['makeYear'].value_counts().sort_index()"
   ]
  },
  {
   "cell_type": "code",
   "execution_count": 222,
   "id": "b681c17d-2e33-4dda-8418-15bc74568d16",
   "metadata": {},
   "outputs": [
    {
     "data": {
      "image/png": "[encoded data removed]",
      "text/plain": [
       "<Figure size 1200x600 with 1 Axes>"
      ]
     },
     "metadata": {},
     "output_type": "display_data"
    }
   ],
   "source": [
    "\n",
    "make_year_counts = data['makeYear'].value_counts().sort_index()\n",
    "\n",
    "plt.figure(figsize=(12, 6))\n",
    "plt.plot(make_year_counts.index, make_year_counts.values, \n",
    "         marker='o', color='crimson', linewidth=2)\n",
    "\n",
    "plt.title(\"Number of Vehicles Registered Each Year\", fontsize=16, fontweight='bold')\n",
    "plt.xlabel(\"Make Year\", fontsize=12)\n",
    "plt.ylabel(\"Number of Vehicles\", fontsize=12)\n",
    "plt.xticks(rotation=45, fontsize=10)\n",
    "plt.yticks(fontsize=10)\n",
    "plt.grid(True, linestyle='--', alpha=0.6)\n",
    "plt.tight_layout()\n",
    "\n",
    "plt.show()\n"
   ]
  },
  {
   "cell_type": "code",
   "execution_count": null,
   "id": "6065d7b2-8f8c-4fdd-a958-a080fab74a34",
   "metadata": {},
   "outputs": [],
   "source": []
  }
 ],
 "metadata": {
  "kernelspec": {
   "display_name": "Python [conda env:base] *",
   "language": "python",
   "name": "conda-base-py"
  },
  "language_info": {
   "codemirror_mode": {
    "name": "ipython",
    "version": 3
   },
   "file_extension": ".py",
   "mimetype": "text/x-python",
   "name": "python",
   "nbconvert_exporter": "python",
   "pygments_lexer": "ipython3",
   "version": "3.12.7"
  }
 },
 "nbformat": 4,
 "nbformat_minor": 5
}

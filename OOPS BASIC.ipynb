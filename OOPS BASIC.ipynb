{
 "cells": [
  {
   "cell_type": "code",
   "execution_count": 3,
   "id": "7e648b4b-c3a0-453a-bc36-16ff08ebeac6",
   "metadata": {},
   "outputs": [],
   "source": [
    "a=10\n",
    "b=20\n",
    "c=30\n",
    "\n",
    "#a,b,c are the integer type"
   ]
  },
  {
   "cell_type": "code",
   "execution_count": 5,
   "id": "a1fdc143-8402-4c67-9c5f-c73c1fa74e5f",
   "metadata": {},
   "outputs": [],
   "source": [
    "class car:\n",
    "    pass"
   ]
  },
  {
   "cell_type": "code",
   "execution_count": 7,
   "id": "1674210d-79f9-4849-a7e9-b94b511021a5",
   "metadata": {},
   "outputs": [],
   "source": [
    "audiq7=car()"
   ]
  },
  {
   "cell_type": "code",
   "execution_count": 9,
   "id": "c626cb99-0e72-43f1-988a-bce14d336681",
   "metadata": {},
   "outputs": [
    {
     "data": {
      "text/plain": [
       "<__main__.car at 0x2091f00edb0>"
      ]
     },
     "execution_count": 9,
     "metadata": {},
     "output_type": "execute_result"
    }
   ],
   "source": [
    "audiq7"
   ]
  },
  {
   "cell_type": "code",
   "execution_count": 13,
   "id": "48f4feda-e3a0-4bb6-94fd-72a5c89c77e1",
   "metadata": {},
   "outputs": [],
   "source": [
    "audiq7.milegae=6\n",
    "audiq7.year=2020\n",
    "audiq7.manufact=\"japan\"\n",
    "audiq7.model=\"suv\""
   ]
  },
  {
   "cell_type": "code",
   "execution_count": 15,
   "id": "456fd0a8-9888-4dbc-8ee4-849e87a9b45e",
   "metadata": {},
   "outputs": [],
   "source": [
    "nano = car()"
   ]
  },
  {
   "cell_type": "code",
   "execution_count": 17,
   "id": "cf47a823-1b4a-4130-94d4-8b70c5b69494",
   "metadata": {},
   "outputs": [],
   "source": [
    "nano.milage=25\n",
    "nano.year=2016\n",
    "nano.manufact=\"India\"\n",
    "nano.model=\"mini hatch pack\"\n",
    "nano.engno=734794"
   ]
  },
  {
   "cell_type": "code",
   "execution_count": 19,
   "id": "1cb8ba9d-b571-4a8b-a06c-896d8ea4fae7",
   "metadata": {},
   "outputs": [
    {
     "name": "stdout",
     "output_type": "stream",
     "text": [
      "6 25\n"
     ]
    }
   ],
   "source": [
    "print(audiq7.milegae,nano.milage)"
   ]
  },
  {
   "cell_type": "code",
   "execution_count": 23,
   "id": "d0a946d4-e5ed-480b-99c5-004beb3c1946",
   "metadata": {},
   "outputs": [],
   "source": [
    "class car:\n",
    "    def __init__(chatra,milege,year,make,model):\n",
    "        chatra.milege=milege\n",
    "        chatra.year=year\n",
    "        chatra.make=make\n",
    "        chatra.model=model"
   ]
  },
  {
   "cell_type": "code",
   "execution_count": 25,
   "id": "54df9528-e496-416e-aed3-181901d60e3d",
   "metadata": {},
   "outputs": [],
   "source": [
    "nano1=car(20,2022,\"India\",\"familycar\")"
   ]
  },
  {
   "cell_type": "code",
   "execution_count": 31,
   "id": "520896f4-b56c-43d4-a309-13244e1e0a8b",
   "metadata": {},
   "outputs": [],
   "source": [
    "gprec = car(100,1947,\"Kurnool\",'buggy')"
   ]
  },
  {
   "cell_type": "code",
   "execution_count": 33,
   "id": "55247bd9-b4e7-44b8-94fd-1ce567aa289a",
   "metadata": {},
   "outputs": [
    {
     "data": {
      "text/plain": [
       "20"
      ]
     },
     "execution_count": 33,
     "metadata": {},
     "output_type": "execute_result"
    }
   ],
   "source": [
    "nano1.milege"
   ]
  },
  {
   "cell_type": "code",
   "execution_count": 35,
   "id": "76b2e737-db2f-42c1-9205-700bbe064ea7",
   "metadata": {},
   "outputs": [
    {
     "data": {
      "text/plain": [
       "'Kurnool'"
      ]
     },
     "execution_count": 35,
     "metadata": {},
     "output_type": "execute_result"
    }
   ],
   "source": [
    "gprec.make"
   ]
  },
  {
   "cell_type": "code",
   "execution_count": 45,
   "id": "cf4c8751-bdfe-416d-9a92-017b1d3254a2",
   "metadata": {},
   "outputs": [],
   "source": [
    "class car2:\n",
    "    def __int__(self,typeoffuel,breaks,window,ed):\n",
    "        self.t=typeoffuel\n",
    "        self.b=breaks\n",
    "        self.w=window\n",
    "        self.e=ed"
   ]
  },
  {
   "cell_type": "code",
   "execution_count": 43,
   "id": "6b938d88-9e8e-4b64-981c-48b1d2ec55f5",
   "metadata": {},
   "outputs": [],
   "source": [
    "bmwx4=car2(\"disel\",\"disc\",\"power\",2026)"
   ]
  },
  {
   "cell_type": "code",
   "execution_count": 61,
   "id": "7172b762-9e9d-4ed1-ad8a-5714807b4ec8",
   "metadata": {},
   "outputs": [],
   "source": [
    "#calculating the current age of the car\n",
    "class car:\n",
    "    def __init__(self,m,y,ma,mo):\n",
    "        self.m=m\n",
    "        self.y=y\n",
    "        self.ma=ma\n",
    "        self.mo=mo\n",
    "    def age(self,current_age):\n",
    "        return current_age - self.y\n",
    "        "
   ]
  },
  {
   "cell_type": "code",
   "execution_count": 63,
   "id": "7acceb07-ec88-4981-95d2-24b1a9c5c921",
   "metadata": {},
   "outputs": [],
   "source": [
    "gprec=car(100,2000,\"Kurnool\",\"jks\")"
   ]
  },
  {
   "cell_type": "code",
   "execution_count": 65,
   "id": "1653ba2c-7b60-4a03-8929-382a97491bd0",
   "metadata": {},
   "outputs": [
    {
     "data": {
      "text/plain": [
       "21"
      ]
     },
     "execution_count": 65,
     "metadata": {},
     "output_type": "execute_result"
    }
   ],
   "source": [
    "gprec.age(2021)"
   ]
  },
  {
   "cell_type": "code",
   "execution_count": 97,
   "id": "72ce35ee-dbc3-4dbd-840d-7fb72d5f50e7",
   "metadata": {},
   "outputs": [],
   "source": [
    "#calculating the current age of the car\n",
    "class car:\n",
    "    def __init__(self,m,y,ma,mo):\n",
    "        self.m=m\n",
    "        self.y=y\n",
    "        self.ma=ma\n",
    "        self.mo=mo\n",
    "    def age(self,current_age):\n",
    "        return current_age - self.y\n",
    "    def milege1(self):\n",
    "        return f\"The milege of the car is{self.m}\""
   ]
  },
  {
   "cell_type": "code",
   "execution_count": 99,
   "id": "5fbb1e39-2a0a-442d-97dd-2dad4389a461",
   "metadata": {},
   "outputs": [],
   "source": [
    "punch = car(80,2010,\"India\",\"jsd\")"
   ]
  },
  {
   "cell_type": "code",
   "execution_count": 101,
   "id": "d86f4d2d-5134-4d7f-a815-109ac2b26e7d",
   "metadata": {},
   "outputs": [
    {
     "data": {
      "text/plain": [
       "'The milege of the car is80'"
      ]
     },
     "execution_count": 101,
     "metadata": {},
     "output_type": "execute_result"
    }
   ],
   "source": [
    "punch.milege1()"
   ]
  },
  {
   "cell_type": "code",
   "execution_count": 103,
   "id": "a873fa67-f8d8-4403-89fe-e8920afd4464",
   "metadata": {},
   "outputs": [
    {
     "data": {
      "text/plain": [
       "15"
      ]
     },
     "execution_count": 103,
     "metadata": {},
     "output_type": "execute_result"
    }
   ],
   "source": [
    "punch.age(2025)"
   ]
  },
  {
   "cell_type": "code",
   "execution_count": 105,
   "id": "90d3406d-2556-48e4-98cf-d174ed2a93ae",
   "metadata": {},
   "outputs": [],
   "source": [
    "#create the system where it will be helpful to store all the details of the students"
   ]
  },
  {
   "cell_type": "code",
   "execution_count": 147,
   "id": "80e5ef2d-b724-41a0-babe-fef94ede1341",
   "metadata": {},
   "outputs": [],
   "source": [
    "class student:\n",
    "    def __init__(gprec,name,rollno,jd,cb):\n",
    "        gprec.name=name\n",
    "        gprec.rollno=rollno\n",
    "        gprec.jd=jd\n",
    "        gprec.cb=cb\n",
    "    #finding the current branch of the student\n",
    "    def crt_branch(self):\n",
    "        return f\"the student branch is {self.cb}\"\n",
    "        \n",
    "    #find the roolno of the student\n",
    "\n",
    "    def roll_no(self):\n",
    "        if(type(self.rollno)==str):\n",
    "            print(\"Do Nothing\")\n",
    "        else:\n",
    "            return str(self.rollno)\n",
    "    # for how manny days i am studying in the college\n",
    "\n",
    "    def days_studying(self,curr_year):\n",
    "        return curr_year-self.jd\n",
    "\n",
    "    def __str__(self):\n",
    "        return \"This is the class of student that provides every information\""
   ]
  },
  {
   "cell_type": "code",
   "execution_count": 149,
   "id": "446fd79c-401d-4756-a09b-068a036a2af7",
   "metadata": {},
   "outputs": [],
   "source": [
    "chatra=student(\"chatrapati\",123,2022,\"CSD\")"
   ]
  },
  {
   "cell_type": "code",
   "execution_count": 151,
   "id": "1e0513d6-ea6c-49bd-a5b9-f7690600b202",
   "metadata": {},
   "outputs": [
    {
     "data": {
      "text/plain": [
       "'the student branch is CSD'"
      ]
     },
     "execution_count": 151,
     "metadata": {},
     "output_type": "execute_result"
    }
   ],
   "source": [
    "chatra.crt_branch()"
   ]
  },
  {
   "cell_type": "code",
   "execution_count": 153,
   "id": "cf9a48f5-247f-42f0-9029-408d504f0a3d",
   "metadata": {},
   "outputs": [
    {
     "data": {
      "text/plain": [
       "'123'"
      ]
     },
     "execution_count": 153,
     "metadata": {},
     "output_type": "execute_result"
    }
   ],
   "source": [
    "chatra.roll_no()"
   ]
  },
  {
   "cell_type": "code",
   "execution_count": 155,
   "id": "316e1739-0566-45fb-999a-212b44f0a6a0",
   "metadata": {},
   "outputs": [
    {
     "data": {
      "text/plain": [
       "3"
      ]
     },
     "execution_count": 155,
     "metadata": {},
     "output_type": "execute_result"
    }
   ],
   "source": [
    "chatra.days_studying(2025)"
   ]
  },
  {
   "cell_type": "code",
   "execution_count": 159,
   "id": "e462ffef-ada6-4b73-a38d-19bf15c48c9e",
   "metadata": {},
   "outputs": [
    {
     "name": "stdout",
     "output_type": "stream",
     "text": [
      "This is the class of student that provides every information\n"
     ]
    }
   ],
   "source": [
    "print(chatra)"
   ]
  },
  {
   "cell_type": "code",
   "execution_count": null,
   "id": "fe4e3cdc-a7d3-4776-b242-78d614c6165f",
   "metadata": {},
   "outputs": [],
   "source": []
  }
 ],
 "metadata": {
  "kernelspec": {
   "display_name": "Python [conda env:base] *",
   "language": "python",
   "name": "conda-base-py"
  },
  "language_info": {
   "codemirror_mode": {
    "name": "ipython",
    "version": 3
   },
   "file_extension": ".py",
   "mimetype": "text/x-python",
   "name": "python",
   "nbconvert_exporter": "python",
   "pygments_lexer": "ipython3",
   "version": "3.12.7"
  }
 },
 "nbformat": 4,
 "nbformat_minor": 5
}

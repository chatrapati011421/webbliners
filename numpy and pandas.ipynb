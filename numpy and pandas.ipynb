{
 "cells": [
  {
   "cell_type": "markdown",
   "id": "f499fd9a-92ed-43c2-8bc9-26d9f9bb3dd6",
   "metadata": {},
   "source": [
    "Shallow copy and deep copy"
   ]
  },
  {
   "cell_type": "code",
   "execution_count": 1,
   "id": "adf5bb89-dbb7-4323-b6cb-5d01250f4435",
   "metadata": {},
   "outputs": [],
   "source": [
    "import pandas as pd\n",
    "import numpy as np"
   ]
  },
  {
   "cell_type": "code",
   "execution_count": 3,
   "id": "57f50955-76ab-46b5-bc45-0bdc0689d250",
   "metadata": {},
   "outputs": [],
   "source": [
    "arr=np.array([[1,3],[4,5]])"
   ]
  },
  {
   "cell_type": "code",
   "execution_count": 5,
   "id": "c9d01aec-ebd4-4526-9c1b-cd185e809e58",
   "metadata": {},
   "outputs": [
    {
     "data": {
      "text/plain": [
       "array([[1, 3],\n",
       "       [4, 5]])"
      ]
     },
     "execution_count": 5,
     "metadata": {},
     "output_type": "execute_result"
    }
   ],
   "source": [
    "arr"
   ]
  },
  {
   "cell_type": "code",
   "execution_count": 7,
   "id": "eeb4e9e2-e419-45e6-b9bc-9ce20c4ca62f",
   "metadata": {},
   "outputs": [],
   "source": [
    "a=arr  #shallow copy"
   ]
  },
  {
   "cell_type": "code",
   "execution_count": 9,
   "id": "9a1acff0-f3bb-4767-a0b5-791d63d2753a",
   "metadata": {},
   "outputs": [],
   "source": [
    "b=np.copy(arr)  #deep copy"
   ]
  },
  {
   "cell_type": "code",
   "execution_count": 11,
   "id": "2df64f5d-99fc-44e8-95d0-3ae84c7238de",
   "metadata": {},
   "outputs": [
    {
     "data": {
      "text/plain": [
       "array([1, 3])"
      ]
     },
     "execution_count": 11,
     "metadata": {},
     "output_type": "execute_result"
    }
   ],
   "source": [
    "arr[0]"
   ]
  },
  {
   "cell_type": "code",
   "execution_count": 13,
   "id": "e37325a9-ddb5-465e-b739-a774ce546d8f",
   "metadata": {},
   "outputs": [
    {
     "data": {
      "text/plain": [
       "1"
      ]
     },
     "execution_count": 13,
     "metadata": {},
     "output_type": "execute_result"
    }
   ],
   "source": [
    "arr[0][0]"
   ]
  },
  {
   "cell_type": "code",
   "execution_count": 15,
   "id": "2f1633d1-b72f-48f3-b02f-a62ebb37e293",
   "metadata": {},
   "outputs": [],
   "source": [
    "arr[0][0] = 76"
   ]
  },
  {
   "cell_type": "code",
   "execution_count": 17,
   "id": "50474f1b-2bed-4e90-8a64-c510d916def1",
   "metadata": {},
   "outputs": [
    {
     "data": {
      "text/plain": [
       "array([[76,  3],\n",
       "       [ 4,  5]])"
      ]
     },
     "execution_count": 17,
     "metadata": {},
     "output_type": "execute_result"
    }
   ],
   "source": [
    "arr"
   ]
  },
  {
   "cell_type": "code",
   "execution_count": 19,
   "id": "f8322dcf-42e7-4c2d-9a4b-0c31d90c6d5b",
   "metadata": {},
   "outputs": [
    {
     "data": {
      "text/plain": [
       "array([[76,  3],\n",
       "       [ 4,  5]])"
      ]
     },
     "execution_count": 19,
     "metadata": {},
     "output_type": "execute_result"
    }
   ],
   "source": [
    "a\n",
    "\n",
    "#reflect new value"
   ]
  },
  {
   "cell_type": "code",
   "execution_count": 21,
   "id": "8cbd1e63-5520-4af8-9313-5b6862e02070",
   "metadata": {},
   "outputs": [
    {
     "data": {
      "text/plain": [
       "array([[1, 3],\n",
       "       [4, 5]])"
      ]
     },
     "execution_count": 21,
     "metadata": {},
     "output_type": "execute_result"
    }
   ],
   "source": [
    "b\n",
    "\n",
    "#getting the new value\n",
    "#new value are not reflected"
   ]
  },
  {
   "cell_type": "code",
   "execution_count": 23,
   "id": "cbcbdaa4-07f3-43ff-aedd-41b333ca6c27",
   "metadata": {},
   "outputs": [
    {
     "data": {
      "text/plain": [
       "array([[76,  3]])"
      ]
     },
     "execution_count": 23,
     "metadata": {},
     "output_type": "execute_result"
    }
   ],
   "source": [
    "arr[0:1]"
   ]
  },
  {
   "cell_type": "code",
   "execution_count": 25,
   "id": "631a3ff5-bf7e-4468-9207-db3a62b40f62",
   "metadata": {},
   "outputs": [
    {
     "data": {
      "text/plain": [
       "array([[ True, False, False, False],\n",
       "       [False,  True, False, False],\n",
       "       [False, False,  True, False],\n",
       "       [False, False, False,  True]])"
      ]
     },
     "execution_count": 25,
     "metadata": {},
     "output_type": "execute_result"
    }
   ],
   "source": [
    "np.fromfunction(lambda i,j : i==j,(4,4))"
   ]
  },
  {
   "cell_type": "code",
   "execution_count": 27,
   "id": "42a4410d-f8dd-4f57-a2e5-bcefa1ee552d",
   "metadata": {},
   "outputs": [
    {
     "data": {
      "text/plain": [
       "array([[0., 0., 0.],\n",
       "       [0., 1., 2.],\n",
       "       [0., 2., 4.]])"
      ]
     },
     "execution_count": 27,
     "metadata": {},
     "output_type": "execute_result"
    }
   ],
   "source": [
    "np.fromfunction(lambda i,j : i*j , [3,3])  #it gives the float numbers"
   ]
  },
  {
   "cell_type": "code",
   "execution_count": 29,
   "id": "53bd2e0a-b812-4702-9468-67e9c36f87ca",
   "metadata": {},
   "outputs": [
    {
     "data": {
      "text/plain": [
       "array([[0, 0, 0],\n",
       "       [0, 1, 2],\n",
       "       [0, 2, 4]])"
      ]
     },
     "execution_count": 29,
     "metadata": {},
     "output_type": "execute_result"
    }
   ],
   "source": [
    "np.fromfunction(lambda i,j : i*j , [3,3] , dtype=int)"
   ]
  },
  {
   "cell_type": "code",
   "execution_count": 31,
   "id": "53650d31-ec20-433b-b113-7372dc3a7bdd",
   "metadata": {},
   "outputs": [],
   "source": [
    "l=[3,4,5,6,7,8]"
   ]
  },
  {
   "cell_type": "code",
   "execution_count": 33,
   "id": "0c7aa11e-3a95-4eb6-a78b-4bb9b133a3f2",
   "metadata": {},
   "outputs": [],
   "source": [
    "arr1=np.array(l)"
   ]
  },
  {
   "cell_type": "code",
   "execution_count": 35,
   "id": "e5e581b3-7e40-4f4d-a1e8-347ecde65500",
   "metadata": {},
   "outputs": [
    {
     "data": {
      "text/plain": [
       "array([3, 4, 5, 6, 7, 8])"
      ]
     },
     "execution_count": 35,
     "metadata": {},
     "output_type": "execute_result"
    }
   ],
   "source": [
    "arr1"
   ]
  },
  {
   "cell_type": "code",
   "execution_count": 37,
   "id": "79a7a48a-8567-4d4a-9e60-e67f0a73f7c1",
   "metadata": {},
   "outputs": [],
   "source": [
    "arr2=np.array([[2,3,4,5],[6,7,8,9],[3,4,5,6]])"
   ]
  },
  {
   "cell_type": "code",
   "execution_count": 39,
   "id": "1e9194bb-6caa-40c6-8d7d-6c033074a8e3",
   "metadata": {},
   "outputs": [
    {
     "data": {
      "text/plain": [
       "array([[2, 3, 4, 5],\n",
       "       [6, 7, 8, 9],\n",
       "       [3, 4, 5, 6]])"
      ]
     },
     "execution_count": 39,
     "metadata": {},
     "output_type": "execute_result"
    }
   ],
   "source": [
    "arr2"
   ]
  },
  {
   "cell_type": "code",
   "execution_count": 41,
   "id": "e5229aa6-4a21-4f3c-b5fa-83cc3989fff8",
   "metadata": {},
   "outputs": [
    {
     "data": {
      "text/plain": [
       "numpy.ndarray"
      ]
     },
     "execution_count": 41,
     "metadata": {},
     "output_type": "execute_result"
    }
   ],
   "source": [
    "type(arr2)"
   ]
  },
  {
   "cell_type": "code",
   "execution_count": 43,
   "id": "797930e1-88e4-40ef-b247-dfde169c17b8",
   "metadata": {},
   "outputs": [
    {
     "data": {
      "text/plain": [
       "2"
      ]
     },
     "execution_count": 43,
     "metadata": {},
     "output_type": "execute_result"
    }
   ],
   "source": [
    "arr2.ndim"
   ]
  },
  {
   "cell_type": "code",
   "execution_count": 45,
   "id": "069a8f91-c093-418c-96ce-9fd6e6affacf",
   "metadata": {},
   "outputs": [
    {
     "data": {
      "text/plain": [
       "6"
      ]
     },
     "execution_count": 45,
     "metadata": {},
     "output_type": "execute_result"
    }
   ],
   "source": [
    "arr1.size"
   ]
  },
  {
   "cell_type": "code",
   "execution_count": 47,
   "id": "856fee01-5fce-4226-8a14-0d2a942d1e6f",
   "metadata": {},
   "outputs": [
    {
     "data": {
      "text/plain": [
       "12"
      ]
     },
     "execution_count": 47,
     "metadata": {},
     "output_type": "execute_result"
    }
   ],
   "source": [
    "arr2.size"
   ]
  },
  {
   "cell_type": "code",
   "execution_count": 49,
   "id": "b4561a25-8e17-49f5-b45e-a48fa9d03e65",
   "metadata": {},
   "outputs": [
    {
     "data": {
      "text/plain": [
       "range(0, 6)"
      ]
     },
     "execution_count": 49,
     "metadata": {},
     "output_type": "execute_result"
    }
   ],
   "source": [
    "range(0,6)"
   ]
  },
  {
   "cell_type": "code",
   "execution_count": 51,
   "id": "b49d1d8e-a3b1-41c1-a4df-455ae77ecae8",
   "metadata": {},
   "outputs": [
    {
     "data": {
      "text/plain": [
       "[0, 1, 2, 3, 4, 5]"
      ]
     },
     "execution_count": 51,
     "metadata": {},
     "output_type": "execute_result"
    }
   ],
   "source": [
    "list(range(0,6))"
   ]
  },
  {
   "cell_type": "code",
   "execution_count": 53,
   "id": "7c0df270-4183-4d93-ab4f-4a16de4b9c12",
   "metadata": {},
   "outputs": [
    {
     "data": {
      "text/plain": [
       "array([0., 1., 2., 3., 4., 5., 6.])"
      ]
     },
     "execution_count": 53,
     "metadata": {},
     "output_type": "execute_result"
    }
   ],
   "source": [
    "np.arange(6.6)"
   ]
  },
  {
   "cell_type": "code",
   "execution_count": 55,
   "id": "a1c5a22f-9dcf-4190-a78b-244c94249edc",
   "metadata": {},
   "outputs": [
    {
     "data": {
      "text/plain": [
       "array([5.6, 5.9, 6.2, 6.5, 6.8, 7.1, 7.4, 7.7, 8. , 8.3, 8.6, 8.9, 9.2,\n",
       "       9.5, 9.8])"
      ]
     },
     "execution_count": 55,
     "metadata": {},
     "output_type": "execute_result"
    }
   ],
   "source": [
    "np.arange(5.6,9.8,0.3)"
   ]
  },
  {
   "cell_type": "code",
   "execution_count": 57,
   "id": "85243f44-a330-416f-952a-b5a50542af18",
   "metadata": {},
   "outputs": [
    {
     "data": {
      "text/plain": [
       "array([6.6, 6.3, 6. , 5.7, 5.4, 5.1, 4.8, 4.5, 4.2, 3.9, 3.6, 3.3, 3. ,\n",
       "       2.7, 2.4, 2.1])"
      ]
     },
     "execution_count": 57,
     "metadata": {},
     "output_type": "execute_result"
    }
   ],
   "source": [
    "np.arange(6.6,2.0,-0.3)"
   ]
  },
  {
   "cell_type": "code",
   "execution_count": 59,
   "id": "ed33bb2e-4788-4022-aa5f-415e8fc3aca3",
   "metadata": {},
   "outputs": [
    {
     "data": {
      "text/plain": [
       "array([5., 6., 7., 8., 9.])"
      ]
     },
     "execution_count": 59,
     "metadata": {},
     "output_type": "execute_result"
    }
   ],
   "source": [
    "np.linspace(5,9,5)"
   ]
  },
  {
   "cell_type": "code",
   "execution_count": 61,
   "id": "3406c264-c3b6-4892-869d-af33a413914c",
   "metadata": {},
   "outputs": [
    {
     "data": {
      "text/plain": [
       "array([1.1       , 1.11111111, 1.12222222, 1.13333333, 1.14444444,\n",
       "       1.15555556, 1.16666667, 1.17777778, 1.18888889, 1.2       ,\n",
       "       1.21111111, 1.22222222, 1.23333333, 1.24444444, 1.25555556,\n",
       "       1.26666667, 1.27777778, 1.28888889, 1.3       ])"
      ]
     },
     "execution_count": 61,
     "metadata": {},
     "output_type": "execute_result"
    }
   ],
   "source": [
    "np.linspace(1.1,1.3,num=19)"
   ]
  },
  {
   "cell_type": "code",
   "execution_count": 63,
   "id": "b767da96-9382-40ac-8b37-0ec4ec5d7ffb",
   "metadata": {},
   "outputs": [
    {
     "data": {
      "text/plain": [
       "array([0., 0., 0., 0., 0., 0., 0., 0., 0., 0.])"
      ]
     },
     "execution_count": 63,
     "metadata": {},
     "output_type": "execute_result"
    }
   ],
   "source": [
    "np.zeros(10)"
   ]
  },
  {
   "cell_type": "code",
   "execution_count": 65,
   "id": "96f9aed9-d8e9-4d14-a9a1-43af6d088a7b",
   "metadata": {},
   "outputs": [
    {
     "data": {
      "text/plain": [
       "array([[[0., 0., 0., 0.],\n",
       "        [0., 0., 0., 0.],\n",
       "        [0., 0., 0., 0.],\n",
       "        [0., 0., 0., 0.],\n",
       "        [0., 0., 0., 0.]],\n",
       "\n",
       "       [[0., 0., 0., 0.],\n",
       "        [0., 0., 0., 0.],\n",
       "        [0., 0., 0., 0.],\n",
       "        [0., 0., 0., 0.],\n",
       "        [0., 0., 0., 0.]],\n",
       "\n",
       "       [[0., 0., 0., 0.],\n",
       "        [0., 0., 0., 0.],\n",
       "        [0., 0., 0., 0.],\n",
       "        [0., 0., 0., 0.],\n",
       "        [0., 0., 0., 0.]]])"
      ]
     },
     "execution_count": 65,
     "metadata": {},
     "output_type": "execute_result"
    }
   ],
   "source": [
    "np.zeros((3,5,4))"
   ]
  },
  {
   "cell_type": "code",
   "execution_count": 67,
   "id": "07f22e57-ff5c-4467-99e1-757fa23e5d78",
   "metadata": {},
   "outputs": [
    {
     "data": {
      "text/plain": [
       "array([[[1., 1., 1., 1., 1.],\n",
       "        [1., 1., 1., 1., 1.],\n",
       "        [1., 1., 1., 1., 1.],\n",
       "        [1., 1., 1., 1., 1.]],\n",
       "\n",
       "       [[1., 1., 1., 1., 1.],\n",
       "        [1., 1., 1., 1., 1.],\n",
       "        [1., 1., 1., 1., 1.],\n",
       "        [1., 1., 1., 1., 1.]],\n",
       "\n",
       "       [[1., 1., 1., 1., 1.],\n",
       "        [1., 1., 1., 1., 1.],\n",
       "        [1., 1., 1., 1., 1.],\n",
       "        [1., 1., 1., 1., 1.]]])"
      ]
     },
     "execution_count": 67,
     "metadata": {},
     "output_type": "execute_result"
    }
   ],
   "source": [
    "np.ones([3,4,5])"
   ]
  },
  {
   "cell_type": "code",
   "execution_count": 69,
   "id": "0341e173-dabf-44ba-b5d0-defadadd416f",
   "metadata": {},
   "outputs": [
    {
     "data": {
      "text/plain": [
       "array([0, 0, 0])"
      ]
     },
     "execution_count": 69,
     "metadata": {},
     "output_type": "execute_result"
    }
   ],
   "source": [
    "np.zeros(3,dtype=int)"
   ]
  },
  {
   "cell_type": "code",
   "execution_count": 71,
   "id": "b7b669d9-83b8-455b-b12c-243bea31ec79",
   "metadata": {},
   "outputs": [
    {
     "data": {
      "text/plain": [
       "array([[1, 1, 1, 1],\n",
       "       [1, 1, 1, 1],\n",
       "       [1, 1, 1, 1]])"
      ]
     },
     "execution_count": 71,
     "metadata": {},
     "output_type": "execute_result"
    }
   ],
   "source": [
    "np.ones([3,4],dtype=int)"
   ]
  },
  {
   "cell_type": "code",
   "execution_count": 73,
   "id": "8e316faf-f015-47fd-b0db-cba9e11dbefa",
   "metadata": {},
   "outputs": [
    {
     "data": {
      "text/plain": [
       "array([2, 2, 2])"
      ]
     },
     "execution_count": 73,
     "metadata": {},
     "output_type": "execute_result"
    }
   ],
   "source": [
    "np.ones(3,dtype=int)*2"
   ]
  },
  {
   "cell_type": "code",
   "execution_count": 75,
   "id": "a3cac457-814b-41cf-859c-fb125ef7ba03",
   "metadata": {},
   "outputs": [
    {
     "data": {
      "text/plain": [
       "array([ 100.        ,  215.443469  ,  464.15888336, 1000.        ])"
      ]
     },
     "execution_count": 75,
     "metadata": {},
     "output_type": "execute_result"
    }
   ],
   "source": [
    "np.logspace(2,3,4)"
   ]
  },
  {
   "cell_type": "code",
   "execution_count": null,
   "id": "4a55efc0-8052-4831-ae42-e4722b5f54a2",
   "metadata": {},
   "outputs": [],
   "source": []
  },
  {
   "cell_type": "markdown",
   "id": "252ed4eb-7c7c-47df-8037-ae8e94aaf410",
   "metadata": {},
   "source": [
    "Random data generation"
   ]
  },
  {
   "cell_type": "code",
   "execution_count": 79,
   "id": "fc3cbde0-ff50-49be-aa8b-f1330d07d8b2",
   "metadata": {},
   "outputs": [
    {
     "data": {
      "text/plain": [
       "array([0.72712456, 0.34365529, 0.6128191 , 0.54438078])"
      ]
     },
     "execution_count": 79,
     "metadata": {},
     "output_type": "execute_result"
    }
   ],
   "source": [
    "np.random.rand(4)\n",
    "\n",
    "#this data is generated from gaussion distribution"
   ]
  },
  {
   "cell_type": "code",
   "execution_count": 81,
   "id": "8010c40b-10bd-4c20-8832-3fa08c4eb823",
   "metadata": {},
   "outputs": [
    {
     "data": {
      "text/plain": [
       "array([[-0.51687661, -2.04521335,  0.50118591],\n",
       "       [-1.21000548, -0.16651648,  0.26438955]])"
      ]
     },
     "execution_count": 81,
     "metadata": {},
     "output_type": "execute_result"
    }
   ],
   "source": [
    "np.random.randn(2,3) \n",
    "\n",
    "#ganerated by standard distribution"
   ]
  },
  {
   "cell_type": "code",
   "execution_count": 83,
   "id": "4cba2b41-bb5e-4ec5-abb6-2b9a3cafefe0",
   "metadata": {},
   "outputs": [
    {
     "data": {
      "text/plain": [
       "array([[[ 1.12063159,  0.13657065,  0.93312461, -1.1276434 ],\n",
       "        [-1.25160524, -1.01450967, -0.63501956, -1.24424142],\n",
       "        [-0.72458647,  0.42670825, -2.67314257,  0.59365536]],\n",
       "\n",
       "       [[-1.06059548, -1.57469275, -0.36018932, -0.52010108],\n",
       "        [ 0.72983201, -0.29276887, -0.79492628, -2.07525125],\n",
       "        [-1.96107036, -0.32840703, -1.03091677, -0.59248954]]])"
      ]
     },
     "execution_count": 83,
     "metadata": {},
     "output_type": "execute_result"
    }
   ],
   "source": [
    "np.random.randn(2,3,4)"
   ]
  },
  {
   "cell_type": "code",
   "execution_count": 85,
   "id": "d150fb2b-f6c5-4810-b77f-df3de63f1ac1",
   "metadata": {},
   "outputs": [
    {
     "data": {
      "text/plain": [
       "14"
      ]
     },
     "execution_count": 85,
     "metadata": {},
     "output_type": "execute_result"
    }
   ],
   "source": [
    "np.random.randint(3,20)"
   ]
  },
  {
   "cell_type": "code",
   "execution_count": 87,
   "id": "9cbefa75-8224-416d-b827-1bc52636a0ca",
   "metadata": {},
   "outputs": [],
   "source": [
    "arr = np.random.randint(4,20,(3,4))"
   ]
  },
  {
   "cell_type": "code",
   "execution_count": 89,
   "id": "3425bcfc-b5a7-4c69-9e43-0e14223d37a2",
   "metadata": {},
   "outputs": [
    {
     "data": {
      "text/plain": [
       "array([[[24, 49, 16, 35, 11],\n",
       "        [14, 54, 67, 12,  3],\n",
       "        [84, 80, 65, 69, 40],\n",
       "        [33, 75, 80, 24, 32]],\n",
       "\n",
       "       [[88, 68, 11, 77, 22],\n",
       "        [42, 35, 19, 71, 22],\n",
       "        [36, 43, 56, 26, 18],\n",
       "        [35, 79, 59,  4, 24]]])"
      ]
     },
     "execution_count": 89,
     "metadata": {},
     "output_type": "execute_result"
    }
   ],
   "source": [
    "np.random.randint(3,90,(2,4,5))"
   ]
  },
  {
   "cell_type": "code",
   "execution_count": 91,
   "id": "bd7114a2-80a8-4de7-aee5-0fc191b9df3d",
   "metadata": {},
   "outputs": [
    {
     "data": {
      "text/plain": [
       "array([[ 5,  6,  7, 18],\n",
       "       [ 8, 11,  9,  4],\n",
       "       [13, 13, 11,  9]])"
      ]
     },
     "execution_count": 91,
     "metadata": {},
     "output_type": "execute_result"
    }
   ],
   "source": [
    "arr"
   ]
  },
  {
   "cell_type": "code",
   "execution_count": 93,
   "id": "78b69e9d-9bf2-4c4e-a4e7-097a2e33ac60",
   "metadata": {},
   "outputs": [
    {
     "data": {
      "text/plain": [
       "18"
      ]
     },
     "execution_count": 93,
     "metadata": {},
     "output_type": "execute_result"
    }
   ],
   "source": [
    "arr.max()"
   ]
  },
  {
   "cell_type": "code",
   "execution_count": 95,
   "id": "3686fb5c-d753-47eb-a659-720eb2363fc5",
   "metadata": {},
   "outputs": [
    {
     "data": {
      "text/plain": [
       "4"
      ]
     },
     "execution_count": 95,
     "metadata": {},
     "output_type": "execute_result"
    }
   ],
   "source": [
    "arr.min()"
   ]
  },
  {
   "cell_type": "code",
   "execution_count": 97,
   "id": "fc7a0b9a-4d56-4888-bd67-832e531b7bfc",
   "metadata": {},
   "outputs": [
    {
     "data": {
      "text/plain": [
       "3.7969285832981723"
      ]
     },
     "execution_count": 97,
     "metadata": {},
     "output_type": "execute_result"
    }
   ],
   "source": [
    "np.std(arr)"
   ]
  },
  {
   "cell_type": "code",
   "execution_count": 99,
   "id": "86f23a73-34b0-42be-80d9-10cb6ef19f59",
   "metadata": {},
   "outputs": [
    {
     "data": {
      "text/plain": [
       "9.5"
      ]
     },
     "execution_count": 99,
     "metadata": {},
     "output_type": "execute_result"
    }
   ],
   "source": [
    "np.mean(arr)"
   ]
  },
  {
   "cell_type": "code",
   "execution_count": 101,
   "id": "125c564c-e46f-49b1-b9f3-adf63bee4e35",
   "metadata": {},
   "outputs": [
    {
     "data": {
      "text/plain": [
       "array([[False, False, False,  True],\n",
       "       [False,  True, False, False],\n",
       "       [ True,  True,  True, False]])"
      ]
     },
     "execution_count": 101,
     "metadata": {},
     "output_type": "execute_result"
    }
   ],
   "source": [
    "arr>10"
   ]
  },
  {
   "cell_type": "code",
   "execution_count": 103,
   "id": "58e1919c-6dc0-42d1-ab93-fce14d76ed4e",
   "metadata": {},
   "outputs": [
    {
     "data": {
      "text/plain": [
       "array([18, 11, 13, 13, 11])"
      ]
     },
     "execution_count": 103,
     "metadata": {},
     "output_type": "execute_result"
    }
   ],
   "source": [
    "arr[arr>10]"
   ]
  },
  {
   "cell_type": "code",
   "execution_count": 105,
   "id": "aa53218b-a261-4c45-8cd1-29b08b632161",
   "metadata": {},
   "outputs": [
    {
     "data": {
      "text/plain": [
       "numpy.ndarray"
      ]
     },
     "execution_count": 105,
     "metadata": {},
     "output_type": "execute_result"
    }
   ],
   "source": [
    "type(arr)"
   ]
  },
  {
   "cell_type": "code",
   "execution_count": 107,
   "id": "caadf09c-55b6-4349-80c2-5f5cea7f9bde",
   "metadata": {},
   "outputs": [
    {
     "data": {
      "text/plain": [
       "array([[ 5,  6,  7, 18],\n",
       "       [ 8, 11,  9,  4],\n",
       "       [13, 13, 11,  9]])"
      ]
     },
     "execution_count": 107,
     "metadata": {},
     "output_type": "execute_result"
    }
   ],
   "source": [
    "arr"
   ]
  },
  {
   "cell_type": "code",
   "execution_count": 109,
   "id": "30207c83-25a9-4152-aa9d-92490be00126",
   "metadata": {},
   "outputs": [
    {
     "data": {
      "text/plain": [
       "array([[ 25,  36,  49, 324],\n",
       "       [ 64, 121,  81,  16],\n",
       "       [169, 169, 121,  81]])"
      ]
     },
     "execution_count": 109,
     "metadata": {},
     "output_type": "execute_result"
    }
   ],
   "source": [
    "arr*arr"
   ]
  },
  {
   "cell_type": "code",
   "execution_count": null,
   "id": "7edf9816-f74f-4346-9f76-10eb28da8fec",
   "metadata": {},
   "outputs": [],
   "source": []
  },
  {
   "cell_type": "code",
   "execution_count": null,
   "id": "afe4ed69-302d-4e9d-9cff-3d4dce740d6d",
   "metadata": {},
   "outputs": [],
   "source": []
  },
  {
   "cell_type": "code",
   "execution_count": 113,
   "id": "acfb6c9b-cc7f-4e02-8b1e-4187e47bb466",
   "metadata": {},
   "outputs": [
    {
     "data": {
      "text/html": [
       "<div>\n",
       "<style scoped>\n",
       "    .dataframe tbody tr th:only-of-type {\n",
       "        vertical-align: middle;\n",
       "    }\n",
       "\n",
       "    .dataframe tbody tr th {\n",
       "        vertical-align: top;\n",
       "    }\n",
       "\n",
       "    .dataframe thead th {\n",
       "        text-align: right;\n",
       "    }\n",
       "</style>\n",
       "<table border=\"1\" class=\"dataframe\">\n",
       "  <thead>\n",
       "    <tr style=\"text-align: right;\">\n",
       "      <th></th>\n",
       "      <th>0</th>\n",
       "      <th>1</th>\n",
       "      <th>2</th>\n",
       "      <th>3</th>\n",
       "    </tr>\n",
       "  </thead>\n",
       "  <tbody>\n",
       "    <tr>\n",
       "      <th>0</th>\n",
       "      <td>0.956426</td>\n",
       "      <td>1.749003</td>\n",
       "      <td>0.520800</td>\n",
       "      <td>-0.414106</td>\n",
       "    </tr>\n",
       "    <tr>\n",
       "      <th>1</th>\n",
       "      <td>0.855832</td>\n",
       "      <td>0.315427</td>\n",
       "      <td>-0.377050</td>\n",
       "      <td>-0.771358</td>\n",
       "    </tr>\n",
       "    <tr>\n",
       "      <th>2</th>\n",
       "      <td>2.014199</td>\n",
       "      <td>1.122951</td>\n",
       "      <td>-0.349928</td>\n",
       "      <td>-2.696153</td>\n",
       "    </tr>\n",
       "    <tr>\n",
       "      <th>3</th>\n",
       "      <td>0.811915</td>\n",
       "      <td>0.675797</td>\n",
       "      <td>-1.052574</td>\n",
       "      <td>1.959004</td>\n",
       "    </tr>\n",
       "    <tr>\n",
       "      <th>4</th>\n",
       "      <td>-0.850264</td>\n",
       "      <td>0.222132</td>\n",
       "      <td>-0.169510</td>\n",
       "      <td>-0.720877</td>\n",
       "    </tr>\n",
       "    <tr>\n",
       "      <th>5</th>\n",
       "      <td>0.052900</td>\n",
       "      <td>1.639893</td>\n",
       "      <td>-1.106544</td>\n",
       "      <td>-0.441649</td>\n",
       "    </tr>\n",
       "    <tr>\n",
       "      <th>6</th>\n",
       "      <td>-1.349622</td>\n",
       "      <td>2.142444</td>\n",
       "      <td>0.787771</td>\n",
       "      <td>0.357461</td>\n",
       "    </tr>\n",
       "    <tr>\n",
       "      <th>7</th>\n",
       "      <td>0.886892</td>\n",
       "      <td>1.626593</td>\n",
       "      <td>1.220329</td>\n",
       "      <td>-0.936803</td>\n",
       "    </tr>\n",
       "    <tr>\n",
       "      <th>8</th>\n",
       "      <td>0.728887</td>\n",
       "      <td>-2.884459</td>\n",
       "      <td>0.270117</td>\n",
       "      <td>-0.881483</td>\n",
       "    </tr>\n",
       "    <tr>\n",
       "      <th>9</th>\n",
       "      <td>0.065868</td>\n",
       "      <td>1.387196</td>\n",
       "      <td>-0.530784</td>\n",
       "      <td>0.308127</td>\n",
       "    </tr>\n",
       "  </tbody>\n",
       "</table>\n",
       "</div>"
      ],
      "text/plain": [
       "          0         1         2         3\n",
       "0  0.956426  1.749003  0.520800 -0.414106\n",
       "1  0.855832  0.315427 -0.377050 -0.771358\n",
       "2  2.014199  1.122951 -0.349928 -2.696153\n",
       "3  0.811915  0.675797 -1.052574  1.959004\n",
       "4 -0.850264  0.222132 -0.169510 -0.720877\n",
       "5  0.052900  1.639893 -1.106544 -0.441649\n",
       "6 -1.349622  2.142444  0.787771  0.357461\n",
       "7  0.886892  1.626593  1.220329 -0.936803\n",
       "8  0.728887 -2.884459  0.270117 -0.881483\n",
       "9  0.065868  1.387196 -0.530784  0.308127"
      ]
     },
     "execution_count": 113,
     "metadata": {},
     "output_type": "execute_result"
    }
   ],
   "source": [
    "pd.DataFrame(np.random.randn(10,4))"
   ]
  },
  {
   "cell_type": "code",
   "execution_count": 115,
   "id": "7ba5137a-b7ac-48ae-8916-e77b2b92b826",
   "metadata": {},
   "outputs": [
    {
     "data": {
      "text/html": [
       "<div>\n",
       "<style scoped>\n",
       "    .dataframe tbody tr th:only-of-type {\n",
       "        vertical-align: middle;\n",
       "    }\n",
       "\n",
       "    .dataframe tbody tr th {\n",
       "        vertical-align: top;\n",
       "    }\n",
       "\n",
       "    .dataframe thead th {\n",
       "        text-align: right;\n",
       "    }\n",
       "</style>\n",
       "<table border=\"1\" class=\"dataframe\">\n",
       "  <thead>\n",
       "    <tr style=\"text-align: right;\">\n",
       "      <th></th>\n",
       "      <th>0</th>\n",
       "      <th>1</th>\n",
       "      <th>2</th>\n",
       "      <th>3</th>\n",
       "    </tr>\n",
       "  </thead>\n",
       "  <tbody>\n",
       "    <tr>\n",
       "      <th>2025-05-07</th>\n",
       "      <td>-0.199583</td>\n",
       "      <td>-0.978781</td>\n",
       "      <td>1.129252</td>\n",
       "      <td>0.860001</td>\n",
       "    </tr>\n",
       "    <tr>\n",
       "      <th>2025-05-08</th>\n",
       "      <td>0.249780</td>\n",
       "      <td>1.036024</td>\n",
       "      <td>-1.058378</td>\n",
       "      <td>0.656211</td>\n",
       "    </tr>\n",
       "    <tr>\n",
       "      <th>2025-05-09</th>\n",
       "      <td>-1.263324</td>\n",
       "      <td>-0.614578</td>\n",
       "      <td>-1.779367</td>\n",
       "      <td>2.426250</td>\n",
       "    </tr>\n",
       "    <tr>\n",
       "      <th>2025-05-10</th>\n",
       "      <td>0.226564</td>\n",
       "      <td>-0.787219</td>\n",
       "      <td>1.854702</td>\n",
       "      <td>-0.804366</td>\n",
       "    </tr>\n",
       "    <tr>\n",
       "      <th>2025-05-11</th>\n",
       "      <td>0.573566</td>\n",
       "      <td>1.343805</td>\n",
       "      <td>-0.541121</td>\n",
       "      <td>0.057905</td>\n",
       "    </tr>\n",
       "    <tr>\n",
       "      <th>2025-05-12</th>\n",
       "      <td>-0.257445</td>\n",
       "      <td>2.081391</td>\n",
       "      <td>-0.023022</td>\n",
       "      <td>0.387780</td>\n",
       "    </tr>\n",
       "    <tr>\n",
       "      <th>2025-05-13</th>\n",
       "      <td>-0.373639</td>\n",
       "      <td>0.056849</td>\n",
       "      <td>0.881740</td>\n",
       "      <td>-1.293548</td>\n",
       "    </tr>\n",
       "    <tr>\n",
       "      <th>2025-05-14</th>\n",
       "      <td>-1.318205</td>\n",
       "      <td>2.167360</td>\n",
       "      <td>-1.717832</td>\n",
       "      <td>0.864061</td>\n",
       "    </tr>\n",
       "    <tr>\n",
       "      <th>2025-05-15</th>\n",
       "      <td>-1.234134</td>\n",
       "      <td>0.362490</td>\n",
       "      <td>-0.837318</td>\n",
       "      <td>1.066727</td>\n",
       "    </tr>\n",
       "    <tr>\n",
       "      <th>2025-05-16</th>\n",
       "      <td>-2.116733</td>\n",
       "      <td>0.328336</td>\n",
       "      <td>0.558643</td>\n",
       "      <td>1.521294</td>\n",
       "    </tr>\n",
       "  </tbody>\n",
       "</table>\n",
       "</div>"
      ],
      "text/plain": [
       "                   0         1         2         3\n",
       "2025-05-07 -0.199583 -0.978781  1.129252  0.860001\n",
       "2025-05-08  0.249780  1.036024 -1.058378  0.656211\n",
       "2025-05-09 -1.263324 -0.614578 -1.779367  2.426250\n",
       "2025-05-10  0.226564 -0.787219  1.854702 -0.804366\n",
       "2025-05-11  0.573566  1.343805 -0.541121  0.057905\n",
       "2025-05-12 -0.257445  2.081391 -0.023022  0.387780\n",
       "2025-05-13 -0.373639  0.056849  0.881740 -1.293548\n",
       "2025-05-14 -1.318205  2.167360 -1.717832  0.864061\n",
       "2025-05-15 -1.234134  0.362490 -0.837318  1.066727\n",
       "2025-05-16 -2.116733  0.328336  0.558643  1.521294"
      ]
     },
     "execution_count": 115,
     "metadata": {},
     "output_type": "execute_result"
    }
   ],
   "source": [
    "pd.DataFrame(np.random.randn(10,4),index=pd.date_range('2025-05-07',periods=10))"
   ]
  },
  {
   "cell_type": "code",
   "execution_count": 231,
   "id": "a6414f97-2b12-495d-9605-9c2f56174659",
   "metadata": {},
   "outputs": [],
   "source": [
    "df = pd.DataFrame(np.random.randn(10,4),index=pd.date_range('2025-05-07',periods=10),columns=['a','b','c','d'])"
   ]
  },
  {
   "cell_type": "code",
   "execution_count": 233,
   "id": "1bf527f3-78ca-4268-b3c6-9fac79721c47",
   "metadata": {},
   "outputs": [
    {
     "data": {
      "text/html": [
       "<div>\n",
       "<style scoped>\n",
       "    .dataframe tbody tr th:only-of-type {\n",
       "        vertical-align: middle;\n",
       "    }\n",
       "\n",
       "    .dataframe tbody tr th {\n",
       "        vertical-align: top;\n",
       "    }\n",
       "\n",
       "    .dataframe thead th {\n",
       "        text-align: right;\n",
       "    }\n",
       "</style>\n",
       "<table border=\"1\" class=\"dataframe\">\n",
       "  <thead>\n",
       "    <tr style=\"text-align: right;\">\n",
       "      <th></th>\n",
       "      <th>a</th>\n",
       "      <th>b</th>\n",
       "      <th>c</th>\n",
       "      <th>d</th>\n",
       "    </tr>\n",
       "  </thead>\n",
       "  <tbody>\n",
       "    <tr>\n",
       "      <th>2025-05-07</th>\n",
       "      <td>0.402116</td>\n",
       "      <td>-0.384290</td>\n",
       "      <td>-0.368267</td>\n",
       "      <td>0.275474</td>\n",
       "    </tr>\n",
       "    <tr>\n",
       "      <th>2025-05-08</th>\n",
       "      <td>-0.854607</td>\n",
       "      <td>-0.268929</td>\n",
       "      <td>0.318291</td>\n",
       "      <td>0.171250</td>\n",
       "    </tr>\n",
       "    <tr>\n",
       "      <th>2025-05-09</th>\n",
       "      <td>0.585964</td>\n",
       "      <td>-0.245530</td>\n",
       "      <td>-0.652331</td>\n",
       "      <td>0.189790</td>\n",
       "    </tr>\n",
       "    <tr>\n",
       "      <th>2025-05-10</th>\n",
       "      <td>-0.736026</td>\n",
       "      <td>0.828320</td>\n",
       "      <td>0.024691</td>\n",
       "      <td>0.306254</td>\n",
       "    </tr>\n",
       "    <tr>\n",
       "      <th>2025-05-11</th>\n",
       "      <td>1.807951</td>\n",
       "      <td>0.754465</td>\n",
       "      <td>-0.938972</td>\n",
       "      <td>1.912790</td>\n",
       "    </tr>\n",
       "    <tr>\n",
       "      <th>2025-05-12</th>\n",
       "      <td>-0.323966</td>\n",
       "      <td>0.523374</td>\n",
       "      <td>0.337510</td>\n",
       "      <td>-0.038787</td>\n",
       "    </tr>\n",
       "    <tr>\n",
       "      <th>2025-05-13</th>\n",
       "      <td>0.093659</td>\n",
       "      <td>0.766627</td>\n",
       "      <td>-0.053891</td>\n",
       "      <td>-0.456875</td>\n",
       "    </tr>\n",
       "    <tr>\n",
       "      <th>2025-05-14</th>\n",
       "      <td>0.272634</td>\n",
       "      <td>1.602550</td>\n",
       "      <td>-0.185592</td>\n",
       "      <td>-1.166650</td>\n",
       "    </tr>\n",
       "    <tr>\n",
       "      <th>2025-05-15</th>\n",
       "      <td>-0.213006</td>\n",
       "      <td>0.834138</td>\n",
       "      <td>0.459209</td>\n",
       "      <td>0.638330</td>\n",
       "    </tr>\n",
       "    <tr>\n",
       "      <th>2025-05-16</th>\n",
       "      <td>-2.747052</td>\n",
       "      <td>-0.206302</td>\n",
       "      <td>-0.526626</td>\n",
       "      <td>-0.785678</td>\n",
       "    </tr>\n",
       "  </tbody>\n",
       "</table>\n",
       "</div>"
      ],
      "text/plain": [
       "                   a         b         c         d\n",
       "2025-05-07  0.402116 -0.384290 -0.368267  0.275474\n",
       "2025-05-08 -0.854607 -0.268929  0.318291  0.171250\n",
       "2025-05-09  0.585964 -0.245530 -0.652331  0.189790\n",
       "2025-05-10 -0.736026  0.828320  0.024691  0.306254\n",
       "2025-05-11  1.807951  0.754465 -0.938972  1.912790\n",
       "2025-05-12 -0.323966  0.523374  0.337510 -0.038787\n",
       "2025-05-13  0.093659  0.766627 -0.053891 -0.456875\n",
       "2025-05-14  0.272634  1.602550 -0.185592 -1.166650\n",
       "2025-05-15 -0.213006  0.834138  0.459209  0.638330\n",
       "2025-05-16 -2.747052 -0.206302 -0.526626 -0.785678"
      ]
     },
     "execution_count": 233,
     "metadata": {},
     "output_type": "execute_result"
    }
   ],
   "source": [
    "df"
   ]
  },
  {
   "cell_type": "code",
   "execution_count": 235,
   "id": "05f6d9d1-eded-4f45-a85d-790f5ba58e4c",
   "metadata": {},
   "outputs": [],
   "source": [
    "#new column\n",
    "\n",
    "df['new']=df['c']+df['d']"
   ]
  },
  {
   "cell_type": "code",
   "execution_count": 237,
   "id": "1ee07feb-9d2d-4a4f-bb27-5ea7c993d9a8",
   "metadata": {},
   "outputs": [
    {
     "data": {
      "text/html": [
       "<div>\n",
       "<style scoped>\n",
       "    .dataframe tbody tr th:only-of-type {\n",
       "        vertical-align: middle;\n",
       "    }\n",
       "\n",
       "    .dataframe tbody tr th {\n",
       "        vertical-align: top;\n",
       "    }\n",
       "\n",
       "    .dataframe thead th {\n",
       "        text-align: right;\n",
       "    }\n",
       "</style>\n",
       "<table border=\"1\" class=\"dataframe\">\n",
       "  <thead>\n",
       "    <tr style=\"text-align: right;\">\n",
       "      <th></th>\n",
       "      <th>a</th>\n",
       "      <th>b</th>\n",
       "      <th>c</th>\n",
       "      <th>d</th>\n",
       "      <th>new</th>\n",
       "    </tr>\n",
       "  </thead>\n",
       "  <tbody>\n",
       "    <tr>\n",
       "      <th>2025-05-07</th>\n",
       "      <td>0.402116</td>\n",
       "      <td>-0.384290</td>\n",
       "      <td>-0.368267</td>\n",
       "      <td>0.275474</td>\n",
       "      <td>-0.092793</td>\n",
       "    </tr>\n",
       "    <tr>\n",
       "      <th>2025-05-08</th>\n",
       "      <td>-0.854607</td>\n",
       "      <td>-0.268929</td>\n",
       "      <td>0.318291</td>\n",
       "      <td>0.171250</td>\n",
       "      <td>0.489541</td>\n",
       "    </tr>\n",
       "    <tr>\n",
       "      <th>2025-05-09</th>\n",
       "      <td>0.585964</td>\n",
       "      <td>-0.245530</td>\n",
       "      <td>-0.652331</td>\n",
       "      <td>0.189790</td>\n",
       "      <td>-0.462540</td>\n",
       "    </tr>\n",
       "    <tr>\n",
       "      <th>2025-05-10</th>\n",
       "      <td>-0.736026</td>\n",
       "      <td>0.828320</td>\n",
       "      <td>0.024691</td>\n",
       "      <td>0.306254</td>\n",
       "      <td>0.330945</td>\n",
       "    </tr>\n",
       "    <tr>\n",
       "      <th>2025-05-11</th>\n",
       "      <td>1.807951</td>\n",
       "      <td>0.754465</td>\n",
       "      <td>-0.938972</td>\n",
       "      <td>1.912790</td>\n",
       "      <td>0.973818</td>\n",
       "    </tr>\n",
       "    <tr>\n",
       "      <th>2025-05-12</th>\n",
       "      <td>-0.323966</td>\n",
       "      <td>0.523374</td>\n",
       "      <td>0.337510</td>\n",
       "      <td>-0.038787</td>\n",
       "      <td>0.298723</td>\n",
       "    </tr>\n",
       "    <tr>\n",
       "      <th>2025-05-13</th>\n",
       "      <td>0.093659</td>\n",
       "      <td>0.766627</td>\n",
       "      <td>-0.053891</td>\n",
       "      <td>-0.456875</td>\n",
       "      <td>-0.510766</td>\n",
       "    </tr>\n",
       "    <tr>\n",
       "      <th>2025-05-14</th>\n",
       "      <td>0.272634</td>\n",
       "      <td>1.602550</td>\n",
       "      <td>-0.185592</td>\n",
       "      <td>-1.166650</td>\n",
       "      <td>-1.352242</td>\n",
       "    </tr>\n",
       "    <tr>\n",
       "      <th>2025-05-15</th>\n",
       "      <td>-0.213006</td>\n",
       "      <td>0.834138</td>\n",
       "      <td>0.459209</td>\n",
       "      <td>0.638330</td>\n",
       "      <td>1.097539</td>\n",
       "    </tr>\n",
       "    <tr>\n",
       "      <th>2025-05-16</th>\n",
       "      <td>-2.747052</td>\n",
       "      <td>-0.206302</td>\n",
       "      <td>-0.526626</td>\n",
       "      <td>-0.785678</td>\n",
       "      <td>-1.312303</td>\n",
       "    </tr>\n",
       "  </tbody>\n",
       "</table>\n",
       "</div>"
      ],
      "text/plain": [
       "                   a         b         c         d       new\n",
       "2025-05-07  0.402116 -0.384290 -0.368267  0.275474 -0.092793\n",
       "2025-05-08 -0.854607 -0.268929  0.318291  0.171250  0.489541\n",
       "2025-05-09  0.585964 -0.245530 -0.652331  0.189790 -0.462540\n",
       "2025-05-10 -0.736026  0.828320  0.024691  0.306254  0.330945\n",
       "2025-05-11  1.807951  0.754465 -0.938972  1.912790  0.973818\n",
       "2025-05-12 -0.323966  0.523374  0.337510 -0.038787  0.298723\n",
       "2025-05-13  0.093659  0.766627 -0.053891 -0.456875 -0.510766\n",
       "2025-05-14  0.272634  1.602550 -0.185592 -1.166650 -1.352242\n",
       "2025-05-15 -0.213006  0.834138  0.459209  0.638330  1.097539\n",
       "2025-05-16 -2.747052 -0.206302 -0.526626 -0.785678 -1.312303"
      ]
     },
     "execution_count": 237,
     "metadata": {},
     "output_type": "execute_result"
    }
   ],
   "source": [
    "df"
   ]
  },
  {
   "cell_type": "code",
   "execution_count": 239,
   "id": "89393747-ca6d-477f-9c73-209d0e7cdde4",
   "metadata": {},
   "outputs": [],
   "source": [
    "def test(a):\n",
    "    return a*a"
   ]
  },
  {
   "cell_type": "code",
   "execution_count": 241,
   "id": "116a93fc-7ef3-4426-80e2-d858907ff0be",
   "metadata": {},
   "outputs": [],
   "source": [
    "df['squared_col']=df['d'].apply(test)"
   ]
  },
  {
   "cell_type": "code",
   "execution_count": 243,
   "id": "2314b28d-37ab-4a5b-9158-32b70b80a999",
   "metadata": {},
   "outputs": [
    {
     "data": {
      "text/html": [
       "<div>\n",
       "<style scoped>\n",
       "    .dataframe tbody tr th:only-of-type {\n",
       "        vertical-align: middle;\n",
       "    }\n",
       "\n",
       "    .dataframe tbody tr th {\n",
       "        vertical-align: top;\n",
       "    }\n",
       "\n",
       "    .dataframe thead th {\n",
       "        text-align: right;\n",
       "    }\n",
       "</style>\n",
       "<table border=\"1\" class=\"dataframe\">\n",
       "  <thead>\n",
       "    <tr style=\"text-align: right;\">\n",
       "      <th></th>\n",
       "      <th>a</th>\n",
       "      <th>b</th>\n",
       "      <th>c</th>\n",
       "      <th>d</th>\n",
       "      <th>new</th>\n",
       "      <th>squared_col</th>\n",
       "    </tr>\n",
       "  </thead>\n",
       "  <tbody>\n",
       "    <tr>\n",
       "      <th>2025-05-07</th>\n",
       "      <td>0.402116</td>\n",
       "      <td>-0.384290</td>\n",
       "      <td>-0.368267</td>\n",
       "      <td>0.275474</td>\n",
       "      <td>-0.092793</td>\n",
       "      <td>0.075886</td>\n",
       "    </tr>\n",
       "    <tr>\n",
       "      <th>2025-05-08</th>\n",
       "      <td>-0.854607</td>\n",
       "      <td>-0.268929</td>\n",
       "      <td>0.318291</td>\n",
       "      <td>0.171250</td>\n",
       "      <td>0.489541</td>\n",
       "      <td>0.029327</td>\n",
       "    </tr>\n",
       "    <tr>\n",
       "      <th>2025-05-09</th>\n",
       "      <td>0.585964</td>\n",
       "      <td>-0.245530</td>\n",
       "      <td>-0.652331</td>\n",
       "      <td>0.189790</td>\n",
       "      <td>-0.462540</td>\n",
       "      <td>0.036020</td>\n",
       "    </tr>\n",
       "    <tr>\n",
       "      <th>2025-05-10</th>\n",
       "      <td>-0.736026</td>\n",
       "      <td>0.828320</td>\n",
       "      <td>0.024691</td>\n",
       "      <td>0.306254</td>\n",
       "      <td>0.330945</td>\n",
       "      <td>0.093792</td>\n",
       "    </tr>\n",
       "    <tr>\n",
       "      <th>2025-05-11</th>\n",
       "      <td>1.807951</td>\n",
       "      <td>0.754465</td>\n",
       "      <td>-0.938972</td>\n",
       "      <td>1.912790</td>\n",
       "      <td>0.973818</td>\n",
       "      <td>3.658767</td>\n",
       "    </tr>\n",
       "    <tr>\n",
       "      <th>2025-05-12</th>\n",
       "      <td>-0.323966</td>\n",
       "      <td>0.523374</td>\n",
       "      <td>0.337510</td>\n",
       "      <td>-0.038787</td>\n",
       "      <td>0.298723</td>\n",
       "      <td>0.001504</td>\n",
       "    </tr>\n",
       "    <tr>\n",
       "      <th>2025-05-13</th>\n",
       "      <td>0.093659</td>\n",
       "      <td>0.766627</td>\n",
       "      <td>-0.053891</td>\n",
       "      <td>-0.456875</td>\n",
       "      <td>-0.510766</td>\n",
       "      <td>0.208734</td>\n",
       "    </tr>\n",
       "    <tr>\n",
       "      <th>2025-05-14</th>\n",
       "      <td>0.272634</td>\n",
       "      <td>1.602550</td>\n",
       "      <td>-0.185592</td>\n",
       "      <td>-1.166650</td>\n",
       "      <td>-1.352242</td>\n",
       "      <td>1.361072</td>\n",
       "    </tr>\n",
       "    <tr>\n",
       "      <th>2025-05-15</th>\n",
       "      <td>-0.213006</td>\n",
       "      <td>0.834138</td>\n",
       "      <td>0.459209</td>\n",
       "      <td>0.638330</td>\n",
       "      <td>1.097539</td>\n",
       "      <td>0.407465</td>\n",
       "    </tr>\n",
       "    <tr>\n",
       "      <th>2025-05-16</th>\n",
       "      <td>-2.747052</td>\n",
       "      <td>-0.206302</td>\n",
       "      <td>-0.526626</td>\n",
       "      <td>-0.785678</td>\n",
       "      <td>-1.312303</td>\n",
       "      <td>0.617289</td>\n",
       "    </tr>\n",
       "  </tbody>\n",
       "</table>\n",
       "</div>"
      ],
      "text/plain": [
       "                   a         b         c         d       new  squared_col\n",
       "2025-05-07  0.402116 -0.384290 -0.368267  0.275474 -0.092793     0.075886\n",
       "2025-05-08 -0.854607 -0.268929  0.318291  0.171250  0.489541     0.029327\n",
       "2025-05-09  0.585964 -0.245530 -0.652331  0.189790 -0.462540     0.036020\n",
       "2025-05-10 -0.736026  0.828320  0.024691  0.306254  0.330945     0.093792\n",
       "2025-05-11  1.807951  0.754465 -0.938972  1.912790  0.973818     3.658767\n",
       "2025-05-12 -0.323966  0.523374  0.337510 -0.038787  0.298723     0.001504\n",
       "2025-05-13  0.093659  0.766627 -0.053891 -0.456875 -0.510766     0.208734\n",
       "2025-05-14  0.272634  1.602550 -0.185592 -1.166650 -1.352242     1.361072\n",
       "2025-05-15 -0.213006  0.834138  0.459209  0.638330  1.097539     0.407465\n",
       "2025-05-16 -2.747052 -0.206302 -0.526626 -0.785678 -1.312303     0.617289"
      ]
     },
     "execution_count": 243,
     "metadata": {},
     "output_type": "execute_result"
    }
   ],
   "source": [
    "df"
   ]
  },
  {
   "cell_type": "code",
   "execution_count": 245,
   "id": "29860edd-43a5-4742-87ac-2bb29d627586",
   "metadata": {},
   "outputs": [
    {
     "name": "stderr",
     "output_type": "stream",
     "text": [
      "C:\\Users\\chatr\\anaconda3\\Lib\\site-packages\\pandas\\core\\arraylike.py:399: RuntimeWarning: invalid value encountered in log\n",
      "  result = getattr(ufunc, method)(*inputs, **kwargs)\n"
     ]
    }
   ],
   "source": [
    "# Query to create a new column and store the logrethmic values for column d .\n",
    "# the log values of negitive values and the zeros are not defined so its values become the NaN values\n",
    "\n",
    "df['log_d']=np.log(df['d'])"
   ]
  },
  {
   "cell_type": "code",
   "execution_count": 247,
   "id": "a1429e70-b194-4ac5-adf5-7961e0f909b1",
   "metadata": {},
   "outputs": [
    {
     "data": {
      "text/html": [
       "<div>\n",
       "<style scoped>\n",
       "    .dataframe tbody tr th:only-of-type {\n",
       "        vertical-align: middle;\n",
       "    }\n",
       "\n",
       "    .dataframe tbody tr th {\n",
       "        vertical-align: top;\n",
       "    }\n",
       "\n",
       "    .dataframe thead th {\n",
       "        text-align: right;\n",
       "    }\n",
       "</style>\n",
       "<table border=\"1\" class=\"dataframe\">\n",
       "  <thead>\n",
       "    <tr style=\"text-align: right;\">\n",
       "      <th></th>\n",
       "      <th>a</th>\n",
       "      <th>b</th>\n",
       "      <th>c</th>\n",
       "      <th>d</th>\n",
       "      <th>new</th>\n",
       "      <th>squared_col</th>\n",
       "      <th>log_d</th>\n",
       "    </tr>\n",
       "  </thead>\n",
       "  <tbody>\n",
       "    <tr>\n",
       "      <th>2025-05-07</th>\n",
       "      <td>0.402116</td>\n",
       "      <td>-0.384290</td>\n",
       "      <td>-0.368267</td>\n",
       "      <td>0.275474</td>\n",
       "      <td>-0.092793</td>\n",
       "      <td>0.075886</td>\n",
       "      <td>-1.289262</td>\n",
       "    </tr>\n",
       "    <tr>\n",
       "      <th>2025-05-08</th>\n",
       "      <td>-0.854607</td>\n",
       "      <td>-0.268929</td>\n",
       "      <td>0.318291</td>\n",
       "      <td>0.171250</td>\n",
       "      <td>0.489541</td>\n",
       "      <td>0.029327</td>\n",
       "      <td>-1.764631</td>\n",
       "    </tr>\n",
       "    <tr>\n",
       "      <th>2025-05-09</th>\n",
       "      <td>0.585964</td>\n",
       "      <td>-0.245530</td>\n",
       "      <td>-0.652331</td>\n",
       "      <td>0.189790</td>\n",
       "      <td>-0.462540</td>\n",
       "      <td>0.036020</td>\n",
       "      <td>-1.661835</td>\n",
       "    </tr>\n",
       "    <tr>\n",
       "      <th>2025-05-10</th>\n",
       "      <td>-0.736026</td>\n",
       "      <td>0.828320</td>\n",
       "      <td>0.024691</td>\n",
       "      <td>0.306254</td>\n",
       "      <td>0.330945</td>\n",
       "      <td>0.093792</td>\n",
       "      <td>-1.183339</td>\n",
       "    </tr>\n",
       "    <tr>\n",
       "      <th>2025-05-11</th>\n",
       "      <td>1.807951</td>\n",
       "      <td>0.754465</td>\n",
       "      <td>-0.938972</td>\n",
       "      <td>1.912790</td>\n",
       "      <td>0.973818</td>\n",
       "      <td>3.658767</td>\n",
       "      <td>0.648563</td>\n",
       "    </tr>\n",
       "    <tr>\n",
       "      <th>2025-05-12</th>\n",
       "      <td>-0.323966</td>\n",
       "      <td>0.523374</td>\n",
       "      <td>0.337510</td>\n",
       "      <td>-0.038787</td>\n",
       "      <td>0.298723</td>\n",
       "      <td>0.001504</td>\n",
       "      <td>NaN</td>\n",
       "    </tr>\n",
       "    <tr>\n",
       "      <th>2025-05-13</th>\n",
       "      <td>0.093659</td>\n",
       "      <td>0.766627</td>\n",
       "      <td>-0.053891</td>\n",
       "      <td>-0.456875</td>\n",
       "      <td>-0.510766</td>\n",
       "      <td>0.208734</td>\n",
       "      <td>NaN</td>\n",
       "    </tr>\n",
       "    <tr>\n",
       "      <th>2025-05-14</th>\n",
       "      <td>0.272634</td>\n",
       "      <td>1.602550</td>\n",
       "      <td>-0.185592</td>\n",
       "      <td>-1.166650</td>\n",
       "      <td>-1.352242</td>\n",
       "      <td>1.361072</td>\n",
       "      <td>NaN</td>\n",
       "    </tr>\n",
       "    <tr>\n",
       "      <th>2025-05-15</th>\n",
       "      <td>-0.213006</td>\n",
       "      <td>0.834138</td>\n",
       "      <td>0.459209</td>\n",
       "      <td>0.638330</td>\n",
       "      <td>1.097539</td>\n",
       "      <td>0.407465</td>\n",
       "      <td>-0.448900</td>\n",
       "    </tr>\n",
       "    <tr>\n",
       "      <th>2025-05-16</th>\n",
       "      <td>-2.747052</td>\n",
       "      <td>-0.206302</td>\n",
       "      <td>-0.526626</td>\n",
       "      <td>-0.785678</td>\n",
       "      <td>-1.312303</td>\n",
       "      <td>0.617289</td>\n",
       "      <td>NaN</td>\n",
       "    </tr>\n",
       "  </tbody>\n",
       "</table>\n",
       "</div>"
      ],
      "text/plain": [
       "                   a         b         c         d       new  squared_col  \\\n",
       "2025-05-07  0.402116 -0.384290 -0.368267  0.275474 -0.092793     0.075886   \n",
       "2025-05-08 -0.854607 -0.268929  0.318291  0.171250  0.489541     0.029327   \n",
       "2025-05-09  0.585964 -0.245530 -0.652331  0.189790 -0.462540     0.036020   \n",
       "2025-05-10 -0.736026  0.828320  0.024691  0.306254  0.330945     0.093792   \n",
       "2025-05-11  1.807951  0.754465 -0.938972  1.912790  0.973818     3.658767   \n",
       "2025-05-12 -0.323966  0.523374  0.337510 -0.038787  0.298723     0.001504   \n",
       "2025-05-13  0.093659  0.766627 -0.053891 -0.456875 -0.510766     0.208734   \n",
       "2025-05-14  0.272634  1.602550 -0.185592 -1.166650 -1.352242     1.361072   \n",
       "2025-05-15 -0.213006  0.834138  0.459209  0.638330  1.097539     0.407465   \n",
       "2025-05-16 -2.747052 -0.206302 -0.526626 -0.785678 -1.312303     0.617289   \n",
       "\n",
       "               log_d  \n",
       "2025-05-07 -1.289262  \n",
       "2025-05-08 -1.764631  \n",
       "2025-05-09 -1.661835  \n",
       "2025-05-10 -1.183339  \n",
       "2025-05-11  0.648563  \n",
       "2025-05-12       NaN  \n",
       "2025-05-13       NaN  \n",
       "2025-05-14       NaN  \n",
       "2025-05-15 -0.448900  \n",
       "2025-05-16       NaN  "
      ]
     },
     "execution_count": 247,
     "metadata": {},
     "output_type": "execute_result"
    }
   ],
   "source": [
    "df"
   ]
  },
  {
   "cell_type": "code",
   "execution_count": 249,
   "id": "b398b1d0-aac2-4742-afdd-e0703f71f78d",
   "metadata": {},
   "outputs": [],
   "source": [
    "def test1(a):\n",
    "    if(a<=0):\n",
    "        return a\n",
    "    else:\n",
    "        return np.log(a)"
   ]
  },
  {
   "cell_type": "code",
   "execution_count": 251,
   "id": "6d641fbf-31da-4e54-9973-95ee0028b287",
   "metadata": {},
   "outputs": [],
   "source": [
    "#Create a new column where negative values of column d should remain same and positive values of column d should get log values.\n",
    "\n",
    "df['log_d2']=df['d'].apply(test1)"
   ]
  },
  {
   "cell_type": "code",
   "execution_count": 253,
   "id": "b9c5c184-daa4-4e84-89ec-10fa9b910a6e",
   "metadata": {},
   "outputs": [
    {
     "data": {
      "text/html": [
       "<div>\n",
       "<style scoped>\n",
       "    .dataframe tbody tr th:only-of-type {\n",
       "        vertical-align: middle;\n",
       "    }\n",
       "\n",
       "    .dataframe tbody tr th {\n",
       "        vertical-align: top;\n",
       "    }\n",
       "\n",
       "    .dataframe thead th {\n",
       "        text-align: right;\n",
       "    }\n",
       "</style>\n",
       "<table border=\"1\" class=\"dataframe\">\n",
       "  <thead>\n",
       "    <tr style=\"text-align: right;\">\n",
       "      <th></th>\n",
       "      <th>a</th>\n",
       "      <th>b</th>\n",
       "      <th>c</th>\n",
       "      <th>d</th>\n",
       "      <th>new</th>\n",
       "      <th>squared_col</th>\n",
       "      <th>log_d</th>\n",
       "      <th>log_d2</th>\n",
       "    </tr>\n",
       "  </thead>\n",
       "  <tbody>\n",
       "    <tr>\n",
       "      <th>2025-05-07</th>\n",
       "      <td>0.402116</td>\n",
       "      <td>-0.384290</td>\n",
       "      <td>-0.368267</td>\n",
       "      <td>0.275474</td>\n",
       "      <td>-0.092793</td>\n",
       "      <td>0.075886</td>\n",
       "      <td>-1.289262</td>\n",
       "      <td>-1.289262</td>\n",
       "    </tr>\n",
       "    <tr>\n",
       "      <th>2025-05-08</th>\n",
       "      <td>-0.854607</td>\n",
       "      <td>-0.268929</td>\n",
       "      <td>0.318291</td>\n",
       "      <td>0.171250</td>\n",
       "      <td>0.489541</td>\n",
       "      <td>0.029327</td>\n",
       "      <td>-1.764631</td>\n",
       "      <td>-1.764631</td>\n",
       "    </tr>\n",
       "    <tr>\n",
       "      <th>2025-05-09</th>\n",
       "      <td>0.585964</td>\n",
       "      <td>-0.245530</td>\n",
       "      <td>-0.652331</td>\n",
       "      <td>0.189790</td>\n",
       "      <td>-0.462540</td>\n",
       "      <td>0.036020</td>\n",
       "      <td>-1.661835</td>\n",
       "      <td>-1.661835</td>\n",
       "    </tr>\n",
       "    <tr>\n",
       "      <th>2025-05-10</th>\n",
       "      <td>-0.736026</td>\n",
       "      <td>0.828320</td>\n",
       "      <td>0.024691</td>\n",
       "      <td>0.306254</td>\n",
       "      <td>0.330945</td>\n",
       "      <td>0.093792</td>\n",
       "      <td>-1.183339</td>\n",
       "      <td>-1.183339</td>\n",
       "    </tr>\n",
       "    <tr>\n",
       "      <th>2025-05-11</th>\n",
       "      <td>1.807951</td>\n",
       "      <td>0.754465</td>\n",
       "      <td>-0.938972</td>\n",
       "      <td>1.912790</td>\n",
       "      <td>0.973818</td>\n",
       "      <td>3.658767</td>\n",
       "      <td>0.648563</td>\n",
       "      <td>0.648563</td>\n",
       "    </tr>\n",
       "    <tr>\n",
       "      <th>2025-05-12</th>\n",
       "      <td>-0.323966</td>\n",
       "      <td>0.523374</td>\n",
       "      <td>0.337510</td>\n",
       "      <td>-0.038787</td>\n",
       "      <td>0.298723</td>\n",
       "      <td>0.001504</td>\n",
       "      <td>NaN</td>\n",
       "      <td>-0.038787</td>\n",
       "    </tr>\n",
       "    <tr>\n",
       "      <th>2025-05-13</th>\n",
       "      <td>0.093659</td>\n",
       "      <td>0.766627</td>\n",
       "      <td>-0.053891</td>\n",
       "      <td>-0.456875</td>\n",
       "      <td>-0.510766</td>\n",
       "      <td>0.208734</td>\n",
       "      <td>NaN</td>\n",
       "      <td>-0.456875</td>\n",
       "    </tr>\n",
       "    <tr>\n",
       "      <th>2025-05-14</th>\n",
       "      <td>0.272634</td>\n",
       "      <td>1.602550</td>\n",
       "      <td>-0.185592</td>\n",
       "      <td>-1.166650</td>\n",
       "      <td>-1.352242</td>\n",
       "      <td>1.361072</td>\n",
       "      <td>NaN</td>\n",
       "      <td>-1.166650</td>\n",
       "    </tr>\n",
       "    <tr>\n",
       "      <th>2025-05-15</th>\n",
       "      <td>-0.213006</td>\n",
       "      <td>0.834138</td>\n",
       "      <td>0.459209</td>\n",
       "      <td>0.638330</td>\n",
       "      <td>1.097539</td>\n",
       "      <td>0.407465</td>\n",
       "      <td>-0.448900</td>\n",
       "      <td>-0.448900</td>\n",
       "    </tr>\n",
       "    <tr>\n",
       "      <th>2025-05-16</th>\n",
       "      <td>-2.747052</td>\n",
       "      <td>-0.206302</td>\n",
       "      <td>-0.526626</td>\n",
       "      <td>-0.785678</td>\n",
       "      <td>-1.312303</td>\n",
       "      <td>0.617289</td>\n",
       "      <td>NaN</td>\n",
       "      <td>-0.785678</td>\n",
       "    </tr>\n",
       "  </tbody>\n",
       "</table>\n",
       "</div>"
      ],
      "text/plain": [
       "                   a         b         c         d       new  squared_col  \\\n",
       "2025-05-07  0.402116 -0.384290 -0.368267  0.275474 -0.092793     0.075886   \n",
       "2025-05-08 -0.854607 -0.268929  0.318291  0.171250  0.489541     0.029327   \n",
       "2025-05-09  0.585964 -0.245530 -0.652331  0.189790 -0.462540     0.036020   \n",
       "2025-05-10 -0.736026  0.828320  0.024691  0.306254  0.330945     0.093792   \n",
       "2025-05-11  1.807951  0.754465 -0.938972  1.912790  0.973818     3.658767   \n",
       "2025-05-12 -0.323966  0.523374  0.337510 -0.038787  0.298723     0.001504   \n",
       "2025-05-13  0.093659  0.766627 -0.053891 -0.456875 -0.510766     0.208734   \n",
       "2025-05-14  0.272634  1.602550 -0.185592 -1.166650 -1.352242     1.361072   \n",
       "2025-05-15 -0.213006  0.834138  0.459209  0.638330  1.097539     0.407465   \n",
       "2025-05-16 -2.747052 -0.206302 -0.526626 -0.785678 -1.312303     0.617289   \n",
       "\n",
       "               log_d    log_d2  \n",
       "2025-05-07 -1.289262 -1.289262  \n",
       "2025-05-08 -1.764631 -1.764631  \n",
       "2025-05-09 -1.661835 -1.661835  \n",
       "2025-05-10 -1.183339 -1.183339  \n",
       "2025-05-11  0.648563  0.648563  \n",
       "2025-05-12       NaN -0.038787  \n",
       "2025-05-13       NaN -0.456875  \n",
       "2025-05-14       NaN -1.166650  \n",
       "2025-05-15 -0.448900 -0.448900  \n",
       "2025-05-16       NaN -0.785678  "
      ]
     },
     "execution_count": 253,
     "metadata": {},
     "output_type": "execute_result"
    }
   ],
   "source": [
    "df"
   ]
  },
  {
   "cell_type": "code",
   "execution_count": 255,
   "id": "8aa093d0-b1ad-4839-9e66-b03e2fc1a838",
   "metadata": {},
   "outputs": [],
   "source": [
    "#create new column by considering column A and return yes if the value is even, return no if the value is not even.\n",
    "\n",
    "df['a_even'] = df['a'].apply(lambda x: 'yes' if int(x) % 2 == 0 else 'no')\n"
   ]
  },
  {
   "cell_type": "code",
   "execution_count": 257,
   "id": "a48b3daa-62c5-415a-902a-010fecbd92f1",
   "metadata": {},
   "outputs": [
    {
     "data": {
      "text/html": [
       "<div>\n",
       "<style scoped>\n",
       "    .dataframe tbody tr th:only-of-type {\n",
       "        vertical-align: middle;\n",
       "    }\n",
       "\n",
       "    .dataframe tbody tr th {\n",
       "        vertical-align: top;\n",
       "    }\n",
       "\n",
       "    .dataframe thead th {\n",
       "        text-align: right;\n",
       "    }\n",
       "</style>\n",
       "<table border=\"1\" class=\"dataframe\">\n",
       "  <thead>\n",
       "    <tr style=\"text-align: right;\">\n",
       "      <th></th>\n",
       "      <th>a</th>\n",
       "      <th>b</th>\n",
       "      <th>c</th>\n",
       "      <th>d</th>\n",
       "      <th>new</th>\n",
       "      <th>squared_col</th>\n",
       "      <th>log_d</th>\n",
       "      <th>log_d2</th>\n",
       "      <th>a_even</th>\n",
       "    </tr>\n",
       "  </thead>\n",
       "  <tbody>\n",
       "    <tr>\n",
       "      <th>2025-05-07</th>\n",
       "      <td>0.402116</td>\n",
       "      <td>-0.384290</td>\n",
       "      <td>-0.368267</td>\n",
       "      <td>0.275474</td>\n",
       "      <td>-0.092793</td>\n",
       "      <td>0.075886</td>\n",
       "      <td>-1.289262</td>\n",
       "      <td>-1.289262</td>\n",
       "      <td>yes</td>\n",
       "    </tr>\n",
       "    <tr>\n",
       "      <th>2025-05-08</th>\n",
       "      <td>-0.854607</td>\n",
       "      <td>-0.268929</td>\n",
       "      <td>0.318291</td>\n",
       "      <td>0.171250</td>\n",
       "      <td>0.489541</td>\n",
       "      <td>0.029327</td>\n",
       "      <td>-1.764631</td>\n",
       "      <td>-1.764631</td>\n",
       "      <td>yes</td>\n",
       "    </tr>\n",
       "    <tr>\n",
       "      <th>2025-05-09</th>\n",
       "      <td>0.585964</td>\n",
       "      <td>-0.245530</td>\n",
       "      <td>-0.652331</td>\n",
       "      <td>0.189790</td>\n",
       "      <td>-0.462540</td>\n",
       "      <td>0.036020</td>\n",
       "      <td>-1.661835</td>\n",
       "      <td>-1.661835</td>\n",
       "      <td>yes</td>\n",
       "    </tr>\n",
       "    <tr>\n",
       "      <th>2025-05-10</th>\n",
       "      <td>-0.736026</td>\n",
       "      <td>0.828320</td>\n",
       "      <td>0.024691</td>\n",
       "      <td>0.306254</td>\n",
       "      <td>0.330945</td>\n",
       "      <td>0.093792</td>\n",
       "      <td>-1.183339</td>\n",
       "      <td>-1.183339</td>\n",
       "      <td>yes</td>\n",
       "    </tr>\n",
       "    <tr>\n",
       "      <th>2025-05-11</th>\n",
       "      <td>1.807951</td>\n",
       "      <td>0.754465</td>\n",
       "      <td>-0.938972</td>\n",
       "      <td>1.912790</td>\n",
       "      <td>0.973818</td>\n",
       "      <td>3.658767</td>\n",
       "      <td>0.648563</td>\n",
       "      <td>0.648563</td>\n",
       "      <td>no</td>\n",
       "    </tr>\n",
       "    <tr>\n",
       "      <th>2025-05-12</th>\n",
       "      <td>-0.323966</td>\n",
       "      <td>0.523374</td>\n",
       "      <td>0.337510</td>\n",
       "      <td>-0.038787</td>\n",
       "      <td>0.298723</td>\n",
       "      <td>0.001504</td>\n",
       "      <td>NaN</td>\n",
       "      <td>-0.038787</td>\n",
       "      <td>yes</td>\n",
       "    </tr>\n",
       "    <tr>\n",
       "      <th>2025-05-13</th>\n",
       "      <td>0.093659</td>\n",
       "      <td>0.766627</td>\n",
       "      <td>-0.053891</td>\n",
       "      <td>-0.456875</td>\n",
       "      <td>-0.510766</td>\n",
       "      <td>0.208734</td>\n",
       "      <td>NaN</td>\n",
       "      <td>-0.456875</td>\n",
       "      <td>yes</td>\n",
       "    </tr>\n",
       "    <tr>\n",
       "      <th>2025-05-14</th>\n",
       "      <td>0.272634</td>\n",
       "      <td>1.602550</td>\n",
       "      <td>-0.185592</td>\n",
       "      <td>-1.166650</td>\n",
       "      <td>-1.352242</td>\n",
       "      <td>1.361072</td>\n",
       "      <td>NaN</td>\n",
       "      <td>-1.166650</td>\n",
       "      <td>yes</td>\n",
       "    </tr>\n",
       "    <tr>\n",
       "      <th>2025-05-15</th>\n",
       "      <td>-0.213006</td>\n",
       "      <td>0.834138</td>\n",
       "      <td>0.459209</td>\n",
       "      <td>0.638330</td>\n",
       "      <td>1.097539</td>\n",
       "      <td>0.407465</td>\n",
       "      <td>-0.448900</td>\n",
       "      <td>-0.448900</td>\n",
       "      <td>yes</td>\n",
       "    </tr>\n",
       "    <tr>\n",
       "      <th>2025-05-16</th>\n",
       "      <td>-2.747052</td>\n",
       "      <td>-0.206302</td>\n",
       "      <td>-0.526626</td>\n",
       "      <td>-0.785678</td>\n",
       "      <td>-1.312303</td>\n",
       "      <td>0.617289</td>\n",
       "      <td>NaN</td>\n",
       "      <td>-0.785678</td>\n",
       "      <td>yes</td>\n",
       "    </tr>\n",
       "  </tbody>\n",
       "</table>\n",
       "</div>"
      ],
      "text/plain": [
       "                   a         b         c         d       new  squared_col  \\\n",
       "2025-05-07  0.402116 -0.384290 -0.368267  0.275474 -0.092793     0.075886   \n",
       "2025-05-08 -0.854607 -0.268929  0.318291  0.171250  0.489541     0.029327   \n",
       "2025-05-09  0.585964 -0.245530 -0.652331  0.189790 -0.462540     0.036020   \n",
       "2025-05-10 -0.736026  0.828320  0.024691  0.306254  0.330945     0.093792   \n",
       "2025-05-11  1.807951  0.754465 -0.938972  1.912790  0.973818     3.658767   \n",
       "2025-05-12 -0.323966  0.523374  0.337510 -0.038787  0.298723     0.001504   \n",
       "2025-05-13  0.093659  0.766627 -0.053891 -0.456875 -0.510766     0.208734   \n",
       "2025-05-14  0.272634  1.602550 -0.185592 -1.166650 -1.352242     1.361072   \n",
       "2025-05-15 -0.213006  0.834138  0.459209  0.638330  1.097539     0.407465   \n",
       "2025-05-16 -2.747052 -0.206302 -0.526626 -0.785678 -1.312303     0.617289   \n",
       "\n",
       "               log_d    log_d2 a_even  \n",
       "2025-05-07 -1.289262 -1.289262    yes  \n",
       "2025-05-08 -1.764631 -1.764631    yes  \n",
       "2025-05-09 -1.661835 -1.661835    yes  \n",
       "2025-05-10 -1.183339 -1.183339    yes  \n",
       "2025-05-11  0.648563  0.648563     no  \n",
       "2025-05-12       NaN -0.038787    yes  \n",
       "2025-05-13       NaN -0.456875    yes  \n",
       "2025-05-14       NaN -1.166650    yes  \n",
       "2025-05-15 -0.448900 -0.448900    yes  \n",
       "2025-05-16       NaN -0.785678    yes  "
      ]
     },
     "execution_count": 257,
     "metadata": {},
     "output_type": "execute_result"
    }
   ],
   "source": [
    "df"
   ]
  },
  {
   "cell_type": "code",
   "execution_count": 259,
   "id": "ca5b8b58-de8e-44fa-861c-3ed216358871",
   "metadata": {},
   "outputs": [],
   "source": [
    "#Create a new column for the index values\n",
    "\n",
    "df['YY-MM-DD']=df.index"
   ]
  },
  {
   "cell_type": "code",
   "execution_count": 261,
   "id": "bf935c7a-0225-41e2-973e-51e3070c2f8e",
   "metadata": {},
   "outputs": [
    {
     "data": {
      "text/html": [
       "<div>\n",
       "<style scoped>\n",
       "    .dataframe tbody tr th:only-of-type {\n",
       "        vertical-align: middle;\n",
       "    }\n",
       "\n",
       "    .dataframe tbody tr th {\n",
       "        vertical-align: top;\n",
       "    }\n",
       "\n",
       "    .dataframe thead th {\n",
       "        text-align: right;\n",
       "    }\n",
       "</style>\n",
       "<table border=\"1\" class=\"dataframe\">\n",
       "  <thead>\n",
       "    <tr style=\"text-align: right;\">\n",
       "      <th></th>\n",
       "      <th>a</th>\n",
       "      <th>b</th>\n",
       "      <th>c</th>\n",
       "      <th>d</th>\n",
       "      <th>new</th>\n",
       "      <th>squared_col</th>\n",
       "      <th>log_d</th>\n",
       "      <th>log_d2</th>\n",
       "      <th>a_even</th>\n",
       "      <th>YY-MM-DD</th>\n",
       "    </tr>\n",
       "  </thead>\n",
       "  <tbody>\n",
       "    <tr>\n",
       "      <th>2025-05-07</th>\n",
       "      <td>0.402116</td>\n",
       "      <td>-0.384290</td>\n",
       "      <td>-0.368267</td>\n",
       "      <td>0.275474</td>\n",
       "      <td>-0.092793</td>\n",
       "      <td>0.075886</td>\n",
       "      <td>-1.289262</td>\n",
       "      <td>-1.289262</td>\n",
       "      <td>yes</td>\n",
       "      <td>2025-05-07</td>\n",
       "    </tr>\n",
       "    <tr>\n",
       "      <th>2025-05-08</th>\n",
       "      <td>-0.854607</td>\n",
       "      <td>-0.268929</td>\n",
       "      <td>0.318291</td>\n",
       "      <td>0.171250</td>\n",
       "      <td>0.489541</td>\n",
       "      <td>0.029327</td>\n",
       "      <td>-1.764631</td>\n",
       "      <td>-1.764631</td>\n",
       "      <td>yes</td>\n",
       "      <td>2025-05-08</td>\n",
       "    </tr>\n",
       "    <tr>\n",
       "      <th>2025-05-09</th>\n",
       "      <td>0.585964</td>\n",
       "      <td>-0.245530</td>\n",
       "      <td>-0.652331</td>\n",
       "      <td>0.189790</td>\n",
       "      <td>-0.462540</td>\n",
       "      <td>0.036020</td>\n",
       "      <td>-1.661835</td>\n",
       "      <td>-1.661835</td>\n",
       "      <td>yes</td>\n",
       "      <td>2025-05-09</td>\n",
       "    </tr>\n",
       "    <tr>\n",
       "      <th>2025-05-10</th>\n",
       "      <td>-0.736026</td>\n",
       "      <td>0.828320</td>\n",
       "      <td>0.024691</td>\n",
       "      <td>0.306254</td>\n",
       "      <td>0.330945</td>\n",
       "      <td>0.093792</td>\n",
       "      <td>-1.183339</td>\n",
       "      <td>-1.183339</td>\n",
       "      <td>yes</td>\n",
       "      <td>2025-05-10</td>\n",
       "    </tr>\n",
       "    <tr>\n",
       "      <th>2025-05-11</th>\n",
       "      <td>1.807951</td>\n",
       "      <td>0.754465</td>\n",
       "      <td>-0.938972</td>\n",
       "      <td>1.912790</td>\n",
       "      <td>0.973818</td>\n",
       "      <td>3.658767</td>\n",
       "      <td>0.648563</td>\n",
       "      <td>0.648563</td>\n",
       "      <td>no</td>\n",
       "      <td>2025-05-11</td>\n",
       "    </tr>\n",
       "    <tr>\n",
       "      <th>2025-05-12</th>\n",
       "      <td>-0.323966</td>\n",
       "      <td>0.523374</td>\n",
       "      <td>0.337510</td>\n",
       "      <td>-0.038787</td>\n",
       "      <td>0.298723</td>\n",
       "      <td>0.001504</td>\n",
       "      <td>NaN</td>\n",
       "      <td>-0.038787</td>\n",
       "      <td>yes</td>\n",
       "      <td>2025-05-12</td>\n",
       "    </tr>\n",
       "    <tr>\n",
       "      <th>2025-05-13</th>\n",
       "      <td>0.093659</td>\n",
       "      <td>0.766627</td>\n",
       "      <td>-0.053891</td>\n",
       "      <td>-0.456875</td>\n",
       "      <td>-0.510766</td>\n",
       "      <td>0.208734</td>\n",
       "      <td>NaN</td>\n",
       "      <td>-0.456875</td>\n",
       "      <td>yes</td>\n",
       "      <td>2025-05-13</td>\n",
       "    </tr>\n",
       "    <tr>\n",
       "      <th>2025-05-14</th>\n",
       "      <td>0.272634</td>\n",
       "      <td>1.602550</td>\n",
       "      <td>-0.185592</td>\n",
       "      <td>-1.166650</td>\n",
       "      <td>-1.352242</td>\n",
       "      <td>1.361072</td>\n",
       "      <td>NaN</td>\n",
       "      <td>-1.166650</td>\n",
       "      <td>yes</td>\n",
       "      <td>2025-05-14</td>\n",
       "    </tr>\n",
       "    <tr>\n",
       "      <th>2025-05-15</th>\n",
       "      <td>-0.213006</td>\n",
       "      <td>0.834138</td>\n",
       "      <td>0.459209</td>\n",
       "      <td>0.638330</td>\n",
       "      <td>1.097539</td>\n",
       "      <td>0.407465</td>\n",
       "      <td>-0.448900</td>\n",
       "      <td>-0.448900</td>\n",
       "      <td>yes</td>\n",
       "      <td>2025-05-15</td>\n",
       "    </tr>\n",
       "    <tr>\n",
       "      <th>2025-05-16</th>\n",
       "      <td>-2.747052</td>\n",
       "      <td>-0.206302</td>\n",
       "      <td>-0.526626</td>\n",
       "      <td>-0.785678</td>\n",
       "      <td>-1.312303</td>\n",
       "      <td>0.617289</td>\n",
       "      <td>NaN</td>\n",
       "      <td>-0.785678</td>\n",
       "      <td>yes</td>\n",
       "      <td>2025-05-16</td>\n",
       "    </tr>\n",
       "  </tbody>\n",
       "</table>\n",
       "</div>"
      ],
      "text/plain": [
       "                   a         b         c         d       new  squared_col  \\\n",
       "2025-05-07  0.402116 -0.384290 -0.368267  0.275474 -0.092793     0.075886   \n",
       "2025-05-08 -0.854607 -0.268929  0.318291  0.171250  0.489541     0.029327   \n",
       "2025-05-09  0.585964 -0.245530 -0.652331  0.189790 -0.462540     0.036020   \n",
       "2025-05-10 -0.736026  0.828320  0.024691  0.306254  0.330945     0.093792   \n",
       "2025-05-11  1.807951  0.754465 -0.938972  1.912790  0.973818     3.658767   \n",
       "2025-05-12 -0.323966  0.523374  0.337510 -0.038787  0.298723     0.001504   \n",
       "2025-05-13  0.093659  0.766627 -0.053891 -0.456875 -0.510766     0.208734   \n",
       "2025-05-14  0.272634  1.602550 -0.185592 -1.166650 -1.352242     1.361072   \n",
       "2025-05-15 -0.213006  0.834138  0.459209  0.638330  1.097539     0.407465   \n",
       "2025-05-16 -2.747052 -0.206302 -0.526626 -0.785678 -1.312303     0.617289   \n",
       "\n",
       "               log_d    log_d2 a_even   YY-MM-DD  \n",
       "2025-05-07 -1.289262 -1.289262    yes 2025-05-07  \n",
       "2025-05-08 -1.764631 -1.764631    yes 2025-05-08  \n",
       "2025-05-09 -1.661835 -1.661835    yes 2025-05-09  \n",
       "2025-05-10 -1.183339 -1.183339    yes 2025-05-10  \n",
       "2025-05-11  0.648563  0.648563     no 2025-05-11  \n",
       "2025-05-12       NaN -0.038787    yes 2025-05-12  \n",
       "2025-05-13       NaN -0.456875    yes 2025-05-13  \n",
       "2025-05-14       NaN -1.166650    yes 2025-05-14  \n",
       "2025-05-15 -0.448900 -0.448900    yes 2025-05-15  \n",
       "2025-05-16       NaN -0.785678    yes 2025-05-16  "
      ]
     },
     "execution_count": 261,
     "metadata": {},
     "output_type": "execute_result"
    }
   ],
   "source": [
    "df"
   ]
  },
  {
   "cell_type": "code",
   "execution_count": 263,
   "id": "f55c8fe4-7440-40dd-838e-4a5ce26d741b",
   "metadata": {},
   "outputs": [
    {
     "data": {
      "text/plain": [
       "pandas.core.indexes.datetimes.DatetimeIndex"
      ]
     },
     "execution_count": 263,
     "metadata": {},
     "output_type": "execute_result"
    }
   ],
   "source": [
    "type(df.index)"
   ]
  },
  {
   "cell_type": "code",
   "execution_count": 265,
   "id": "fc99ba8f-a95c-4fa3-892b-cfc00475e34f",
   "metadata": {},
   "outputs": [
    {
     "data": {
      "text/plain": [
       "pandas.core.series.Series"
      ]
     },
     "execution_count": 265,
     "metadata": {},
     "output_type": "execute_result"
    }
   ],
   "source": [
    "type(df['YY-MM-DD'])"
   ]
  },
  {
   "cell_type": "code",
   "execution_count": 267,
   "id": "ba7d0d15-fc4f-4218-842c-9db558b96b1d",
   "metadata": {},
   "outputs": [
    {
     "data": {
      "text/plain": [
       "dtype('<M8[ns]')"
      ]
     },
     "execution_count": 267,
     "metadata": {},
     "output_type": "execute_result"
    }
   ],
   "source": [
    "df['YY-MM-DD'].dtype\n",
    "\n",
    "#  M8 means “datetime64” in numpy "
   ]
  },
  {
   "cell_type": "code",
   "execution_count": 269,
   "id": "f854edb4-fb34-4d8b-87ae-3cf23ce3dbf3",
   "metadata": {},
   "outputs": [],
   "source": [
    "# Separate the date into year, month, and day\n",
    "\n",
    "df['year']=df['YY-MM-DD'].dt.year\n",
    "df['Month']=df['YY-MM-DD'].dt.month\n",
    "df['Day']=df['YY-MM-DD'].dt.day"
   ]
  },
  {
   "cell_type": "code",
   "execution_count": 271,
   "id": "bdba02ae-89bf-4c99-9ce5-b844a811b664",
   "metadata": {},
   "outputs": [
    {
     "data": {
      "text/html": [
       "<div>\n",
       "<style scoped>\n",
       "    .dataframe tbody tr th:only-of-type {\n",
       "        vertical-align: middle;\n",
       "    }\n",
       "\n",
       "    .dataframe tbody tr th {\n",
       "        vertical-align: top;\n",
       "    }\n",
       "\n",
       "    .dataframe thead th {\n",
       "        text-align: right;\n",
       "    }\n",
       "</style>\n",
       "<table border=\"1\" class=\"dataframe\">\n",
       "  <thead>\n",
       "    <tr style=\"text-align: right;\">\n",
       "      <th></th>\n",
       "      <th>a</th>\n",
       "      <th>b</th>\n",
       "      <th>c</th>\n",
       "      <th>d</th>\n",
       "      <th>new</th>\n",
       "      <th>squared_col</th>\n",
       "      <th>log_d</th>\n",
       "      <th>log_d2</th>\n",
       "      <th>a_even</th>\n",
       "      <th>YY-MM-DD</th>\n",
       "      <th>year</th>\n",
       "      <th>Month</th>\n",
       "      <th>Day</th>\n",
       "    </tr>\n",
       "  </thead>\n",
       "  <tbody>\n",
       "    <tr>\n",
       "      <th>2025-05-07</th>\n",
       "      <td>0.402116</td>\n",
       "      <td>-0.384290</td>\n",
       "      <td>-0.368267</td>\n",
       "      <td>0.275474</td>\n",
       "      <td>-0.092793</td>\n",
       "      <td>0.075886</td>\n",
       "      <td>-1.289262</td>\n",
       "      <td>-1.289262</td>\n",
       "      <td>yes</td>\n",
       "      <td>2025-05-07</td>\n",
       "      <td>2025</td>\n",
       "      <td>5</td>\n",
       "      <td>7</td>\n",
       "    </tr>\n",
       "    <tr>\n",
       "      <th>2025-05-08</th>\n",
       "      <td>-0.854607</td>\n",
       "      <td>-0.268929</td>\n",
       "      <td>0.318291</td>\n",
       "      <td>0.171250</td>\n",
       "      <td>0.489541</td>\n",
       "      <td>0.029327</td>\n",
       "      <td>-1.764631</td>\n",
       "      <td>-1.764631</td>\n",
       "      <td>yes</td>\n",
       "      <td>2025-05-08</td>\n",
       "      <td>2025</td>\n",
       "      <td>5</td>\n",
       "      <td>8</td>\n",
       "    </tr>\n",
       "    <tr>\n",
       "      <th>2025-05-09</th>\n",
       "      <td>0.585964</td>\n",
       "      <td>-0.245530</td>\n",
       "      <td>-0.652331</td>\n",
       "      <td>0.189790</td>\n",
       "      <td>-0.462540</td>\n",
       "      <td>0.036020</td>\n",
       "      <td>-1.661835</td>\n",
       "      <td>-1.661835</td>\n",
       "      <td>yes</td>\n",
       "      <td>2025-05-09</td>\n",
       "      <td>2025</td>\n",
       "      <td>5</td>\n",
       "      <td>9</td>\n",
       "    </tr>\n",
       "    <tr>\n",
       "      <th>2025-05-10</th>\n",
       "      <td>-0.736026</td>\n",
       "      <td>0.828320</td>\n",
       "      <td>0.024691</td>\n",
       "      <td>0.306254</td>\n",
       "      <td>0.330945</td>\n",
       "      <td>0.093792</td>\n",
       "      <td>-1.183339</td>\n",
       "      <td>-1.183339</td>\n",
       "      <td>yes</td>\n",
       "      <td>2025-05-10</td>\n",
       "      <td>2025</td>\n",
       "      <td>5</td>\n",
       "      <td>10</td>\n",
       "    </tr>\n",
       "    <tr>\n",
       "      <th>2025-05-11</th>\n",
       "      <td>1.807951</td>\n",
       "      <td>0.754465</td>\n",
       "      <td>-0.938972</td>\n",
       "      <td>1.912790</td>\n",
       "      <td>0.973818</td>\n",
       "      <td>3.658767</td>\n",
       "      <td>0.648563</td>\n",
       "      <td>0.648563</td>\n",
       "      <td>no</td>\n",
       "      <td>2025-05-11</td>\n",
       "      <td>2025</td>\n",
       "      <td>5</td>\n",
       "      <td>11</td>\n",
       "    </tr>\n",
       "    <tr>\n",
       "      <th>2025-05-12</th>\n",
       "      <td>-0.323966</td>\n",
       "      <td>0.523374</td>\n",
       "      <td>0.337510</td>\n",
       "      <td>-0.038787</td>\n",
       "      <td>0.298723</td>\n",
       "      <td>0.001504</td>\n",
       "      <td>NaN</td>\n",
       "      <td>-0.038787</td>\n",
       "      <td>yes</td>\n",
       "      <td>2025-05-12</td>\n",
       "      <td>2025</td>\n",
       "      <td>5</td>\n",
       "      <td>12</td>\n",
       "    </tr>\n",
       "    <tr>\n",
       "      <th>2025-05-13</th>\n",
       "      <td>0.093659</td>\n",
       "      <td>0.766627</td>\n",
       "      <td>-0.053891</td>\n",
       "      <td>-0.456875</td>\n",
       "      <td>-0.510766</td>\n",
       "      <td>0.208734</td>\n",
       "      <td>NaN</td>\n",
       "      <td>-0.456875</td>\n",
       "      <td>yes</td>\n",
       "      <td>2025-05-13</td>\n",
       "      <td>2025</td>\n",
       "      <td>5</td>\n",
       "      <td>13</td>\n",
       "    </tr>\n",
       "    <tr>\n",
       "      <th>2025-05-14</th>\n",
       "      <td>0.272634</td>\n",
       "      <td>1.602550</td>\n",
       "      <td>-0.185592</td>\n",
       "      <td>-1.166650</td>\n",
       "      <td>-1.352242</td>\n",
       "      <td>1.361072</td>\n",
       "      <td>NaN</td>\n",
       "      <td>-1.166650</td>\n",
       "      <td>yes</td>\n",
       "      <td>2025-05-14</td>\n",
       "      <td>2025</td>\n",
       "      <td>5</td>\n",
       "      <td>14</td>\n",
       "    </tr>\n",
       "    <tr>\n",
       "      <th>2025-05-15</th>\n",
       "      <td>-0.213006</td>\n",
       "      <td>0.834138</td>\n",
       "      <td>0.459209</td>\n",
       "      <td>0.638330</td>\n",
       "      <td>1.097539</td>\n",
       "      <td>0.407465</td>\n",
       "      <td>-0.448900</td>\n",
       "      <td>-0.448900</td>\n",
       "      <td>yes</td>\n",
       "      <td>2025-05-15</td>\n",
       "      <td>2025</td>\n",
       "      <td>5</td>\n",
       "      <td>15</td>\n",
       "    </tr>\n",
       "    <tr>\n",
       "      <th>2025-05-16</th>\n",
       "      <td>-2.747052</td>\n",
       "      <td>-0.206302</td>\n",
       "      <td>-0.526626</td>\n",
       "      <td>-0.785678</td>\n",
       "      <td>-1.312303</td>\n",
       "      <td>0.617289</td>\n",
       "      <td>NaN</td>\n",
       "      <td>-0.785678</td>\n",
       "      <td>yes</td>\n",
       "      <td>2025-05-16</td>\n",
       "      <td>2025</td>\n",
       "      <td>5</td>\n",
       "      <td>16</td>\n",
       "    </tr>\n",
       "  </tbody>\n",
       "</table>\n",
       "</div>"
      ],
      "text/plain": [
       "                   a         b         c         d       new  squared_col  \\\n",
       "2025-05-07  0.402116 -0.384290 -0.368267  0.275474 -0.092793     0.075886   \n",
       "2025-05-08 -0.854607 -0.268929  0.318291  0.171250  0.489541     0.029327   \n",
       "2025-05-09  0.585964 -0.245530 -0.652331  0.189790 -0.462540     0.036020   \n",
       "2025-05-10 -0.736026  0.828320  0.024691  0.306254  0.330945     0.093792   \n",
       "2025-05-11  1.807951  0.754465 -0.938972  1.912790  0.973818     3.658767   \n",
       "2025-05-12 -0.323966  0.523374  0.337510 -0.038787  0.298723     0.001504   \n",
       "2025-05-13  0.093659  0.766627 -0.053891 -0.456875 -0.510766     0.208734   \n",
       "2025-05-14  0.272634  1.602550 -0.185592 -1.166650 -1.352242     1.361072   \n",
       "2025-05-15 -0.213006  0.834138  0.459209  0.638330  1.097539     0.407465   \n",
       "2025-05-16 -2.747052 -0.206302 -0.526626 -0.785678 -1.312303     0.617289   \n",
       "\n",
       "               log_d    log_d2 a_even   YY-MM-DD  year  Month  Day  \n",
       "2025-05-07 -1.289262 -1.289262    yes 2025-05-07  2025      5    7  \n",
       "2025-05-08 -1.764631 -1.764631    yes 2025-05-08  2025      5    8  \n",
       "2025-05-09 -1.661835 -1.661835    yes 2025-05-09  2025      5    9  \n",
       "2025-05-10 -1.183339 -1.183339    yes 2025-05-10  2025      5   10  \n",
       "2025-05-11  0.648563  0.648563     no 2025-05-11  2025      5   11  \n",
       "2025-05-12       NaN -0.038787    yes 2025-05-12  2025      5   12  \n",
       "2025-05-13       NaN -0.456875    yes 2025-05-13  2025      5   13  \n",
       "2025-05-14       NaN -1.166650    yes 2025-05-14  2025      5   14  \n",
       "2025-05-15 -0.448900 -0.448900    yes 2025-05-15  2025      5   15  \n",
       "2025-05-16       NaN -0.785678    yes 2025-05-16  2025      5   16  "
      ]
     },
     "execution_count": 271,
     "metadata": {},
     "output_type": "execute_result"
    }
   ],
   "source": [
    "df"
   ]
  },
  {
   "cell_type": "code",
   "execution_count": 273,
   "id": "3024e442-3697-4281-92b2-1d37f7bc105c",
   "metadata": {},
   "outputs": [],
   "source": [
    "#Create a column for day of the week (like Monday, Tuesday)\n",
    "\n",
    "df['Day_of_week']=df['YY-MM-DD'].dt.day_name()"
   ]
  },
  {
   "cell_type": "code",
   "execution_count": 280,
   "id": "db28b52f-3f0f-42fc-99b1-7426f342ad9a",
   "metadata": {},
   "outputs": [
    {
     "data": {
      "text/html": [
       "<div>\n",
       "<style scoped>\n",
       "    .dataframe tbody tr th:only-of-type {\n",
       "        vertical-align: middle;\n",
       "    }\n",
       "\n",
       "    .dataframe tbody tr th {\n",
       "        vertical-align: top;\n",
       "    }\n",
       "\n",
       "    .dataframe thead th {\n",
       "        text-align: right;\n",
       "    }\n",
       "</style>\n",
       "<table border=\"1\" class=\"dataframe\">\n",
       "  <thead>\n",
       "    <tr style=\"text-align: right;\">\n",
       "      <th></th>\n",
       "      <th>a</th>\n",
       "      <th>b</th>\n",
       "      <th>c</th>\n",
       "      <th>d</th>\n",
       "      <th>new</th>\n",
       "      <th>squared_col</th>\n",
       "      <th>log_d</th>\n",
       "      <th>log_d2</th>\n",
       "      <th>a_even</th>\n",
       "      <th>YY-MM-DD</th>\n",
       "      <th>year</th>\n",
       "      <th>Month</th>\n",
       "      <th>Day</th>\n",
       "      <th>Day_of_week</th>\n",
       "    </tr>\n",
       "  </thead>\n",
       "  <tbody>\n",
       "    <tr>\n",
       "      <th>2025-05-07</th>\n",
       "      <td>0.402116</td>\n",
       "      <td>-0.384290</td>\n",
       "      <td>-0.368267</td>\n",
       "      <td>0.275474</td>\n",
       "      <td>-0.092793</td>\n",
       "      <td>0.075886</td>\n",
       "      <td>-1.289262</td>\n",
       "      <td>-1.289262</td>\n",
       "      <td>yes</td>\n",
       "      <td>2025-05-07</td>\n",
       "      <td>2025</td>\n",
       "      <td>5</td>\n",
       "      <td>7</td>\n",
       "      <td>Wednesday</td>\n",
       "    </tr>\n",
       "    <tr>\n",
       "      <th>2025-05-08</th>\n",
       "      <td>-0.854607</td>\n",
       "      <td>-0.268929</td>\n",
       "      <td>0.318291</td>\n",
       "      <td>0.171250</td>\n",
       "      <td>0.489541</td>\n",
       "      <td>0.029327</td>\n",
       "      <td>-1.764631</td>\n",
       "      <td>-1.764631</td>\n",
       "      <td>yes</td>\n",
       "      <td>2025-05-08</td>\n",
       "      <td>2025</td>\n",
       "      <td>5</td>\n",
       "      <td>8</td>\n",
       "      <td>Thursday</td>\n",
       "    </tr>\n",
       "    <tr>\n",
       "      <th>2025-05-09</th>\n",
       "      <td>0.585964</td>\n",
       "      <td>-0.245530</td>\n",
       "      <td>-0.652331</td>\n",
       "      <td>0.189790</td>\n",
       "      <td>-0.462540</td>\n",
       "      <td>0.036020</td>\n",
       "      <td>-1.661835</td>\n",
       "      <td>-1.661835</td>\n",
       "      <td>yes</td>\n",
       "      <td>2025-05-09</td>\n",
       "      <td>2025</td>\n",
       "      <td>5</td>\n",
       "      <td>9</td>\n",
       "      <td>Friday</td>\n",
       "    </tr>\n",
       "    <tr>\n",
       "      <th>2025-05-10</th>\n",
       "      <td>-0.736026</td>\n",
       "      <td>0.828320</td>\n",
       "      <td>0.024691</td>\n",
       "      <td>0.306254</td>\n",
       "      <td>0.330945</td>\n",
       "      <td>0.093792</td>\n",
       "      <td>-1.183339</td>\n",
       "      <td>-1.183339</td>\n",
       "      <td>yes</td>\n",
       "      <td>2025-05-10</td>\n",
       "      <td>2025</td>\n",
       "      <td>5</td>\n",
       "      <td>10</td>\n",
       "      <td>Saturday</td>\n",
       "    </tr>\n",
       "    <tr>\n",
       "      <th>2025-05-11</th>\n",
       "      <td>1.807951</td>\n",
       "      <td>0.754465</td>\n",
       "      <td>-0.938972</td>\n",
       "      <td>1.912790</td>\n",
       "      <td>0.973818</td>\n",
       "      <td>3.658767</td>\n",
       "      <td>0.648563</td>\n",
       "      <td>0.648563</td>\n",
       "      <td>no</td>\n",
       "      <td>2025-05-11</td>\n",
       "      <td>2025</td>\n",
       "      <td>5</td>\n",
       "      <td>11</td>\n",
       "      <td>Sunday</td>\n",
       "    </tr>\n",
       "    <tr>\n",
       "      <th>2025-05-12</th>\n",
       "      <td>-0.323966</td>\n",
       "      <td>0.523374</td>\n",
       "      <td>0.337510</td>\n",
       "      <td>-0.038787</td>\n",
       "      <td>0.298723</td>\n",
       "      <td>0.001504</td>\n",
       "      <td>NaN</td>\n",
       "      <td>-0.038787</td>\n",
       "      <td>yes</td>\n",
       "      <td>2025-05-12</td>\n",
       "      <td>2025</td>\n",
       "      <td>5</td>\n",
       "      <td>12</td>\n",
       "      <td>Monday</td>\n",
       "    </tr>\n",
       "    <tr>\n",
       "      <th>2025-05-13</th>\n",
       "      <td>0.093659</td>\n",
       "      <td>0.766627</td>\n",
       "      <td>-0.053891</td>\n",
       "      <td>-0.456875</td>\n",
       "      <td>-0.510766</td>\n",
       "      <td>0.208734</td>\n",
       "      <td>NaN</td>\n",
       "      <td>-0.456875</td>\n",
       "      <td>yes</td>\n",
       "      <td>2025-05-13</td>\n",
       "      <td>2025</td>\n",
       "      <td>5</td>\n",
       "      <td>13</td>\n",
       "      <td>Tuesday</td>\n",
       "    </tr>\n",
       "    <tr>\n",
       "      <th>2025-05-14</th>\n",
       "      <td>0.272634</td>\n",
       "      <td>1.602550</td>\n",
       "      <td>-0.185592</td>\n",
       "      <td>-1.166650</td>\n",
       "      <td>-1.352242</td>\n",
       "      <td>1.361072</td>\n",
       "      <td>NaN</td>\n",
       "      <td>-1.166650</td>\n",
       "      <td>yes</td>\n",
       "      <td>2025-05-14</td>\n",
       "      <td>2025</td>\n",
       "      <td>5</td>\n",
       "      <td>14</td>\n",
       "      <td>Wednesday</td>\n",
       "    </tr>\n",
       "    <tr>\n",
       "      <th>2025-05-15</th>\n",
       "      <td>-0.213006</td>\n",
       "      <td>0.834138</td>\n",
       "      <td>0.459209</td>\n",
       "      <td>0.638330</td>\n",
       "      <td>1.097539</td>\n",
       "      <td>0.407465</td>\n",
       "      <td>-0.448900</td>\n",
       "      <td>-0.448900</td>\n",
       "      <td>yes</td>\n",
       "      <td>2025-05-15</td>\n",
       "      <td>2025</td>\n",
       "      <td>5</td>\n",
       "      <td>15</td>\n",
       "      <td>Thursday</td>\n",
       "    </tr>\n",
       "    <tr>\n",
       "      <th>2025-05-16</th>\n",
       "      <td>-2.747052</td>\n",
       "      <td>-0.206302</td>\n",
       "      <td>-0.526626</td>\n",
       "      <td>-0.785678</td>\n",
       "      <td>-1.312303</td>\n",
       "      <td>0.617289</td>\n",
       "      <td>NaN</td>\n",
       "      <td>-0.785678</td>\n",
       "      <td>yes</td>\n",
       "      <td>2025-05-16</td>\n",
       "      <td>2025</td>\n",
       "      <td>5</td>\n",
       "      <td>16</td>\n",
       "      <td>Friday</td>\n",
       "    </tr>\n",
       "  </tbody>\n",
       "</table>\n",
       "</div>"
      ],
      "text/plain": [
       "                   a         b         c         d       new  squared_col  \\\n",
       "2025-05-07  0.402116 -0.384290 -0.368267  0.275474 -0.092793     0.075886   \n",
       "2025-05-08 -0.854607 -0.268929  0.318291  0.171250  0.489541     0.029327   \n",
       "2025-05-09  0.585964 -0.245530 -0.652331  0.189790 -0.462540     0.036020   \n",
       "2025-05-10 -0.736026  0.828320  0.024691  0.306254  0.330945     0.093792   \n",
       "2025-05-11  1.807951  0.754465 -0.938972  1.912790  0.973818     3.658767   \n",
       "2025-05-12 -0.323966  0.523374  0.337510 -0.038787  0.298723     0.001504   \n",
       "2025-05-13  0.093659  0.766627 -0.053891 -0.456875 -0.510766     0.208734   \n",
       "2025-05-14  0.272634  1.602550 -0.185592 -1.166650 -1.352242     1.361072   \n",
       "2025-05-15 -0.213006  0.834138  0.459209  0.638330  1.097539     0.407465   \n",
       "2025-05-16 -2.747052 -0.206302 -0.526626 -0.785678 -1.312303     0.617289   \n",
       "\n",
       "               log_d    log_d2 a_even   YY-MM-DD  year  Month  Day Day_of_week  \n",
       "2025-05-07 -1.289262 -1.289262    yes 2025-05-07  2025      5    7   Wednesday  \n",
       "2025-05-08 -1.764631 -1.764631    yes 2025-05-08  2025      5    8    Thursday  \n",
       "2025-05-09 -1.661835 -1.661835    yes 2025-05-09  2025      5    9      Friday  \n",
       "2025-05-10 -1.183339 -1.183339    yes 2025-05-10  2025      5   10    Saturday  \n",
       "2025-05-11  0.648563  0.648563     no 2025-05-11  2025      5   11      Sunday  \n",
       "2025-05-12       NaN -0.038787    yes 2025-05-12  2025      5   12      Monday  \n",
       "2025-05-13       NaN -0.456875    yes 2025-05-13  2025      5   13     Tuesday  \n",
       "2025-05-14       NaN -1.166650    yes 2025-05-14  2025      5   14   Wednesday  \n",
       "2025-05-15 -0.448900 -0.448900    yes 2025-05-15  2025      5   15    Thursday  \n",
       "2025-05-16       NaN -0.785678    yes 2025-05-16  2025      5   16      Friday  "
      ]
     },
     "execution_count": 280,
     "metadata": {},
     "output_type": "execute_result"
    }
   ],
   "source": [
    "df"
   ]
  },
  {
   "cell_type": "code",
   "execution_count": null,
   "id": "c67242a4-e092-4957-88d9-b101b8609c24",
   "metadata": {},
   "outputs": [],
   "source": []
  }
 ],
 "metadata": {
  "kernelspec": {
   "display_name": "Python [conda env:base] *",
   "language": "python",
   "name": "conda-base-py"
  },
  "language_info": {
   "codemirror_mode": {
    "name": "ipython",
    "version": 3
   },
   "file_extension": ".py",
   "mimetype": "text/x-python",
   "name": "python",
   "nbconvert_exporter": "python",
   "pygments_lexer": "ipython3",
   "version": "3.12.7"
  }
 },
 "nbformat": 4,
 "nbformat_minor": 5
}

{
 "cells": [
  {
   "cell_type": "code",
   "execution_count": 2,
   "id": "496f0003-f194-49f6-aa17-206cf34e1b21",
   "metadata": {},
   "outputs": [],
   "source": [
    "#list"
   ]
  },
  {
   "cell_type": "code",
   "execution_count": 4,
   "id": "bcd78c0e-29a0-44ee-a24c-235aec4c9443",
   "metadata": {},
   "outputs": [],
   "source": [
    "l=[2,3,\"hello\"]"
   ]
  },
  {
   "cell_type": "code",
   "execution_count": 6,
   "id": "3869a84d-e677-40e3-ba05-599f47cf11a5",
   "metadata": {},
   "outputs": [
    {
     "data": {
      "text/plain": [
       "list"
      ]
     },
     "execution_count": 6,
     "metadata": {},
     "output_type": "execute_result"
    }
   ],
   "source": [
    "type(l)"
   ]
  },
  {
   "cell_type": "code",
   "execution_count": 10,
   "id": "96ebca32-496f-4a05-9dd1-ef52e7d1a6fc",
   "metadata": {},
   "outputs": [],
   "source": [
    "l[0]=5"
   ]
  },
  {
   "cell_type": "code",
   "execution_count": 16,
   "id": "5aae2983-297e-46d1-b0b3-5138673a0682",
   "metadata": {},
   "outputs": [
    {
     "data": {
      "text/plain": [
       "5"
      ]
     },
     "execution_count": 16,
     "metadata": {},
     "output_type": "execute_result"
    }
   ],
   "source": [
    "l[0]"
   ]
  },
  {
   "cell_type": "code",
   "execution_count": 18,
   "id": "797f8d9b-853f-4310-a661-681810209717",
   "metadata": {},
   "outputs": [],
   "source": [
    "l.append(2)"
   ]
  },
  {
   "cell_type": "code",
   "execution_count": 24,
   "id": "7938ef1f-ef3e-4de6-9c3e-9299e85a981b",
   "metadata": {},
   "outputs": [
    {
     "data": {
      "text/plain": [
       "[5, 3, 'hello', 2, 2]"
      ]
     },
     "execution_count": 24,
     "metadata": {},
     "output_type": "execute_result"
    }
   ],
   "source": [
    "l"
   ]
  },
  {
   "cell_type": "code",
   "execution_count": 20,
   "id": "0177b52b-3609-4b26-80c6-68097b672b21",
   "metadata": {},
   "outputs": [
    {
     "data": {
      "text/plain": [
       "5"
      ]
     },
     "execution_count": 20,
     "metadata": {},
     "output_type": "execute_result"
    }
   ],
   "source": [
    "len(l)"
   ]
  },
  {
   "cell_type": "code",
   "execution_count": 22,
   "id": "45dd0961-6781-4734-8d78-ea489bc3c1d9",
   "metadata": {},
   "outputs": [
    {
     "data": {
      "text/plain": [
       "[2, 2, 'hello', 3]"
      ]
     },
     "execution_count": 22,
     "metadata": {},
     "output_type": "execute_result"
    }
   ],
   "source": [
    "l[4:0:-1]"
   ]
  },
  {
   "cell_type": "code",
   "execution_count": 28,
   "id": "653b9451-c39c-4aec-8ffb-971aa2b9d73e",
   "metadata": {},
   "outputs": [
    {
     "data": {
      "text/plain": [
       "[5, 3, 'hello', 2, 2, 123]"
      ]
     },
     "execution_count": 28,
     "metadata": {},
     "output_type": "execute_result"
    }
   ],
   "source": [
    "l+[123]"
   ]
  },
  {
   "cell_type": "code",
   "execution_count": 30,
   "id": "29966a85-4867-4392-b826-9f800ecd5a0f",
   "metadata": {},
   "outputs": [
    {
     "data": {
      "text/plain": [
       "True"
      ]
     },
     "execution_count": 30,
     "metadata": {},
     "output_type": "execute_result"
    }
   ],
   "source": [
    "2 in l"
   ]
  },
  {
   "cell_type": "code",
   "execution_count": 32,
   "id": "e0e20587-0adb-4e46-9d86-08ab0a7b49a8",
   "metadata": {},
   "outputs": [],
   "source": [
    "b=[2,3,4,5,6,7]"
   ]
  },
  {
   "cell_type": "code",
   "execution_count": 34,
   "id": "e0d0fdd7-298b-4872-86f1-5b26ae65f0c1",
   "metadata": {},
   "outputs": [
    {
     "data": {
      "text/plain": [
       "7"
      ]
     },
     "execution_count": 34,
     "metadata": {},
     "output_type": "execute_result"
    }
   ],
   "source": [
    "max(b)"
   ]
  },
  {
   "cell_type": "code",
   "execution_count": 76,
   "id": "2cf92f77-d5fd-4487-af7d-96e609515054",
   "metadata": {},
   "outputs": [],
   "source": [
    "b2=[\"Hello\",\"how\",\"are\",\"you\"]"
   ]
  },
  {
   "cell_type": "code",
   "execution_count": 78,
   "id": "51cf506a-ffca-4e14-82e3-203a1e27aaff",
   "metadata": {},
   "outputs": [],
   "source": [
    "b2.append(\"?\")"
   ]
  },
  {
   "cell_type": "code",
   "execution_count": 80,
   "id": "28a1d936-5f98-4dc7-a2ba-9c27353682fc",
   "metadata": {},
   "outputs": [
    {
     "data": {
      "text/plain": [
       "['Hello', 'how', 'are', 'you', '?']"
      ]
     },
     "execution_count": 80,
     "metadata": {},
     "output_type": "execute_result"
    }
   ],
   "source": [
    "b2"
   ]
  },
  {
   "cell_type": "code",
   "execution_count": 82,
   "id": "b0749bb9-5854-432d-afc4-b7089ae0ecb7",
   "metadata": {},
   "outputs": [],
   "source": [
    "b2.append([5,6,7,8])"
   ]
  },
  {
   "cell_type": "code",
   "execution_count": 84,
   "id": "753b7e92-fbc8-4246-8d30-43958ab2fe00",
   "metadata": {},
   "outputs": [
    {
     "data": {
      "text/plain": [
       "['Hello', 'how', 'are', 'you', '?', [5, 6, 7, 8]]"
      ]
     },
     "execution_count": 84,
     "metadata": {},
     "output_type": "execute_result"
    }
   ],
   "source": [
    "b2"
   ]
  },
  {
   "cell_type": "code",
   "execution_count": 86,
   "id": "db3d98b9-7675-4c75-9abf-9323d86e3093",
   "metadata": {},
   "outputs": [
    {
     "data": {
      "text/plain": [
       "[5, 6, 7, 8]"
      ]
     },
     "execution_count": 86,
     "metadata": {},
     "output_type": "execute_result"
    }
   ],
   "source": [
    "b2.pop()  #it poped out the last index element"
   ]
  },
  {
   "cell_type": "code",
   "execution_count": 88,
   "id": "a1d95b2b-f28a-43c6-b4a2-678c2bb34798",
   "metadata": {},
   "outputs": [
    {
     "data": {
      "text/plain": [
       "['Hello', 'how', 'are', 'you', '?']"
      ]
     },
     "execution_count": 88,
     "metadata": {},
     "output_type": "execute_result"
    }
   ],
   "source": [
    "b2"
   ]
  },
  {
   "cell_type": "code",
   "execution_count": 90,
   "id": "8f4bd467-be97-46c7-959e-20846a36aedf",
   "metadata": {},
   "outputs": [
    {
     "data": {
      "text/plain": [
       "'Hello'"
      ]
     },
     "execution_count": 90,
     "metadata": {},
     "output_type": "execute_result"
    }
   ],
   "source": [
    "b2.pop(0) #remove the element at perticular index"
   ]
  },
  {
   "cell_type": "code",
   "execution_count": 92,
   "id": "229d7118-28d9-438b-a631-e2f9e70cec68",
   "metadata": {},
   "outputs": [
    {
     "data": {
      "text/plain": [
       "['how', 'are', 'you', '?']"
      ]
     },
     "execution_count": 92,
     "metadata": {},
     "output_type": "execute_result"
    }
   ],
   "source": [
    "b2"
   ]
  },
  {
   "cell_type": "code",
   "execution_count": 94,
   "id": "4c367b56-a93d-479c-b197-043bed3dcc48",
   "metadata": {},
   "outputs": [],
   "source": [
    "b2.reverse()"
   ]
  },
  {
   "cell_type": "code",
   "execution_count": 96,
   "id": "58e893cc-fb08-4f27-a183-5aea20d30317",
   "metadata": {},
   "outputs": [
    {
     "data": {
      "text/plain": [
       "['?', 'you', 'are', 'how']"
      ]
     },
     "execution_count": 96,
     "metadata": {},
     "output_type": "execute_result"
    }
   ],
   "source": [
    "b2"
   ]
  },
  {
   "cell_type": "code",
   "execution_count": 102,
   "id": "379e7fff-b60f-4461-8c0e-11480b0371d8",
   "metadata": {},
   "outputs": [],
   "source": [
    "#sorting\n",
    "l2=[4,67,5,45,24,6,23,90]\n",
    "l2.sort(reverse = True)"
   ]
  },
  {
   "cell_type": "code",
   "execution_count": 104,
   "id": "1db19608-fe1d-4b21-9001-ecfbaac916a2",
   "metadata": {},
   "outputs": [
    {
     "data": {
      "text/plain": [
       "[90, 67, 45, 24, 23, 6, 5, 4]"
      ]
     },
     "execution_count": 104,
     "metadata": {},
     "output_type": "execute_result"
    }
   ],
   "source": [
    "l2"
   ]
  },
  {
   "cell_type": "code",
   "execution_count": null,
   "id": "b2e49695-ea82-4604-aa9b-01926cf510a1",
   "metadata": {},
   "outputs": [],
   "source": []
  },
  {
   "cell_type": "code",
   "execution_count": 107,
   "id": "93719e95-9e40-4acb-bda2-b0e688b1bd44",
   "metadata": {},
   "outputs": [],
   "source": [
    "#Tuple"
   ]
  },
  {
   "cell_type": "code",
   "execution_count": 113,
   "id": "3e6f147d-273d-4043-8e59-b9f6bd51381d",
   "metadata": {},
   "outputs": [],
   "source": [
    "t=() #empty tuple"
   ]
  },
  {
   "cell_type": "code",
   "execution_count": 115,
   "id": "2aa4604e-b51b-449e-b2a8-241d5d568fa2",
   "metadata": {},
   "outputs": [
    {
     "data": {
      "text/plain": [
       "tuple"
      ]
     },
     "execution_count": 115,
     "metadata": {},
     "output_type": "execute_result"
    }
   ],
   "source": [
    "type(t)"
   ]
  },
  {
   "cell_type": "code",
   "execution_count": 117,
   "id": "5f719339-2cec-46a0-b2c5-266d798e7454",
   "metadata": {},
   "outputs": [],
   "source": [
    "t=(4,55,6,8,4,\"Hello\",80.8,True)"
   ]
  },
  {
   "cell_type": "code",
   "execution_count": 119,
   "id": "f03c97c0-b58a-49a3-915b-156f854dea30",
   "metadata": {},
   "outputs": [
    {
     "data": {
      "text/plain": [
       "(4, 55, 6, 8, 4, 'Hello', 80.8, True)"
      ]
     },
     "execution_count": 119,
     "metadata": {},
     "output_type": "execute_result"
    }
   ],
   "source": [
    "t"
   ]
  },
  {
   "cell_type": "code",
   "execution_count": 121,
   "id": "3560f8f1-1709-4048-a0b8-fe925e6dca61",
   "metadata": {},
   "outputs": [
    {
     "data": {
      "text/plain": [
       "4"
      ]
     },
     "execution_count": 121,
     "metadata": {},
     "output_type": "execute_result"
    }
   ],
   "source": [
    "t[0]"
   ]
  },
  {
   "cell_type": "code",
   "execution_count": 123,
   "id": "186a51e9-df22-47c0-b612-b366372f450b",
   "metadata": {},
   "outputs": [
    {
     "data": {
      "text/plain": [
       "2"
      ]
     },
     "execution_count": 123,
     "metadata": {},
     "output_type": "execute_result"
    }
   ],
   "source": [
    "t.count(4)"
   ]
  },
  {
   "cell_type": "code",
   "execution_count": 127,
   "id": "59db04fd-4969-4ab5-a267-5b72c7935456",
   "metadata": {},
   "outputs": [
    {
     "data": {
      "text/plain": [
       "0"
      ]
     },
     "execution_count": 127,
     "metadata": {},
     "output_type": "execute_result"
    }
   ],
   "source": [
    "t.index(4)"
   ]
  },
  {
   "cell_type": "code",
   "execution_count": 131,
   "id": "8f630473-b6d6-499e-ab37-a2970157bb88",
   "metadata": {},
   "outputs": [],
   "source": [
    "#Dictionary"
   ]
  },
  {
   "cell_type": "code",
   "execution_count": 133,
   "id": "0284af1a-d784-467f-9dc8-2ec715edf045",
   "metadata": {},
   "outputs": [],
   "source": [
    "d={}"
   ]
  },
  {
   "cell_type": "code",
   "execution_count": 135,
   "id": "3fa49e28-46f3-4679-9e7f-c42d2d4c5aef",
   "metadata": {},
   "outputs": [
    {
     "data": {
      "text/plain": [
       "dict"
      ]
     },
     "execution_count": 135,
     "metadata": {},
     "output_type": "execute_result"
    }
   ],
   "source": [
    "type(d)"
   ]
  },
  {
   "cell_type": "code",
   "execution_count": 137,
   "id": "0d512158-ff26-4478-9146-fb6569601596",
   "metadata": {},
   "outputs": [],
   "source": [
    "d={\"Key\":\"Value\",123:\"abcd\",\"name\":\"Chatrapati\"}"
   ]
  },
  {
   "cell_type": "code",
   "execution_count": 139,
   "id": "d4e58aaf-ee88-49c4-9e5f-50734aff0b2e",
   "metadata": {},
   "outputs": [
    {
     "data": {
      "text/plain": [
       "{'Key': 'Value', 123: 'abcd', 'name': 'Chatrapati'}"
      ]
     },
     "execution_count": 139,
     "metadata": {},
     "output_type": "execute_result"
    }
   ],
   "source": [
    "d"
   ]
  },
  {
   "cell_type": "code",
   "execution_count": 141,
   "id": "8796f930-e51c-414a-b4e0-79baff3c2ba3",
   "metadata": {},
   "outputs": [
    {
     "data": {
      "text/plain": [
       "'abcd'"
      ]
     },
     "execution_count": 141,
     "metadata": {},
     "output_type": "execute_result"
    }
   ],
   "source": [
    "d[123]"
   ]
  },
  {
   "cell_type": "code",
   "execution_count": 143,
   "id": "eb78e4a5-f2f1-4052-9d22-80476cf32f9f",
   "metadata": {},
   "outputs": [],
   "source": [
    "d2={'k1':'v1',\"gprec\":[\"CSD\",\"CSM\",\"CSE\"]}"
   ]
  },
  {
   "cell_type": "code",
   "execution_count": 145,
   "id": "2883bc4f-233e-44bd-ae5e-df0d88616cb8",
   "metadata": {},
   "outputs": [
    {
     "data": {
      "text/plain": [
       "{'k1': 'v1', 'gprec': ['CSD', 'CSM', 'CSE']}"
      ]
     },
     "execution_count": 145,
     "metadata": {},
     "output_type": "execute_result"
    }
   ],
   "source": [
    "d2"
   ]
  },
  {
   "cell_type": "code",
   "execution_count": 147,
   "id": "81edcfb9-ce41-4b99-ba77-4fd4c925bc28",
   "metadata": {},
   "outputs": [
    {
     "data": {
      "text/plain": [
       "['CSD', 'CSM', 'CSE']"
      ]
     },
     "execution_count": 147,
     "metadata": {},
     "output_type": "execute_result"
    }
   ],
   "source": [
    "d2[\"gprec\"]"
   ]
  },
  {
   "cell_type": "code",
   "execution_count": 149,
   "id": "ff08efac-d3dc-4d8c-b43d-1bf437a9d79f",
   "metadata": {},
   "outputs": [],
   "source": [
    "d2[\"animal\"]=\"dog\""
   ]
  },
  {
   "cell_type": "code",
   "execution_count": 151,
   "id": "ba461ee3-a292-4c02-99f6-6e7cfa71dcd5",
   "metadata": {},
   "outputs": [
    {
     "data": {
      "text/plain": [
       "{'k1': 'v1', 'gprec': ['CSD', 'CSM', 'CSE'], 'animal': 'dog'}"
      ]
     },
     "execution_count": 151,
     "metadata": {},
     "output_type": "execute_result"
    }
   ],
   "source": [
    "d2"
   ]
  },
  {
   "cell_type": "code",
   "execution_count": 153,
   "id": "7463c475-d1c3-49f2-92cb-a56729a7158c",
   "metadata": {},
   "outputs": [
    {
     "data": {
      "text/plain": [
       "dict_keys(['k1', 'gprec', 'animal'])"
      ]
     },
     "execution_count": 153,
     "metadata": {},
     "output_type": "execute_result"
    }
   ],
   "source": [
    "d2.keys()"
   ]
  },
  {
   "cell_type": "code",
   "execution_count": 155,
   "id": "323ad829-225e-4957-8738-8010b7008ce7",
   "metadata": {},
   "outputs": [
    {
     "data": {
      "text/plain": [
       "dict_values(['v1', ['CSD', 'CSM', 'CSE'], 'dog'])"
      ]
     },
     "execution_count": 155,
     "metadata": {},
     "output_type": "execute_result"
    }
   ],
   "source": [
    "d2.values()"
   ]
  },
  {
   "cell_type": "code",
   "execution_count": 157,
   "id": "be1967cd-b90b-4f94-b673-24dbd57258f6",
   "metadata": {},
   "outputs": [
    {
     "data": {
      "text/plain": [
       "dict_items([('k1', 'v1'), ('gprec', ['CSD', 'CSM', 'CSE']), ('animal', 'dog')])"
      ]
     },
     "execution_count": 157,
     "metadata": {},
     "output_type": "execute_result"
    }
   ],
   "source": [
    "d2.items()"
   ]
  },
  {
   "cell_type": "code",
   "execution_count": null,
   "id": "14d1f8ea-a63f-4b87-9b54-5108027cb219",
   "metadata": {},
   "outputs": [],
   "source": []
  },
  {
   "cell_type": "code",
   "execution_count": 160,
   "id": "0f279d8d-ca7d-4508-a1eb-eedc0c75c010",
   "metadata": {},
   "outputs": [],
   "source": [
    "#sets"
   ]
  },
  {
   "cell_type": "code",
   "execution_count": 162,
   "id": "40081490-d399-49f2-b473-342f4e431d9e",
   "metadata": {},
   "outputs": [],
   "source": [
    "s=set()"
   ]
  },
  {
   "cell_type": "code",
   "execution_count": 164,
   "id": "d3dce82d-b28b-43c9-b442-6df03dbcff86",
   "metadata": {},
   "outputs": [
    {
     "data": {
      "text/plain": [
       "set"
      ]
     },
     "execution_count": 164,
     "metadata": {},
     "output_type": "execute_result"
    }
   ],
   "source": [
    "type(s)"
   ]
  },
  {
   "cell_type": "code",
   "execution_count": 170,
   "id": "d1111b77-1e3b-454c-9919-fb4d59b9ff18",
   "metadata": {},
   "outputs": [],
   "source": [
    "s={1,2,3,3,3,4,4,4,5,5,5,6,6,6,7,7}"
   ]
  },
  {
   "cell_type": "code",
   "execution_count": 172,
   "id": "2eb1d9b1-75e1-4828-ab3c-6c9cffc82099",
   "metadata": {},
   "outputs": [
    {
     "data": {
      "text/plain": [
       "{1, 2, 3, 4, 5, 6, 7}"
      ]
     },
     "execution_count": 172,
     "metadata": {},
     "output_type": "execute_result"
    }
   ],
   "source": [
    "s"
   ]
  }
 ],
 "metadata": {
  "kernelspec": {
   "display_name": "Python [conda env:base] *",
   "language": "python",
   "name": "conda-base-py"
  },
  "language_info": {
   "codemirror_mode": {
    "name": "ipython",
    "version": 3
   },
   "file_extension": ".py",
   "mimetype": "text/x-python",
   "name": "python",
   "nbconvert_exporter": "python",
   "pygments_lexer": "ipython3",
   "version": "3.12.7"
  }
 },
 "nbformat": 4,
 "nbformat_minor": 5
}

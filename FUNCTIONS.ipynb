{
 "cells": [
  {
   "cell_type": "markdown",
   "id": "9a5f45f4-df52-4c5c-8fd9-d45098cea484",
   "metadata": {},
   "source": [
    "**FUNCTIONS**"
   ]
  },
  {
   "cell_type": "markdown",
   "id": "5d377bc1-e674-425f-b087-47765f5a6bdb",
   "metadata": {},
   "source": [
    "Creating the function\n",
    "\n",
    "def func/-name():\n",
    "\n",
    "    body code"
   ]
  },
  {
   "cell_type": "code",
   "execution_count": 20,
   "id": "ad259945-b5b4-4245-8318-7e78f8ed2c45",
   "metadata": {},
   "outputs": [
    {
     "name": "stdout",
     "output_type": "stream",
     "text": [
      "This is my first function.\n"
     ]
    }
   ],
   "source": [
    "def test():\n",
    "    print(\"This is my first function.\")  #simple structure of the function\n",
    "test()  #calling the function"
   ]
  },
  {
   "cell_type": "code",
   "execution_count": 22,
   "id": "7341dd6e-da4a-4544-ba07-877dc3f7e99a",
   "metadata": {},
   "outputs": [
    {
     "data": {
      "text/plain": [
       "'This is my first function.'"
      ]
     },
     "execution_count": 22,
     "metadata": {},
     "output_type": "execute_result"
    }
   ],
   "source": [
    "#now we add the return for function\n",
    "def test1():\n",
    "    return \"This is my first function.\" #adding the return statement\n",
    "test1()"
   ]
  },
  {
   "cell_type": "code",
   "execution_count": 24,
   "id": "c8137765-1df7-48e0-bd92-9a755dbba663",
   "metadata": {},
   "outputs": [
    {
     "name": "stdout",
     "output_type": "stream",
     "text": [
      "This is my first function.\n"
     ]
    },
    {
     "data": {
      "text/plain": [
       "NoneType"
      ]
     },
     "execution_count": 24,
     "metadata": {},
     "output_type": "execute_result"
    }
   ],
   "source": [
    "type(test())"
   ]
  },
  {
   "cell_type": "code",
   "execution_count": 28,
   "id": "63a71df5-8771-4bbb-9f8c-51edd068793b",
   "metadata": {},
   "outputs": [
    {
     "data": {
      "text/plain": [
       "str"
      ]
     },
     "execution_count": 28,
     "metadata": {},
     "output_type": "execute_result"
    }
   ],
   "source": [
    "type(test1())"
   ]
  },
  {
   "cell_type": "code",
   "execution_count": 32,
   "id": "71f1d082-4b94-49b0-88cf-3657c5d73de6",
   "metadata": {},
   "outputs": [
    {
     "data": {
      "text/plain": [
       "'This is my first function.gprec is good college'"
      ]
     },
     "execution_count": 32,
     "metadata": {},
     "output_type": "execute_result"
    }
   ],
   "source": [
    "test1()+\"gprec is good college\"  #concatenating thee string"
   ]
  },
  {
   "cell_type": "code",
   "execution_count": 38,
   "id": "519c6abb-91af-4879-a150-32ce2d286083",
   "metadata": {},
   "outputs": [
    {
     "name": "stdout",
     "output_type": "stream",
     "text": [
      "(1, 23, 45, [2, 3, 4, 5, 'gprec'])\n"
     ]
    },
    {
     "data": {
      "text/plain": [
       "tuple"
      ]
     },
     "execution_count": 38,
     "metadata": {},
     "output_type": "execute_result"
    }
   ],
   "source": [
    "def test3():\n",
    "    return 1,23,45,[2,3,4,5,\"gprec\"]   #we are return different types of data and multiple data at a same time\n",
    "print(test3()) #the output is in tuple\n",
    "type(test3())"
   ]
  },
  {
   "cell_type": "code",
   "execution_count": 42,
   "id": "fcba40b4-d279-4cb6-9929-87ffdb0bc6c1",
   "metadata": {},
   "outputs": [
    {
     "name": "stdout",
     "output_type": "stream",
     "text": [
      "1 ------> <class 'int'>\n",
      "23 ------> <class 'int'>\n",
      "45 ------> <class 'int'>\n",
      "[2, 3, 4, 5, 'gprec'] ------> <class 'list'>\n"
     ]
    }
   ],
   "source": [
    "a,b,c,d=test3()  #we are returning from the function with seperately\n",
    "print(a,\"------>\",type(a))\n",
    "print(b,\"------>\",type(b))\n",
    "print(c,\"------>\",type(c))\n",
    "print(d,\"------>\",type(d))"
   ]
  },
  {
   "cell_type": "code",
   "execution_count": 44,
   "id": "92e2fa6f-68fc-433d-884b-d5720e210ed8",
   "metadata": {},
   "outputs": [
    {
     "data": {
      "text/plain": [
       "(20, 10)"
      ]
     },
     "execution_count": 44,
     "metadata": {},
     "output_type": "execute_result"
    }
   ],
   "source": [
    "def test4():\n",
    "    a=4*5\n",
    "    b=6+4\n",
    "    return a,b\n",
    "test4()"
   ]
  },
  {
   "cell_type": "code",
   "execution_count": 48,
   "id": "fe50a71d-e7ea-4ad1-8476-f46454ece648",
   "metadata": {},
   "outputs": [
    {
     "data": {
      "text/plain": [
       "(20, 10)"
      ]
     },
     "execution_count": 48,
     "metadata": {},
     "output_type": "execute_result"
    }
   ],
   "source": [
    "g=test4()  #giving only one variable\n",
    "g"
   ]
  },
  {
   "cell_type": "code",
   "execution_count": 50,
   "id": "97fd7f81-349a-460f-86be-3d40b67a9daa",
   "metadata": {},
   "outputs": [
    {
     "name": "stdout",
     "output_type": "stream",
     "text": [
      "20 ------> <class 'int'>\n",
      "10 ------> <class 'int'>\n"
     ]
    }
   ],
   "source": [
    "h,i=test4()  #assigning two variables\n",
    "print(h,\"------>\",type(h))\n",
    "print(i,\"------>\",type(i))"
   ]
  },
  {
   "cell_type": "code",
   "execution_count": 56,
   "id": "05fc70bb-6ffd-4b2d-89b2-d6e88afebb32",
   "metadata": {},
   "outputs": [],
   "source": [
    "a=test3()"
   ]
  },
  {
   "cell_type": "code",
   "execution_count": 58,
   "id": "dfddde29-3fc5-4b3b-b67a-d30a9610f4a3",
   "metadata": {},
   "outputs": [
    {
     "data": {
      "text/plain": [
       "(1, 23, 45, [2, 3, 4, 5, 'gprec'])"
      ]
     },
     "execution_count": 58,
     "metadata": {},
     "output_type": "execute_result"
    }
   ],
   "source": [
    "a"
   ]
  },
  {
   "cell_type": "code",
   "execution_count": 62,
   "id": "3fcd4d24-ed7c-419a-8016-c2326a88a61c",
   "metadata": {},
   "outputs": [
    {
     "name": "stdout",
     "output_type": "stream",
     "text": [
      "2--->3--->4--->5--->gprec--->\n"
     ]
    }
   ],
   "source": [
    "#extracting the list in the tuple a\n",
    "for i in a:\n",
    "    if type(i)==list:\n",
    "        for j in i:\n",
    "            print(j,end=\"--->\")\n",
    "        print()"
   ]
  },
  {
   "cell_type": "code",
   "execution_count": 64,
   "id": "7b87f830-5305-45e8-b226-531e0ae32d32",
   "metadata": {},
   "outputs": [],
   "source": [
    "def test5(a,b):\n",
    "    while(a<b):\n",
    "        print(a)\n",
    "        a+=2\n",
    "    else:\n",
    "        print(\"The else block\")"
   ]
  },
  {
   "cell_type": "code",
   "execution_count": 66,
   "id": "1eaef8f0-f740-487d-a949-f06d3841471a",
   "metadata": {},
   "outputs": [
    {
     "name": "stdout",
     "output_type": "stream",
     "text": [
      "2\n",
      "4\n",
      "6\n",
      "8\n",
      "The else block\n"
     ]
    }
   ],
   "source": [
    "test5(2,10)"
   ]
  },
  {
   "cell_type": "code",
   "execution_count": 70,
   "id": "a919e632-5494-4b6a-91eb-d761d1734d34",
   "metadata": {},
   "outputs": [
    {
     "name": "stdout",
     "output_type": "stream",
     "text": [
      "The else block\n"
     ]
    }
   ],
   "source": [
    "test5(20,2)"
   ]
  },
  {
   "cell_type": "code",
   "execution_count": 72,
   "id": "4df7a658-13c9-4f20-847d-e0ad69cb934a",
   "metadata": {},
   "outputs": [],
   "source": [
    "def test6(a,b):\n",
    "    while(a<=b):\n",
    "        return a\n",
    "        a=a+2\n",
    "    else: print(\"print the else block\")"
   ]
  },
  {
   "cell_type": "code",
   "execution_count": 74,
   "id": "d4c778c7-08fc-453d-9ce2-2301b2e944a1",
   "metadata": {},
   "outputs": [
    {
     "data": {
      "text/plain": [
       "2"
      ]
     },
     "execution_count": 74,
     "metadata": {},
     "output_type": "execute_result"
    }
   ],
   "source": [
    "test6(2,10)"
   ]
  },
  {
   "cell_type": "code",
   "execution_count": 76,
   "id": "49b7d3d3-e0b5-4be9-b543-f595c89ffa78",
   "metadata": {},
   "outputs": [
    {
     "name": "stdout",
     "output_type": "stream",
     "text": [
      "print the else block\n"
     ]
    }
   ],
   "source": [
    "test6(10,3)"
   ]
  },
  {
   "cell_type": "code",
   "execution_count": 92,
   "id": "6ef3cb49-ea9a-406e-8e2e-d955b6a842a0",
   "metadata": {},
   "outputs": [],
   "source": [
    "def test7(a):\n",
    "    if a==0:\n",
    "        return 0\n",
    "    if a==1:\n",
    "        return 1\n",
    "    else: return test7(a-1)+test7(a-2)"
   ]
  },
  {
   "cell_type": "code",
   "execution_count": 94,
   "id": "f93a53aa-7097-48d2-b01f-a3761f3ed2b1",
   "metadata": {},
   "outputs": [
    {
     "data": {
      "text/plain": [
       "2"
      ]
     },
     "execution_count": 94,
     "metadata": {},
     "output_type": "execute_result"
    }
   ],
   "source": [
    "test7(3)  "
   ]
  },
  {
   "cell_type": "code",
   "execution_count": 96,
   "id": "9ca01685-e029-4310-8d6d-5a4a7d0a1b52",
   "metadata": {},
   "outputs": [
    {
     "data": {
      "text/plain": [
       "5"
      ]
     },
     "execution_count": 96,
     "metadata": {},
     "output_type": "execute_result"
    }
   ],
   "source": [
    "test7(5)"
   ]
  },
  {
   "cell_type": "code",
   "execution_count": null,
   "id": "2883945b-451c-46ab-bada-f051de1a7bf3",
   "metadata": {},
   "outputs": [],
   "source": []
  }
 ],
 "metadata": {
  "kernelspec": {
   "display_name": "Python [conda env:base] *",
   "language": "python",
   "name": "conda-base-py"
  },
  "language_info": {
   "codemirror_mode": {
    "name": "ipython",
    "version": 3
   },
   "file_extension": ".py",
   "mimetype": "text/x-python",
   "name": "python",
   "nbconvert_exporter": "python",
   "pygments_lexer": "ipython3",
   "version": "3.12.7"
  }
 },
 "nbformat": 4,
 "nbformat_minor": 5
}

{
 "cells": [
  {
   "cell_type": "code",
   "execution_count": 4,
   "id": "62710230-c70b-4f07-83d0-d9e16f8d43ae",
   "metadata": {},
   "outputs": [],
   "source": [
    "#LOOPS\n",
    "#for\n",
    "#while"
   ]
  },
  {
   "cell_type": "code",
   "execution_count": 10,
   "id": "9b3a1ec9-5d5a-420d-9eaf-c58a888fa517",
   "metadata": {},
   "outputs": [
    {
     "ename": "TypeError",
     "evalue": "'int' object is not iterable",
     "output_type": "error",
     "traceback": [
      "\u001b[1;31m---------------------------------------------------------------------------\u001b[0m",
      "\u001b[1;31mTypeError\u001b[0m                                 Traceback (most recent call last)",
      "Cell \u001b[1;32mIn[10], line 1\u001b[0m\n\u001b[1;32m----> 1\u001b[0m \u001b[38;5;28;01mfor\u001b[39;00m i \u001b[38;5;129;01min\u001b[39;00m \u001b[38;5;241m4098\u001b[39m:\n\u001b[0;32m      2\u001b[0m     \u001b[38;5;28mprint\u001b[39m(i)\n",
      "\u001b[1;31mTypeError\u001b[0m: 'int' object is not iterable"
     ]
    }
   ],
   "source": [
    "for i in 4098:\n",
    "    print(i)"
   ]
  },
  {
   "cell_type": "code",
   "execution_count": 8,
   "id": "801c3623-be90-4238-8cc5-a5ae1d00b4bd",
   "metadata": {},
   "outputs": [
    {
     "name": "stdout",
     "output_type": "stream",
     "text": [
      "4\n",
      "0\n",
      "9\n",
      "8\n"
     ]
    }
   ],
   "source": [
    "for i in \"4098\":\n",
    "    print(i)"
   ]
  },
  {
   "cell_type": "code",
   "execution_count": 12,
   "id": "6f4632c7-7dec-43eb-a789-539b0eca6e69",
   "metadata": {},
   "outputs": [
    {
     "name": "stdout",
     "output_type": "stream",
     "text": [
      "4\n",
      "0\n",
      "9\n"
     ]
    }
   ],
   "source": [
    "for i in \"4098\":\n",
    "    print(i)\n",
    "    if(i=='9'):\n",
    "        break"
   ]
  },
  {
   "cell_type": "code",
   "execution_count": 18,
   "id": "b2c74229-4db7-47d0-acb1-f2adebf08da0",
   "metadata": {},
   "outputs": [
    {
     "name": "stdout",
     "output_type": "stream",
     "text": [
      "34 56.45 gprec True 435 cbjhb "
     ]
    }
   ],
   "source": [
    "#list\n",
    "l=[34,56.45,\"gprec\",True,435,\"cbjhb\"]\n",
    "for i in l:\n",
    "    print(i,end=\" \")"
   ]
  },
  {
   "cell_type": "code",
   "execution_count": 26,
   "id": "9a868596-90d3-4ddf-ba48-31fd6f263f8a",
   "metadata": {},
   "outputs": [
    {
     "name": "stdout",
     "output_type": "stream",
     "text": [
      "34 gprec\n",
      "435 cbjhb\n"
     ]
    }
   ],
   "source": [
    "#list\n",
    "l=[34,56.45,\"gprec\",True,435,\"cbjhb\"]\n",
    "for i in l:\n",
    "    if(type(i)==int):\n",
    "        print(i,end=\" \")\n",
    "    elif(type(i)==str):\n",
    "        print(i)"
   ]
  },
  {
   "cell_type": "code",
   "execution_count": 30,
   "id": "2be97fc7-a2e9-416a-9aea-60ac9b98b07c",
   "metadata": {},
   "outputs": [
    {
     "ename": "SyntaxError",
     "evalue": "incomplete input (1604582703.py, line 3)",
     "output_type": "error",
     "traceback": [
      "\u001b[1;36m  Cell \u001b[1;32mIn[30], line 3\u001b[1;36m\u001b[0m\n\u001b[1;33m    for i in l:   #It get some error because in for loop there is no any statements\u001b[0m\n\u001b[1;37m                                                                                   ^\u001b[0m\n\u001b[1;31mSyntaxError\u001b[0m\u001b[1;31m:\u001b[0m incomplete input\n"
     ]
    }
   ],
   "source": [
    "#list\n",
    "l=[34,56.45,\"gprec\",True,435,\"cbjhb\"]\n",
    "for i in l:   #It get some error because in for loop there is no any statements"
   ]
  },
  {
   "cell_type": "code",
   "execution_count": 34,
   "id": "15378e3a-d766-4c33-aa3f-bb8e6557203d",
   "metadata": {},
   "outputs": [],
   "source": [
    "#list\n",
    "l=[34,56.45,\"gprec\",True,435,\"cbjhb\"]\n",
    "for i in l:\n",
    "    pass"
   ]
  },
  {
   "cell_type": "code",
   "execution_count": 42,
   "id": "3b7b9f93-79e1-4bb2-8341-9a216ea14a35",
   "metadata": {},
   "outputs": [
    {
     "name": "stdout",
     "output_type": "stream",
     "text": [
      "1-->4-->5-->3-->6-->7-->8-->"
     ]
    }
   ],
   "source": [
    "l1=[1,4,5,3,6,7,8,20,45,57]\n",
    "for i in l1:\n",
    "    if i==20:\n",
    "        break\n",
    "    print(i,end=\"-->\")"
   ]
  },
  {
   "cell_type": "code",
   "execution_count": 46,
   "id": "c427a9e2-d347-40bf-adba-fe5d4b3a6680",
   "metadata": {},
   "outputs": [
    {
     "name": "stdout",
     "output_type": "stream",
     "text": [
      "String is Not found\n"
     ]
    }
   ],
   "source": [
    "l2 = [3, 4, 5, 6]  # List of integers\n",
    "\n",
    "for i in l2:  # Loop through each element in the list\n",
    "    if type(i) == str:  # Check if the element is a string\n",
    "        print(i)  # This won't run because no element is a string\n",
    "else:\n",
    "    # This 'else' runs after the loop completes normally (no break)\n",
    "    print(\"String is Not found\")\n"
   ]
  },
  {
   "cell_type": "code",
   "execution_count": 72,
   "id": "74960b37-74e0-4d9d-a8b0-f14189c60a70",
   "metadata": {},
   "outputs": [],
   "source": [
    "d={\"k1\":\"Hello!\",\"k2\":\"how\",\"k3\":\"Are\",\"k4\":\"you\"}  #creating the dictioonary d"
   ]
  },
  {
   "cell_type": "code",
   "execution_count": 74,
   "id": "05c78098-2526-4027-aea0-6ed3f1141b13",
   "metadata": {},
   "outputs": [
    {
     "name": "stdout",
     "output_type": "stream",
     "text": [
      "k1\n",
      "k2\n",
      "k3\n",
      "k4\n"
     ]
    }
   ],
   "source": [
    "for i in d:\n",
    "    print(i) #It give you the keys of dictionary d"
   ]
  },
  {
   "cell_type": "code",
   "execution_count": 78,
   "id": "c646bfa6-e7a4-453c-bca4-9478e27f237d",
   "metadata": {},
   "outputs": [
    {
     "name": "stdout",
     "output_type": "stream",
     "text": [
      "Hello!\n",
      "how\n",
      "Are\n",
      "you\n"
     ]
    }
   ],
   "source": [
    "for i in d:\n",
    "    print(d[i]) #It give you the values of the respective keys in dictionary d"
   ]
  },
  {
   "cell_type": "markdown",
   "id": "02804e08-1772-45de-b33a-4fbc16696819",
   "metadata": {},
   "source": [
    "<!-- Summary of range():\n",
    "1.range(n) → Starts from 0 to n-1.\n",
    "\n",
    "2.range(start, stop) → Starts from start to stop-1.\n",
    "\n",
    "3.range(start, stop, step) → Starts from start to stop-1 with a step. -->"
   ]
  },
  {
   "cell_type": "markdown",
   "id": "7b61743a-129d-4f7f-8bed-e75c265aba26",
   "metadata": {},
   "source": [
    "Summary of range():\n",
    "\n",
    "range(n) → Starts from 0 to n-1.\n",
    "\n",
    "range(start, stop) → Starts from start to stop-1.\n",
    "\n",
    "range(start, stop, step) → Starts from start to stop-1 with a step."
   ]
  },
  {
   "cell_type": "code",
   "execution_count": 85,
   "id": "24d38f3c-b685-47a8-81b3-0a90b15bf2dd",
   "metadata": {},
   "outputs": [
    {
     "name": "stdout",
     "output_type": "stream",
     "text": [
      "0\n",
      "2\n",
      "4\n",
      "6\n",
      "8\n"
     ]
    }
   ],
   "source": [
    "for i in range(0, 10, 2):\n",
    "    print(i)"
   ]
  },
  {
   "cell_type": "code",
   "execution_count": 87,
   "id": "510f96af-df01-42e7-87cb-70f791379096",
   "metadata": {},
   "outputs": [],
   "source": [
    "l=[[2,3,4,5,6,7],(4,5,6,7,8,9),(5,6,7,8,9),{\"k1\":\"Hello!\",\"k2\":\"how\",\"k3\":\"Are\",\"k4\":\"you\"}]"
   ]
  },
  {
   "cell_type": "code",
   "execution_count": 91,
   "id": "b6d16711-eab3-41ee-bb84-3461b34c1bc5",
   "metadata": {},
   "outputs": [
    {
     "name": "stdout",
     "output_type": "stream",
     "text": [
      "2-->3-->4-->5-->6-->7-->"
     ]
    }
   ],
   "source": [
    "#extracting the list from l\n",
    "for i in l:\n",
    "    if(type(i)==list):\n",
    "        for j in i:\n",
    "            print(j,end=\"-->\")"
   ]
  },
  {
   "cell_type": "code",
   "execution_count": 113,
   "id": "ba321c9d-509d-44dd-b930-c8705d70ac3c",
   "metadata": {},
   "outputs": [
    {
     "name": "stdout",
     "output_type": "stream",
     "text": [
      "4-->5-->6-->7-->8-->9-->\n",
      "\n",
      "5-->6-->7-->8-->9-->\n",
      "\n"
     ]
    }
   ],
   "source": [
    "#extracting the tuples from l\n",
    "for i in l:\n",
    "    if(type(i)==tuple):\n",
    "        for j in i:\n",
    "            print(j,end=\"-->\")\n",
    "        print(\"\\n\")"
   ]
  },
  {
   "cell_type": "code",
   "execution_count": 107,
   "id": "fa9f152f-3474-479f-b0ad-4321beae7494",
   "metadata": {},
   "outputs": [
    {
     "name": "stdout",
     "output_type": "stream",
     "text": [
      "k1 : Hello!\n",
      "k2 : how\n",
      "k3 : Are\n",
      "k4 : you\n"
     ]
    }
   ],
   "source": [
    "#extracting the dict from l\n",
    "for i in l:\n",
    "    if(type(i)==dict):\n",
    "        for j in i:\n",
    "            print(j,\":\",i[j])"
   ]
  },
  {
   "cell_type": "code",
   "execution_count": 115,
   "id": "9848354c-5186-4932-bbc5-ff459d15565b",
   "metadata": {},
   "outputs": [
    {
     "name": "stdout",
     "output_type": "stream",
     "text": [
      "2 3 4 5 6 7 \n",
      "\n",
      "4 5 6 7 8 9 \n",
      "\n",
      "5 6 7 8 9 \n",
      "\n",
      "\n",
      "\n"
     ]
    }
   ],
   "source": [
    "#printing the all numeric values\n",
    "\n",
    "for i in l:\n",
    "    if isinstance(i, (int, float)):\n",
    "        print(i)\n",
    "        print(\"\\n\")\n",
    "    else:\n",
    "        for j in i:\n",
    "            if isinstance(j, (int, float)):\n",
    "                print(j,end=\" \")\n",
    "        print(\"\\n\")"
   ]
  },
  {
   "cell_type": "markdown",
   "id": "ae2c04ba-d786-4e39-b859-c315a54fcd79",
   "metadata": {},
   "source": [
    "**WHILE LOOP**"
   ]
  },
  {
   "cell_type": "code",
   "execution_count": 59,
   "id": "b25f8c96-4d3a-4a77-943f-d9cc722f768a",
   "metadata": {},
   "outputs": [
    {
     "name": "stdout",
     "output_type": "stream",
     "text": [
      "1\n",
      "2\n",
      "3\n",
      "4\n",
      "5\n",
      "6\n",
      "7\n",
      "8\n",
      "9\n",
      "10\n"
     ]
    }
   ],
   "source": [
    "a = 1   # Initialize variable 'a' with value 1\n",
    "b = 10  # Initialize variable 'b' with value 10\n",
    "\n",
    "while a <= b:    # Loop runs as long as 'a' is less than or equal to 'b'\n",
    "    print(a)     # Print the current value of 'a'\n",
    "    a += 1       # Increment 'a' by 1 in each iteration\n"
   ]
  },
  {
   "cell_type": "code",
   "execution_count": 61,
   "id": "6797de33-3838-459b-a3fe-92bfa57a0208",
   "metadata": {},
   "outputs": [
    {
     "name": "stdout",
     "output_type": "stream",
     "text": [
      "1\n",
      "3\n",
      "5\n",
      "7\n",
      "9\n",
      "No match\n"
     ]
    }
   ],
   "source": [
    "a = 1       # Initialize variable 'a' with 1\n",
    "b = 10      # Initialize variable 'b' with 10\n",
    "\n",
    "while a <= b:         # Loop runs while 'a' is less than or equal to 'b'\n",
    "    print(a)          # Print the current value of 'a'\n",
    "    a += 2            # Increment 'a' by 2 in each iteration\n",
    "else:\n",
    "    print(\"No match\") # This runs when the while loop finishes normally (not interrupted by 'break')"
   ]
  },
  {
   "cell_type": "code",
   "execution_count": null,
   "id": "0d556a7b-292f-451c-b3c3-58493adccbce",
   "metadata": {},
   "outputs": [],
   "source": []
  },
  {
   "cell_type": "code",
   "execution_count": null,
   "id": "376cc495-b28f-48e2-81c5-1ad6e433568f",
   "metadata": {},
   "outputs": [],
   "source": []
  },
  {
   "cell_type": "markdown",
   "id": "60ba48c4-5788-415c-b8ed-b279b8466cc4",
   "metadata": {},
   "source": [
    "**Do While**"
   ]
  },
  {
   "cell_type": "markdown",
   "id": "1bcc8e74-4c81-482d-8b34-3d927a185ac6",
   "metadata": {},
   "source": [
    "Python does not have a built-in do-while loop like Java or C/C++."
   ]
  },
  {
   "cell_type": "markdown",
   "id": "e1179ff0-2caf-42bd-a1e1-bc9d5da84f83",
   "metadata": {},
   "source": [
    "This mimics do-while: the body runs first, and then the condition is checked."
   ]
  },
  {
   "cell_type": "code",
   "execution_count": 67,
   "id": "77ed905d-fa00-4887-8e98-68977b23729c",
   "metadata": {},
   "outputs": [
    {
     "name": "stdout",
     "output_type": "stream",
     "text": [
      "1\n",
      "2\n",
      "3\n",
      "4\n",
      "5\n"
     ]
    }
   ],
   "source": [
    "i = 1           # Initialize the variable 'i' with 1\n",
    "\n",
    "while True:     # Start an infinite loop (equivalent to a 'do-while' loop in other languages)\n",
    "    print(i)    # Print the current value of 'i'\n",
    "    i += 1      # Increment 'i' by 1 after each loop iteration\n",
    "    if i > 5:   # Check if 'i' is greater than 5\n",
    "        break   # Exit the loop when 'i' becomes greater than 5\n"
   ]
  },
  {
   "cell_type": "code",
   "execution_count": null,
   "id": "15ed10f8-3464-4de9-9857-bef5bb4ae789",
   "metadata": {},
   "outputs": [],
   "source": []
  }
 ],
 "metadata": {
  "kernelspec": {
   "display_name": "Python [conda env:base] *",
   "language": "python",
   "name": "conda-base-py"
  },
  "language_info": {
   "codemirror_mode": {
    "name": "ipython",
    "version": 3
   },
   "file_extension": ".py",
   "mimetype": "text/x-python",
   "name": "python",
   "nbconvert_exporter": "python",
   "pygments_lexer": "ipython3",
   "version": "3.12.7"
  }
 },
 "nbformat": 4,
 "nbformat_minor": 5
}
